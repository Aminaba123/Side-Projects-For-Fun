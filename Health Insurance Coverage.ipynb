{
 "cells": [
  {
   "cell_type": "markdown",
   "metadata": {},
   "source": [
    "# Loading the Libraries"
   ]
  },
  {
   "cell_type": "code",
   "execution_count": 2,
   "metadata": {
    "collapsed": true
   },
   "outputs": [],
   "source": [
    "import numpy as np"
   ]
  },
  {
   "cell_type": "code",
   "execution_count": 3,
   "metadata": {
    "collapsed": true
   },
   "outputs": [],
   "source": [
    "import pandas as pd"
   ]
  },
  {
   "cell_type": "code",
   "execution_count": 4,
   "metadata": {
    "collapsed": true
   },
   "outputs": [],
   "source": [
    "import matplotlib.pyplot as plt\n",
    "%matplotlib inline"
   ]
  },
  {
   "cell_type": "code",
   "execution_count": 5,
   "metadata": {
    "collapsed": true
   },
   "outputs": [],
   "source": [
    "import seaborn as sns"
   ]
  },
  {
   "cell_type": "code",
   "execution_count": 6,
   "metadata": {
    "collapsed": true
   },
   "outputs": [],
   "source": [
    "from subprocess import check_output"
   ]
  },
  {
   "cell_type": "code",
   "execution_count": 7,
   "metadata": {
    "collapsed": true
   },
   "outputs": [],
   "source": [
    "import re"
   ]
  },
  {
   "cell_type": "markdown",
   "metadata": {},
   "source": [
    "# Reading the Data"
   ]
  },
  {
   "cell_type": "code",
   "execution_count": 8,
   "metadata": {
    "collapsed": true
   },
   "outputs": [],
   "source": [
    "health = pd.read_csv('states.csv')"
   ]
  },
  {
   "cell_type": "code",
   "execution_count": 10,
   "metadata": {
    "collapsed": false
   },
   "outputs": [],
   "source": [
    "health_data = health\n",
    "col_name = health_data.keys()"
   ]
  },
  {
   "cell_type": "code",
   "execution_count": 11,
   "metadata": {
    "collapsed": true
   },
   "outputs": [],
   "source": [
    "num_data = pd.DataFrame() # storing numerical values"
   ]
  },
  {
   "cell_type": "code",
   "execution_count": 23,
   "metadata": {
    "collapsed": false
   },
   "outputs": [],
   "source": [
    "for r in health_data:\n",
    "    #print(type(raw_data[r][0]))\n",
    "    if type(health_data[r][0]) == str:\n",
    "        #print(raw_data[r][0])\n",
    "        if re.search('\\$', health_data[r][0]) is not None:\n",
    "            for i,row in enumerate(health_data[r]):\n",
    "                \n",
    "                temp = float(row.strip('$ ')) # strip '$' and accidental space ''\n",
    "                health_data[r][i] = temp\n",
    "        elif re.search('%', health_data[r][0]) is not None:\n",
    "            #print(r)\n",
    "            for i,row in enumerate(health_data[r]):\n",
    "                \n",
    "                temp = float(row.strip('% '))/100 # strip '%' and accidental space ''\n",
    "                health_data[r][i] = temp\n",
    "                #print(row)\n",
    "for r in health_data:\n",
    "    if type(health_data[r][0]) != str:\n",
    "        num_data[r] = health_data[r]"
   ]
  },
  {
   "cell_type": "code",
   "execution_count": 25,
   "metadata": {
    "collapsed": false
   },
   "outputs": [
    {
     "data": {
      "text/plain": [
       "Index(['State', 'Uninsured Rate (2010)', 'Uninsured Rate (2015)',\n",
       "       'Uninsured Rate Change (2010-2015)',\n",
       "       'Health Insurance Coverage Change (2010-2015)',\n",
       "       'Employer Health Insurance Coverage (2015)',\n",
       "       'Marketplace Health Insurance Coverage (2016)',\n",
       "       'Marketplace Tax Credits (2016)', 'Average Monthly Tax Credit (2016)',\n",
       "       'State Medicaid Expansion (2016)', 'Medicaid Enrollment (2013)',\n",
       "       'Medicaid Enrollment (2016)', 'Medicaid Enrollment Change (2013-2016)',\n",
       "       'Medicare Enrollment (2016)'],\n",
       "      dtype='object')"
      ]
     },
     "execution_count": 25,
     "metadata": {},
     "output_type": "execute_result"
    }
   ],
   "source": [
    "health.columns"
   ]
  },
  {
   "cell_type": "code",
   "execution_count": 27,
   "metadata": {
    "collapsed": false
   },
   "outputs": [
    {
     "data": {
      "text/html": [
       "<div>\n",
       "<table border=\"1\" class=\"dataframe\">\n",
       "  <thead>\n",
       "    <tr style=\"text-align: right;\">\n",
       "      <th></th>\n",
       "      <th>State</th>\n",
       "      <th>Uninsured Rate (2010)</th>\n",
       "      <th>Uninsured Rate (2015)</th>\n",
       "      <th>Uninsured Rate Change (2010-2015)</th>\n",
       "      <th>Health Insurance Coverage Change (2010-2015)</th>\n",
       "      <th>Employer Health Insurance Coverage (2015)</th>\n",
       "      <th>Marketplace Health Insurance Coverage (2016)</th>\n",
       "      <th>Marketplace Tax Credits (2016)</th>\n",
       "      <th>Average Monthly Tax Credit (2016)</th>\n",
       "      <th>State Medicaid Expansion (2016)</th>\n",
       "      <th>Medicaid Enrollment (2013)</th>\n",
       "      <th>Medicaid Enrollment (2016)</th>\n",
       "      <th>Medicaid Enrollment Change (2013-2016)</th>\n",
       "      <th>Medicare Enrollment (2016)</th>\n",
       "    </tr>\n",
       "  </thead>\n",
       "  <tbody>\n",
       "    <tr>\n",
       "      <th>0</th>\n",
       "      <td>Alabama</td>\n",
       "      <td>0.146</td>\n",
       "      <td>0.101</td>\n",
       "      <td>-0.045</td>\n",
       "      <td>215000</td>\n",
       "      <td>2545000</td>\n",
       "      <td>165534</td>\n",
       "      <td>152206</td>\n",
       "      <td>310</td>\n",
       "      <td>False</td>\n",
       "      <td>799176.0</td>\n",
       "      <td>910775</td>\n",
       "      <td>111599.0</td>\n",
       "      <td>989855</td>\n",
       "    </tr>\n",
       "    <tr>\n",
       "      <th>1</th>\n",
       "      <td>Alaska</td>\n",
       "      <td>0.199</td>\n",
       "      <td>0.149</td>\n",
       "      <td>-0.05</td>\n",
       "      <td>36000</td>\n",
       "      <td>390000</td>\n",
       "      <td>17995</td>\n",
       "      <td>16205</td>\n",
       "      <td>750</td>\n",
       "      <td>True</td>\n",
       "      <td>122334.0</td>\n",
       "      <td>166625</td>\n",
       "      <td>44291.0</td>\n",
       "      <td>88966</td>\n",
       "    </tr>\n",
       "    <tr>\n",
       "      <th>2</th>\n",
       "      <td>Arizona</td>\n",
       "      <td>0.169</td>\n",
       "      <td>0.108</td>\n",
       "      <td>-0.061</td>\n",
       "      <td>410000</td>\n",
       "      <td>3288000</td>\n",
       "      <td>179445</td>\n",
       "      <td>124346</td>\n",
       "      <td>230</td>\n",
       "      <td>True</td>\n",
       "      <td>1201770.0</td>\n",
       "      <td>1716198</td>\n",
       "      <td>514428.0</td>\n",
       "      <td>1175624</td>\n",
       "    </tr>\n",
       "    <tr>\n",
       "      <th>3</th>\n",
       "      <td>Arkansas</td>\n",
       "      <td>0.175</td>\n",
       "      <td>0.095</td>\n",
       "      <td>-0.08</td>\n",
       "      <td>234000</td>\n",
       "      <td>1365000</td>\n",
       "      <td>63357</td>\n",
       "      <td>56843</td>\n",
       "      <td>306</td>\n",
       "      <td>True</td>\n",
       "      <td>556851.0</td>\n",
       "      <td>920194</td>\n",
       "      <td>363343.0</td>\n",
       "      <td>606146</td>\n",
       "    </tr>\n",
       "    <tr>\n",
       "      <th>4</th>\n",
       "      <td>California</td>\n",
       "      <td>0.185</td>\n",
       "      <td>0.086</td>\n",
       "      <td>-0.099</td>\n",
       "      <td>3826000</td>\n",
       "      <td>19552000</td>\n",
       "      <td>1415428</td>\n",
       "      <td>1239893</td>\n",
       "      <td>309</td>\n",
       "      <td>True</td>\n",
       "      <td>7755381.0</td>\n",
       "      <td>11843081</td>\n",
       "      <td>4087700.0</td>\n",
       "      <td>5829777</td>\n",
       "    </tr>\n",
       "  </tbody>\n",
       "</table>\n",
       "</div>"
      ],
      "text/plain": [
       "        State Uninsured Rate (2010) Uninsured Rate (2015)  \\\n",
       "0    Alabama                  0.146                 0.101   \n",
       "1     Alaska                  0.199                 0.149   \n",
       "2    Arizona                  0.169                 0.108   \n",
       "3   Arkansas                  0.175                 0.095   \n",
       "4  California                 0.185                 0.086   \n",
       "\n",
       "  Uninsured Rate Change (2010-2015)  \\\n",
       "0                            -0.045   \n",
       "1                             -0.05   \n",
       "2                            -0.061   \n",
       "3                             -0.08   \n",
       "4                            -0.099   \n",
       "\n",
       "   Health Insurance Coverage Change (2010-2015)  \\\n",
       "0                                        215000   \n",
       "1                                         36000   \n",
       "2                                        410000   \n",
       "3                                        234000   \n",
       "4                                       3826000   \n",
       "\n",
       "   Employer Health Insurance Coverage (2015)  \\\n",
       "0                                    2545000   \n",
       "1                                     390000   \n",
       "2                                    3288000   \n",
       "3                                    1365000   \n",
       "4                                   19552000   \n",
       "\n",
       "   Marketplace Health Insurance Coverage (2016)  \\\n",
       "0                                        165534   \n",
       "1                                         17995   \n",
       "2                                        179445   \n",
       "3                                         63357   \n",
       "4                                       1415428   \n",
       "\n",
       "   Marketplace Tax Credits (2016) Average Monthly Tax Credit (2016)  \\\n",
       "0                          152206                               310   \n",
       "1                           16205                               750   \n",
       "2                          124346                               230   \n",
       "3                           56843                               306   \n",
       "4                         1239893                               309   \n",
       "\n",
       "  State Medicaid Expansion (2016)  Medicaid Enrollment (2013)  \\\n",
       "0                           False                    799176.0   \n",
       "1                            True                    122334.0   \n",
       "2                            True                   1201770.0   \n",
       "3                            True                    556851.0   \n",
       "4                            True                   7755381.0   \n",
       "\n",
       "   Medicaid Enrollment (2016)  Medicaid Enrollment Change (2013-2016)  \\\n",
       "0                      910775                                111599.0   \n",
       "1                      166625                                 44291.0   \n",
       "2                     1716198                                514428.0   \n",
       "3                      920194                                363343.0   \n",
       "4                    11843081                               4087700.0   \n",
       "\n",
       "   Medicare Enrollment (2016)  \n",
       "0                      989855  \n",
       "1                       88966  \n",
       "2                     1175624  \n",
       "3                      606146  \n",
       "4                     5829777  "
      ]
     },
     "execution_count": 27,
     "metadata": {},
     "output_type": "execute_result"
    }
   ],
   "source": [
    "health.head()"
   ]
  },
  {
   "cell_type": "markdown",
   "metadata": {},
   "source": [
    "# Checking for NA Values"
   ]
  },
  {
   "cell_type": "code",
   "execution_count": 22,
   "metadata": {
    "collapsed": false
   },
   "outputs": [
    {
     "data": {
      "text/plain": [
       "<matplotlib.axes._subplots.AxesSubplot at 0x18c13051a20>"
      ]
     },
     "execution_count": 22,
     "metadata": {},
     "output_type": "execute_result"
    },
    {
     "data": {
      "image/png": "[encoded data removed]",
      "text/plain": [
       "<matplotlib.figure.Figure at 0x18c13056630>"
      ]
     },
     "metadata": {},
     "output_type": "display_data"
    }
   ],
   "source": [
    "sns.heatmap(health.isnull(),yticklabels=False,cbar=False,cmap='coolwarm')"
   ]
  },
  {
   "cell_type": "markdown",
   "metadata": {},
   "source": [
    "# Exploratory Data Analysis"
   ]
  },
  {
   "cell_type": "code",
   "execution_count": 18,
   "metadata": {
    "collapsed": false
   },
   "outputs": [
    {
     "data": {
      "text/plain": [
       "[<matplotlib.text.Text at 0x18c12f01b70>,\n",
       " <matplotlib.text.Text at 0x18c12f04470>,\n",
       " <matplotlib.text.Text at 0x18c12fd4b38>,\n",
       " <matplotlib.text.Text at 0x18c12fda630>,\n",
       " <matplotlib.text.Text at 0x18c12fe0128>,\n",
       " <matplotlib.text.Text at 0x18c12fe0be0>,\n",
       " <matplotlib.text.Text at 0x18c12fe36d8>,\n",
       " <matplotlib.text.Text at 0x18c12fe71d0>,\n",
       " <matplotlib.text.Text at 0x18c12fe7c88>,\n",
       " <matplotlib.text.Text at 0x18c12fec780>,\n",
       " <matplotlib.text.Text at 0x18c12fef278>,\n",
       " <matplotlib.text.Text at 0x18c12fefd30>,\n",
       " <matplotlib.text.Text at 0x18c12ff3828>,\n",
       " <matplotlib.text.Text at 0x18c12ff8320>,\n",
       " <matplotlib.text.Text at 0x18c12ff8dd8>,\n",
       " <matplotlib.text.Text at 0x18c12ffc8d0>,\n",
       " <matplotlib.text.Text at 0x18c130013c8>,\n",
       " <matplotlib.text.Text at 0x18c13001e80>,\n",
       " <matplotlib.text.Text at 0x18c13004978>,\n",
       " <matplotlib.text.Text at 0x18c13008470>,\n",
       " <matplotlib.text.Text at 0x18c13008f28>,\n",
       " <matplotlib.text.Text at 0x18c1300ca20>,\n",
       " <matplotlib.text.Text at 0x18c13011518>,\n",
       " <matplotlib.text.Text at 0x18c13011fd0>,\n",
       " <matplotlib.text.Text at 0x18c13015ac8>,\n",
       " <matplotlib.text.Text at 0x18c1301b5c0>,\n",
       " <matplotlib.text.Text at 0x18c1301d0b8>,\n",
       " <matplotlib.text.Text at 0x18c1301db70>,\n",
       " <matplotlib.text.Text at 0x18c13023668>,\n",
       " <matplotlib.text.Text at 0x18c13025160>,\n",
       " <matplotlib.text.Text at 0x18c13025c18>,\n",
       " <matplotlib.text.Text at 0x18c1302a710>,\n",
       " <matplotlib.text.Text at 0x18c1302f208>,\n",
       " <matplotlib.text.Text at 0x18c1302fcc0>,\n",
       " <matplotlib.text.Text at 0x18c130337b8>,\n",
       " <matplotlib.text.Text at 0x18c130372b0>,\n",
       " <matplotlib.text.Text at 0x18c13037d68>,\n",
       " <matplotlib.text.Text at 0x18c1303b860>,\n",
       " <matplotlib.text.Text at 0x18c1303f358>,\n",
       " <matplotlib.text.Text at 0x18c1303fe10>,\n",
       " <matplotlib.text.Text at 0x18c13045908>,\n",
       " <matplotlib.text.Text at 0x18c13049400>,\n",
       " <matplotlib.text.Text at 0x18c13049eb8>,\n",
       " <matplotlib.text.Text at 0x18c1304d9b0>,\n",
       " <matplotlib.text.Text at 0x18c130514a8>,\n",
       " <matplotlib.text.Text at 0x18c13051f60>,\n",
       " <matplotlib.text.Text at 0x18c13056a58>,\n",
       " <matplotlib.text.Text at 0x18c1305a550>,\n",
       " <matplotlib.text.Text at 0x18c1305f048>,\n",
       " <matplotlib.text.Text at 0x18c1305fb00>,\n",
       " <matplotlib.text.Text at 0x18c130625f8>,\n",
       " <matplotlib.text.Text at 0x18c130670f0>]"
      ]
     },
     "execution_count": 18,
     "metadata": {},
     "output_type": "execute_result"
    },
    {
     "data": {
      "image/png": "[encoded data removed]",
      "text/plain": [
       "<matplotlib.figure.Figure at 0x18c12bb1860>"
      ]
     },
     "metadata": {},
     "output_type": "display_data"
    }
   ],
   "source": [
    "fig, ax1 = plt.subplots(figsize=(10, 10))\n",
    "#ax.matshow(num_data.corr())\n",
    "\n",
    "\n",
    "#plt.xticks(range(len(num_data.columns)), num_data.columns, rotation='vertical');\n",
    "#plt.yticks(range(len(num_data.columns)), num_data.columns);\n",
    "\n",
    "y = health_data['Uninsured Rate (2010)']\n",
    "#print(y)\n",
    "x = range(len(y))\n",
    "plt.bar(x, y)\n",
    "ax1.set_xticks(x)\n",
    "ax1.set_xticklabels(health_data['State'], rotation='vertical')"
   ]
  },
  {
   "cell_type": "markdown",
   "metadata": {},
   "source": []
  },
  {
   "cell_type": "code",
   "execution_count": null,
   "metadata": {
    "collapsed": false
   },
   "outputs": [],
   "source": []
  },
  {
   "cell_type": "code",
   "execution_count": null,
   "metadata": {
    "collapsed": false
   },
   "outputs": [],
   "source": []
  },
  {
   "cell_type": "code",
   "execution_count": null,
   "metadata": {
    "collapsed": true
   },
   "outputs": [],
   "source": []
  }
 ],
 "metadata": {
  "anaconda-cloud": {},
  "kernelspec": {
   "display_name": "Python [conda root]",
   "language": "python",
   "name": "conda-root-py"
  },
  "language_info": {
   "codemirror_mode": {
    "name": "ipython",
    "version": 3
   },
   "file_extension": ".py",
   "mimetype": "text/x-python",
   "name": "python",
   "nbconvert_exporter": "python",
   "pygments_lexer": "ipython3",
   "version": "3.5.2"
  }
 },
 "nbformat": 4,
 "nbformat_minor": 2
}
