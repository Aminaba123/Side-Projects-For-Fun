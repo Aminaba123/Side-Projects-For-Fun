{
 "cells": [
  {
   "cell_type": "markdown",
   "metadata": {},
   "source": [
    "# Loading the Libraries"
   ]
  },
  {
   "cell_type": "code",
   "execution_count": 1,
   "metadata": {
    "collapsed": true
   },
   "outputs": [],
   "source": [
    "import numpy as np"
   ]
  },
  {
   "cell_type": "code",
   "execution_count": 2,
   "metadata": {
    "collapsed": true
   },
   "outputs": [],
   "source": [
    "import pandas as pd"
   ]
  },
  {
   "cell_type": "code",
   "execution_count": 3,
   "metadata": {
    "collapsed": true
   },
   "outputs": [],
   "source": [
    "import seaborn as sns"
   ]
  },
  {
   "cell_type": "code",
   "execution_count": 4,
   "metadata": {
    "collapsed": true
   },
   "outputs": [],
   "source": [
    "import matplotlib.pyplot as plt\n",
    "%matplotlib inline"
   ]
  },
  {
   "cell_type": "code",
   "execution_count": 5,
   "metadata": {
    "collapsed": true
   },
   "outputs": [],
   "source": [
    "import string"
   ]
  },
  {
   "cell_type": "code",
   "execution_count": 6,
   "metadata": {
    "collapsed": true
   },
   "outputs": [],
   "source": [
    "import warnings"
   ]
  },
  {
   "cell_type": "markdown",
   "metadata": {},
   "source": [
    "# Reading the Data"
   ]
  },
  {
   "cell_type": "code",
   "execution_count": 7,
   "metadata": {
    "collapsed": true
   },
   "outputs": [],
   "source": [
    "contest = pd.read_csv('./contest_data.csv',\n",
    "                 dtype={'contest_key': np.int32},\n",
    "                 parse_dates=['date'])"
   ]
  },
  {
   "cell_type": "code",
   "execution_count": 8,
   "metadata": {
    "collapsed": true
   },
   "outputs": [],
   "source": [
    "chicken = pd.read_csv('./results_chicken.csv',\n",
    "                         dtype={'contest_key': np.int32, 'place': np.int32})\n",
    "ribs = pd.read_csv('./results_ribs.csv',\n",
    "                         dtype={'contest_key': np.int32, 'place': np.int32})\n",
    "pork = pd.read_csv('./results_pork.csv',\n",
    "                         dtype={'contest_key': np.int32, 'place': np.int32})\n",
    "brisk = pd.read_csv('./results_brisket.csv',\n",
    "                         dtype={'contest_key': np.int32, 'place': np.int32})\n",
    "overall = pd.read_csv('./results_overall.csv',\n",
    "                         dtype={'contest_key': np.int32, 'place': np.int32})"
   ]
  },
  {
   "cell_type": "markdown",
   "metadata": {},
   "source": [
    "# Storing the Results into a Dictionary"
   ]
  },
  {
   "cell_type": "code",
   "execution_count": 9,
   "metadata": {},
   "outputs": [
    {
     "name": "stdout",
     "output_type": "stream",
     "text": [
      "Ready to go!\n"
     ]
    }
   ],
   "source": [
    "cat_dict = {\"chicken\": chicken, \n",
    "            \"ribs\": ribs, \n",
    "            \"pork\": pork, \n",
    "            \"brisket\": brisk, \n",
    "            \"overall\": overall}\n",
    "\n",
    "print(\"Ready to go!\")"
   ]
  },
  {
   "cell_type": "markdown",
   "metadata": {},
   "source": [
    "# Contests Dataframe"
   ]
  },
  {
   "cell_type": "code",
   "execution_count": 10,
   "metadata": {},
   "outputs": [
    {
     "name": "stdout",
     "output_type": "stream",
     "text": [
      "Columns: ['contest_key', 'date', 'title', 'location_str', 'city', 'state', 'state_full', 'prize', 'cbj_percentage', 'is_championship', 'is_standard', 'url']\n",
      "\n",
      "Number of rows 1559\n",
      "\n"
     ]
    }
   ],
   "source": [
    "print(\"Columns: \" + str(list(contest.columns)) + \"\\n\")\n",
    "print(\"Number of rows \" + str(contest.shape[0]) + \"\\n\")"
   ]
  },
  {
   "cell_type": "code",
   "execution_count": 11,
   "metadata": {},
   "outputs": [
    {
     "data": {
      "text/html": [
       "<div>\n",
       "<style>\n",
       "    .dataframe thead tr:only-child th {\n",
       "        text-align: right;\n",
       "    }\n",
       "\n",
       "    .dataframe thead th {\n",
       "        text-align: left;\n",
       "    }\n",
       "\n",
       "    .dataframe tbody tr th {\n",
       "        vertical-align: top;\n",
       "    }\n",
       "</style>\n",
       "<table border=\"1\" class=\"dataframe\">\n",
       "  <thead>\n",
       "    <tr style=\"text-align: right;\">\n",
       "      <th></th>\n",
       "      <th>contest_key</th>\n",
       "      <th>date</th>\n",
       "      <th>title</th>\n",
       "      <th>location_str</th>\n",
       "      <th>city</th>\n",
       "      <th>state</th>\n",
       "      <th>state_full</th>\n",
       "      <th>prize</th>\n",
       "      <th>cbj_percentage</th>\n",
       "      <th>is_championship</th>\n",
       "      <th>is_standard</th>\n",
       "      <th>url</th>\n",
       "    </tr>\n",
       "  </thead>\n",
       "  <tbody>\n",
       "    <tr>\n",
       "      <th>0</th>\n",
       "      <td>1</td>\n",
       "      <td>2013-07-19</td>\n",
       "      <td>Wine, Brew  &amp; Bar-B-Que Too!</td>\n",
       "      <td>New Palestine, IN</td>\n",
       "      <td>New Palestine</td>\n",
       "      <td>IN</td>\n",
       "      <td>Indiana</td>\n",
       "      <td>10000.0</td>\n",
       "      <td>NaN</td>\n",
       "      <td>True</td>\n",
       "      <td>False</td>\n",
       "      <td>http://www.kcbs.us/event/4163/wine-brew-bar-b-...</td>\n",
       "    </tr>\n",
       "    <tr>\n",
       "      <th>1</th>\n",
       "      <td>2</td>\n",
       "      <td>2013-07-19</td>\n",
       "      <td>Griller's Cup</td>\n",
       "      <td>Laramie, WY</td>\n",
       "      <td>Laramie</td>\n",
       "      <td>WY</td>\n",
       "      <td>Wyoming</td>\n",
       "      <td>7000.0</td>\n",
       "      <td>100.0</td>\n",
       "      <td>True</td>\n",
       "      <td>False</td>\n",
       "      <td>http://www.kcbs.us/event/3926/grillers-cup</td>\n",
       "    </tr>\n",
       "    <tr>\n",
       "      <th>2</th>\n",
       "      <td>3</td>\n",
       "      <td>2013-07-19</td>\n",
       "      <td>Smoke on the Mountain - VA State BBQ Championship</td>\n",
       "      <td>Galax, VA</td>\n",
       "      <td>Galax</td>\n",
       "      <td>VA</td>\n",
       "      <td>Virginia</td>\n",
       "      <td>4100.0</td>\n",
       "      <td>100.0</td>\n",
       "      <td>True</td>\n",
       "      <td>True</td>\n",
       "      <td>http://www.kcbs.us/event/4367/smoke-on-the-mou...</td>\n",
       "    </tr>\n",
       "    <tr>\n",
       "      <th>3</th>\n",
       "      <td>4</td>\n",
       "      <td>2013-07-19</td>\n",
       "      <td>Blues, BBQ &amp; Bargains</td>\n",
       "      <td>Hays, KS</td>\n",
       "      <td>Hays</td>\n",
       "      <td>KS</td>\n",
       "      <td>Kansas</td>\n",
       "      <td>7500.0</td>\n",
       "      <td>74.0</td>\n",
       "      <td>True</td>\n",
       "      <td>False</td>\n",
       "      <td>http://www.kcbs.us/event/3860/blues-bbq-bargains</td>\n",
       "    </tr>\n",
       "    <tr>\n",
       "      <th>4</th>\n",
       "      <td>5</td>\n",
       "      <td>2013-07-19</td>\n",
       "      <td>BBQ'Loo &amp; Blues Too!</td>\n",
       "      <td>Waterloo, IA</td>\n",
       "      <td>Waterloo</td>\n",
       "      <td>IA</td>\n",
       "      <td>Iowa</td>\n",
       "      <td>10000.0</td>\n",
       "      <td>100.0</td>\n",
       "      <td>True</td>\n",
       "      <td>True</td>\n",
       "      <td>http://www.kcbs.us/event/4044/bbqloo-blues-too</td>\n",
       "    </tr>\n",
       "    <tr>\n",
       "      <th>5</th>\n",
       "      <td>6</td>\n",
       "      <td>2013-07-19</td>\n",
       "      <td>Cookin' on Kampeska: Wing Fling &amp; BBQ Thing</td>\n",
       "      <td>Watertown, SD</td>\n",
       "      <td>Watertown</td>\n",
       "      <td>SD</td>\n",
       "      <td>South Dakota</td>\n",
       "      <td>8175.0</td>\n",
       "      <td>100.0</td>\n",
       "      <td>True</td>\n",
       "      <td>True</td>\n",
       "      <td>http://www.kcbs.us/event/4054/cookin-on-kampes...</td>\n",
       "    </tr>\n",
       "    <tr>\n",
       "      <th>6</th>\n",
       "      <td>7</td>\n",
       "      <td>2013-07-19</td>\n",
       "      <td>Taste of Grand Rapids</td>\n",
       "      <td>Comstock Park, MI</td>\n",
       "      <td>Comstock Park</td>\n",
       "      <td>MI</td>\n",
       "      <td>Michigan</td>\n",
       "      <td>6350.0</td>\n",
       "      <td>100.0</td>\n",
       "      <td>True</td>\n",
       "      <td>False</td>\n",
       "      <td>http://www.kcbs.us/event/4309/taste-of-grand-r...</td>\n",
       "    </tr>\n",
       "    <tr>\n",
       "      <th>7</th>\n",
       "      <td>8</td>\n",
       "      <td>2013-07-19</td>\n",
       "      <td>RiverFest Red White and Que</td>\n",
       "      <td>Bellevue, NE</td>\n",
       "      <td>Bellevue</td>\n",
       "      <td>NE</td>\n",
       "      <td>Nebraska</td>\n",
       "      <td>7000.0</td>\n",
       "      <td>95.0</td>\n",
       "      <td>True</td>\n",
       "      <td>True</td>\n",
       "      <td>http://www.kcbs.us/event/4303/riverfest-red-wh...</td>\n",
       "    </tr>\n",
       "    <tr>\n",
       "      <th>8</th>\n",
       "      <td>9</td>\n",
       "      <td>2013-07-19</td>\n",
       "      <td>9th Annual WildBlue BBQ</td>\n",
       "      <td>Burlington, KS</td>\n",
       "      <td>Burlington</td>\n",
       "      <td>KS</td>\n",
       "      <td>Kansas</td>\n",
       "      <td>7130.0</td>\n",
       "      <td>94.0</td>\n",
       "      <td>True</td>\n",
       "      <td>False</td>\n",
       "      <td>http://www.kcbs.us/event/4062/9th-annual-wildb...</td>\n",
       "    </tr>\n",
       "    <tr>\n",
       "      <th>9</th>\n",
       "      <td>10</td>\n",
       "      <td>2013-07-19</td>\n",
       "      <td>Warren All American BBQ Festival</td>\n",
       "      <td>Warren, PA</td>\n",
       "      <td>Warren</td>\n",
       "      <td>PA</td>\n",
       "      <td>Pennsylvania</td>\n",
       "      <td>3000.0</td>\n",
       "      <td>100.0</td>\n",
       "      <td>True</td>\n",
       "      <td>True</td>\n",
       "      <td>http://www.kcbs.us/event/3889/warren-all-ameri...</td>\n",
       "    </tr>\n",
       "  </tbody>\n",
       "</table>\n",
       "</div>"
      ],
      "text/plain": [
       "   contest_key       date                                              title  \\\n",
       "0            1 2013-07-19                       Wine, Brew  & Bar-B-Que Too!   \n",
       "1            2 2013-07-19                                      Griller's Cup   \n",
       "2            3 2013-07-19  Smoke on the Mountain - VA State BBQ Championship   \n",
       "3            4 2013-07-19                              Blues, BBQ & Bargains   \n",
       "4            5 2013-07-19                               BBQ'Loo & Blues Too!   \n",
       "5            6 2013-07-19        Cookin' on Kampeska: Wing Fling & BBQ Thing   \n",
       "6            7 2013-07-19                              Taste of Grand Rapids   \n",
       "7            8 2013-07-19                        RiverFest Red White and Que   \n",
       "8            9 2013-07-19                            9th Annual WildBlue BBQ   \n",
       "9           10 2013-07-19                   Warren All American BBQ Festival   \n",
       "\n",
       "        location_str           city state    state_full    prize  \\\n",
       "0  New Palestine, IN  New Palestine    IN       Indiana  10000.0   \n",
       "1        Laramie, WY        Laramie    WY       Wyoming   7000.0   \n",
       "2          Galax, VA          Galax    VA      Virginia   4100.0   \n",
       "3           Hays, KS           Hays    KS        Kansas   7500.0   \n",
       "4       Waterloo, IA       Waterloo    IA          Iowa  10000.0   \n",
       "5      Watertown, SD      Watertown    SD  South Dakota   8175.0   \n",
       "6  Comstock Park, MI  Comstock Park    MI      Michigan   6350.0   \n",
       "7       Bellevue, NE       Bellevue    NE      Nebraska   7000.0   \n",
       "8     Burlington, KS     Burlington    KS        Kansas   7130.0   \n",
       "9         Warren, PA         Warren    PA  Pennsylvania   3000.0   \n",
       "\n",
       "   cbj_percentage  is_championship  is_standard  \\\n",
       "0             NaN             True        False   \n",
       "1           100.0             True        False   \n",
       "2           100.0             True         True   \n",
       "3            74.0             True        False   \n",
       "4           100.0             True         True   \n",
       "5           100.0             True         True   \n",
       "6           100.0             True        False   \n",
       "7            95.0             True         True   \n",
       "8            94.0             True        False   \n",
       "9           100.0             True         True   \n",
       "\n",
       "                                                 url  \n",
       "0  http://www.kcbs.us/event/4163/wine-brew-bar-b-...  \n",
       "1         http://www.kcbs.us/event/3926/grillers-cup  \n",
       "2  http://www.kcbs.us/event/4367/smoke-on-the-mou...  \n",
       "3   http://www.kcbs.us/event/3860/blues-bbq-bargains  \n",
       "4     http://www.kcbs.us/event/4044/bbqloo-blues-too  \n",
       "5  http://www.kcbs.us/event/4054/cookin-on-kampes...  \n",
       "6  http://www.kcbs.us/event/4309/taste-of-grand-r...  \n",
       "7  http://www.kcbs.us/event/4303/riverfest-red-wh...  \n",
       "8  http://www.kcbs.us/event/4062/9th-annual-wildb...  \n",
       "9  http://www.kcbs.us/event/3889/warren-all-ameri...  "
      ]
     },
     "execution_count": 11,
     "metadata": {},
     "output_type": "execute_result"
    }
   ],
   "source": [
    "contest.head(10)"
   ]
  },
  {
   "cell_type": "markdown",
   "metadata": {},
   "source": [
    "# Looking at the Ribs"
   ]
  },
  {
   "cell_type": "code",
   "execution_count": 12,
   "metadata": {},
   "outputs": [
    {
     "name": "stdout",
     "output_type": "stream",
     "text": [
      "Columns: ['contest_key', 'place', 'score', 'team_name']\n",
      "\n",
      "Number of rows 61256\n",
      "\n",
      "First 5 rows: \n",
      "\n",
      "Average number of ribs submissions per tournament: 39\n"
     ]
    }
   ],
   "source": [
    "print(\"Columns: \" + str(list(ribs.columns)) + \"\\n\")\n",
    "print(\"Number of rows \" + str(ribs.shape[0]) + \"\\n\")\n",
    "print(\"First 5 rows: \\n\")\n",
    "print(\"Average number of ribs submissions per tournament: \" + str(int(ribs.shape[0] / contest.shape[0])))"
   ]
  },
  {
   "cell_type": "code",
   "execution_count": 13,
   "metadata": {},
   "outputs": [
    {
     "data": {
      "text/html": [
       "<div>\n",
       "<style>\n",
       "    .dataframe thead tr:only-child th {\n",
       "        text-align: right;\n",
       "    }\n",
       "\n",
       "    .dataframe thead th {\n",
       "        text-align: left;\n",
       "    }\n",
       "\n",
       "    .dataframe tbody tr th {\n",
       "        vertical-align: top;\n",
       "    }\n",
       "</style>\n",
       "<table border=\"1\" class=\"dataframe\">\n",
       "  <thead>\n",
       "    <tr style=\"text-align: right;\">\n",
       "      <th></th>\n",
       "      <th>contest_key</th>\n",
       "      <th>place</th>\n",
       "      <th>score</th>\n",
       "      <th>team_name</th>\n",
       "    </tr>\n",
       "  </thead>\n",
       "  <tbody>\n",
       "    <tr>\n",
       "      <th>0</th>\n",
       "      <td>1</td>\n",
       "      <td>1</td>\n",
       "      <td>177.1544</td>\n",
       "      <td>ALL IN QUE</td>\n",
       "    </tr>\n",
       "    <tr>\n",
       "      <th>1</th>\n",
       "      <td>1</td>\n",
       "      <td>2</td>\n",
       "      <td>175.4172</td>\n",
       "      <td>THUNDER HOG BBQ</td>\n",
       "    </tr>\n",
       "    <tr>\n",
       "      <th>2</th>\n",
       "      <td>1</td>\n",
       "      <td>3</td>\n",
       "      <td>173.7028</td>\n",
       "      <td>BLUE CHIP BBQ</td>\n",
       "    </tr>\n",
       "    <tr>\n",
       "      <th>3</th>\n",
       "      <td>1</td>\n",
       "      <td>4</td>\n",
       "      <td>172.5944</td>\n",
       "      <td>ROB-A-QUE</td>\n",
       "    </tr>\n",
       "    <tr>\n",
       "      <th>4</th>\n",
       "      <td>1</td>\n",
       "      <td>5</td>\n",
       "      <td>172.5600</td>\n",
       "      <td>ONE2BBQ</td>\n",
       "    </tr>\n",
       "    <tr>\n",
       "      <th>5</th>\n",
       "      <td>1</td>\n",
       "      <td>6</td>\n",
       "      <td>171.4516</td>\n",
       "      <td>MONTY PIGTHON &amp; THE HOLY GRILL</td>\n",
       "    </tr>\n",
       "    <tr>\n",
       "      <th>6</th>\n",
       "      <td>1</td>\n",
       "      <td>7</td>\n",
       "      <td>170.2628</td>\n",
       "      <td>SQUEALERS AWARD WINNING BARBEQUE</td>\n",
       "    </tr>\n",
       "    <tr>\n",
       "      <th>7</th>\n",
       "      <td>1</td>\n",
       "      <td>8</td>\n",
       "      <td>169.1084</td>\n",
       "      <td>WARREN COUNTY PORK CHOPPERS</td>\n",
       "    </tr>\n",
       "    <tr>\n",
       "      <th>8</th>\n",
       "      <td>1</td>\n",
       "      <td>9</td>\n",
       "      <td>168.5600</td>\n",
       "      <td>Here for the Beer</td>\n",
       "    </tr>\n",
       "    <tr>\n",
       "      <th>9</th>\n",
       "      <td>1</td>\n",
       "      <td>10</td>\n",
       "      <td>167.9772</td>\n",
       "      <td>HOOSIER MARKET BARBEQUE</td>\n",
       "    </tr>\n",
       "  </tbody>\n",
       "</table>\n",
       "</div>"
      ],
      "text/plain": [
       "   contest_key  place     score                         team_name\n",
       "0            1      1  177.1544                        ALL IN QUE\n",
       "1            1      2  175.4172                   THUNDER HOG BBQ\n",
       "2            1      3  173.7028                     BLUE CHIP BBQ\n",
       "3            1      4  172.5944                         ROB-A-QUE\n",
       "4            1      5  172.5600                           ONE2BBQ\n",
       "5            1      6  171.4516    MONTY PIGTHON & THE HOLY GRILL\n",
       "6            1      7  170.2628  SQUEALERS AWARD WINNING BARBEQUE\n",
       "7            1      8  169.1084       WARREN COUNTY PORK CHOPPERS\n",
       "8            1      9  168.5600                 Here for the Beer\n",
       "9            1     10  167.9772           HOOSIER MARKET BARBEQUE"
      ]
     },
     "execution_count": 13,
     "metadata": {},
     "output_type": "execute_result"
    }
   ],
   "source": [
    "ribs.head(10)"
   ]
  },
  {
   "cell_type": "markdown",
   "metadata": {},
   "source": [
    "# Filtering by State"
   ]
  },
  {
   "cell_type": "code",
   "execution_count": 14,
   "metadata": {
    "collapsed": true
   },
   "outputs": [],
   "source": [
    "# function to aggregate all the scores for a given state within a given category\n",
    "def get_state_cat_results(state, category):\n",
    "    keys = contest[contest['state'] == state]['contest_key']\n",
    "    categorical = cat_dict[category].copy()\n",
    "    categorical = categorical[categorical['contest_key'].isin(keys)]\n",
    "    return categorical"
   ]
  },
  {
   "cell_type": "markdown",
   "metadata": {},
   "source": [
    "# Tenneessee as an Example"
   ]
  },
  {
   "cell_type": "code",
   "execution_count": 15,
   "metadata": {},
   "outputs": [
    {
     "name": "stdout",
     "output_type": "stream",
     "text": [
      "Tennessee chicken score stats:\n"
     ]
    },
    {
     "data": {
      "text/plain": [
       "count    2889.000000\n",
       "mean      167.627046\n",
       "std         8.542155\n",
       "min        20.000000\n",
       "25%       163.942800\n",
       "50%       169.108400\n",
       "75%       173.120000\n",
       "max       180.000000\n",
       "Name: score, dtype: float64"
      ]
     },
     "execution_count": 15,
     "metadata": {},
     "output_type": "execute_result"
    },
    {
     "data": {
      "image/png": "[encoded data removed]",
      "text/plain": [
       "<matplotlib.figure.Figure at 0x1d285737358>"
      ]
     },
     "metadata": {},
     "output_type": "display_data"
    }
   ],
   "source": [
    "tn_chicken = get_state_cat_results(\"TN\", \"chicken\")\n",
    "tn_chicken_scores = tn_chicken['score']\n",
    "print(\"Tennessee chicken score stats:\")\n",
    "# plot a histogram\n",
    "plt.figure()\n",
    "bin_count = int(tn_chicken_scores.max() / 10)\n",
    "_ = tn_chicken_scores.hist(bins=bin_count)\n",
    "tn_chicken_scores.describe()"
   ]
  },
  {
   "cell_type": "markdown",
   "metadata": {},
   "source": [
    "# Looking at California"
   ]
  },
  {
   "cell_type": "code",
   "execution_count": 16,
   "metadata": {},
   "outputs": [
    {
     "name": "stdout",
     "output_type": "stream",
     "text": [
      "California chicken score stats:\n"
     ]
    },
    {
     "data": {
      "text/plain": [
       "count    3635.000000\n",
       "mean      163.103354\n",
       "std        12.682944\n",
       "min        20.000000\n",
       "25%       158.234200\n",
       "50%       165.668400\n",
       "75%       170.840000\n",
       "max       180.000000\n",
       "Name: score, dtype: float64"
      ]
     },
     "execution_count": 16,
     "metadata": {},
     "output_type": "execute_result"
    },
    {
     "data": {
      "image/png": "[encoded data removed]",
      "text/plain": [
       "<matplotlib.figure.Figure at 0x1d2862e6c50>"
      ]
     },
     "metadata": {},
     "output_type": "display_data"
    }
   ],
   "source": [
    "ca_chicken = get_state_cat_results(\"CA\", \"chicken\")\n",
    "ca_chicken_scores = ca_chicken['score']\n",
    "print(\"California chicken score stats:\")\n",
    "# plot a histogram\n",
    "plt.figure()\n",
    "bin_count = int(ca_chicken_scores.max() / 10)\n",
    "_ = ca_chicken_scores.hist(bins=bin_count, color = 'red')\n",
    "ca_chicken_scores.describe()"
   ]
  },
  {
   "cell_type": "markdown",
   "metadata": {},
   "source": [
    "# Filtering by Year and Plotting the CDF"
   ]
  },
  {
   "cell_type": "code",
   "execution_count": 17,
   "metadata": {
    "collapsed": true
   },
   "outputs": [],
   "source": [
    "# function to aggregate all the scores for a given year within a given category\n",
    "def get_year_cat_results(year, category):\n",
    "    keys = contest[contest['date'].dt.year == year]['contest_key']\n",
    "    categorical = cat_dict[category].copy()\n",
    "    categorical = categorical[categorical['contest_key'].isin(keys)]\n",
    "    return categorical\n",
    "    \n",
    "# function to plot each subset's cumulative distribution function\n",
    "def plot_year_cdfs(years, category, lower_score_bound=0):\n",
    "    plt.figure()\n",
    "    for year in years:\n",
    "        # subset the results data\n",
    "        contest = get_year_cat_results(year, category)\n",
    "        score = contest['score']\n",
    "        # filter low scores\n",
    "        score = score[score >= lower_score_bound]\n",
    "        # plot CDF\n",
    "        x = np.sort(score)\n",
    "        y = np.arange(1, score.size + 1) / float(x.size)\n",
    "        plt.plot(x, y)\n",
    "    # label plot\n",
    "    plt.title(\"CDF of Yearly \" + category.title() + \" Scores\")\n",
    "    plt.xlabel(\"scores\")\n",
    "    plt.ylabel(\"probability\")\n",
    "    plt.legend(years, loc='best')"
   ]
  },
  {
   "cell_type": "code",
   "execution_count": 18,
   "metadata": {},
   "outputs": [
    {
     "data": {
      "image/png": "[encoded data removed]",
      "text/plain": [
       "<matplotlib.figure.Figure at 0x1d286520710>"
      ]
     },
     "metadata": {},
     "output_type": "display_data"
    },
    {
     "data": {
      "image/png": "[encoded data removed]",
      "text/plain": [
       "<matplotlib.figure.Figure at 0x1d2865207f0>"
      ]
     },
     "metadata": {},
     "output_type": "display_data"
    }
   ],
   "source": [
    "years = [2014, 2015, 2016]\n",
    "category = \"chicken\"\n",
    "plot_year_cdfs(years, category)\n",
    "plot_year_cdfs(years, category, lower_score_bound=120)"
   ]
  },
  {
   "cell_type": "markdown",
   "metadata": {},
   "source": [
    "# Comparing the Score Distributions Across States"
   ]
  },
  {
   "cell_type": "code",
   "execution_count": 19,
   "metadata": {},
   "outputs": [
    {
     "name": "stdout",
     "output_type": "stream",
     "text": [
      "['MO', 'KS', 'CA', 'GA', 'TN']\n"
     ]
    }
   ],
   "source": [
    "# Taking the top n states by number of contests:\n",
    "top_n = 5\n",
    "counts = contest['state'].value_counts()\n",
    "states = list(counts.head(top_n).index)\n",
    "# states = ['MA', 'NY', 'NH']\n",
    "\n",
    "print(states)"
   ]
  },
  {
   "cell_type": "code",
   "execution_count": 20,
   "metadata": {},
   "outputs": [
    {
     "data": {
      "image/png": "[encoded data removed]",
      "text/plain": [
       "<matplotlib.figure.Figure at 0x1d287686400>"
      ]
     },
     "metadata": {},
     "output_type": "display_data"
    },
    {
     "data": {
      "image/png": "[encoded data removed]",
      "text/plain": [
       "<matplotlib.figure.Figure at 0x1d2876864e0>"
      ]
     },
     "metadata": {},
     "output_type": "display_data"
    },
    {
     "data": {
      "image/png": "[encoded data removed]",
      "text/plain": [
       "<matplotlib.figure.Figure at 0x1d287733278>"
      ]
     },
     "metadata": {},
     "output_type": "display_data"
    },
    {
     "data": {
      "image/png": "[encoded data removed]",
      "text/plain": [
       "<matplotlib.figure.Figure at 0x1d2877c42b0>"
      ]
     },
     "metadata": {},
     "output_type": "display_data"
    }
   ],
   "source": [
    "# plot each subset's cumulative distribution function\n",
    "def plot_state_cdfs(states, category, lower_score_bound=0):\n",
    "    plt.figure()\n",
    "    for state in states:\n",
    "        # subset the results data\n",
    "        contest = get_state_cat_results(state, category)\n",
    "        score = contest['score']\n",
    "        # filter low scores\n",
    "        score = score[score >= lower_score_bound]\n",
    "        # plot CDF\n",
    "        x = np.sort(score)\n",
    "        y = np.arange(1, score.size + 1) / float(x.size)\n",
    "        plt.plot(x, y)\n",
    "    # label plot\n",
    "    plt.title(\"CDF of State \" + category.title() + \" Scores\")\n",
    "    plt.xlabel(\"scores\")\n",
    "    plt.ylabel(\"probability\")\n",
    "    plt.legend(states, loc='best')\n",
    "\n",
    "plot_state_cdfs(states, \"chicken\", lower_score_bound=120)\n",
    "plot_state_cdfs(states, \"ribs\", lower_score_bound=120)\n",
    "plot_state_cdfs(states, \"pork\", lower_score_bound=120)\n",
    "plot_state_cdfs(states, \"brisket\", lower_score_bound=120)\n"
   ]
  },
  {
   "cell_type": "markdown",
   "metadata": {},
   "source": [
    "# Looking at the Prize Money"
   ]
  },
  {
   "cell_type": "code",
   "execution_count": 21,
   "metadata": {},
   "outputs": [
    {
     "name": "stdout",
     "output_type": "stream",
     "text": [
      "Total prize across the dataset: $14111822.0\n"
     ]
    }
   ],
   "source": [
    "# get a list of the states in the data set (AK, HI, and ND are missing)\n",
    "states = list(contest['state'].unique())\n",
    "# create a template row for the state stats data frame\n",
    "row_temp = {\"total_prize\": \"NA\", \n",
    "            \"avg_prize\": \"NA\",\n",
    "            \"count\": \"NA\",\n",
    "            \"count_prized\": \"NA\"}\n",
    "# create a dataframe to hold the results\n",
    "prize_df = pd.DataFrame(index=states, columns=row_temp.keys())\n",
    "\n",
    "# iterate the state subsets to calculate total, average and percentage prized\n",
    "for cur_state in states:\n",
    "    row_new = row_temp.copy()\n",
    "    prizes = contest[contest['state'] == cur_state]['prize']\n",
    "    count_total = prizes.shape[0]\n",
    "    # remove non-prized competitions\n",
    "    prizes = prizes[prizes > 0]\n",
    "    count_prized = prizes.shape[0]\n",
    "    # calculate measures\n",
    "    row_new['total_prize'] = prizes.sum()\n",
    "    row_new['avg_prize'] = prizes.mean()\n",
    "    row_new['count'] = count_total\n",
    "    row_new['count_prized'] = count_prized\n",
    "    # insert row into the results df\n",
    "    prize_df.loc[cur_state] = row_new\n",
    "prize_df['percent_prized'] = prize_df['count_prized'] / prize_df['count']\n",
    "\n",
    "# function to plot measures in the prize dataframe\n",
    "def prizeplot(prize_df, col, n, title, y_units):\n",
    "    plt.figure()\n",
    "    prize_df = prize_df.sort_values(by=col, ascending=False)\n",
    "    prize_df = prize_df.head(n)\n",
    "    prize_df[col].plot.bar()\n",
    "    plt.title(title.title())\n",
    "    plt.xlabel('State Abbrev.')\n",
    "    plt.ylabel(y_units.title())\n",
    "\n",
    "print(\"Total prize across the dataset: $\" + str(contest['prize'].sum()))\n"
   ]
  },
  {
   "cell_type": "markdown",
   "metadata": {},
   "source": [
    "# Visualizing the Prizes"
   ]
  },
  {
   "cell_type": "code",
   "execution_count": 22,
   "metadata": {},
   "outputs": [
    {
     "data": {
      "image/png": "[encoded data removed]",
      "text/plain": [
       "<matplotlib.figure.Figure at 0x1d28766f198>"
      ]
     },
     "metadata": {},
     "output_type": "display_data"
    },
    {
     "data": {
      "image/png": "[encoded data removed]",
      "text/plain": [
       "<matplotlib.figure.Figure at 0x1d287a855c0>"
      ]
     },
     "metadata": {},
     "output_type": "display_data"
    },
    {
     "data": {
      "image/png": "[encoded data removed]",
      "text/plain": [
       "<matplotlib.figure.Figure at 0x1d287a53048>"
      ]
     },
     "metadata": {},
     "output_type": "display_data"
    }
   ],
   "source": [
    "n = 15\n",
    "prizeplot(prize_df, 'count', n, 'competition count', 'competitions')\n",
    "prizeplot(prize_df, 'total_prize', n, 'total prizing', 'dollars')\n",
    "prizeplot(prize_df, 'avg_prize', n, 'average prizing', 'dollars')"
   ]
  },
  {
   "cell_type": "markdown",
   "metadata": {},
   "source": [
    "Missouri has the highest competition count and total prizes that are being awarded for the barbeque competitions."
   ]
  },
  {
   "cell_type": "markdown",
   "metadata": {},
   "source": [
    "# Best Teams"
   ]
  },
  {
   "cell_type": "code",
   "execution_count": 23,
   "metadata": {},
   "outputs": [
    {
     "name": "stdout",
     "output_type": "stream",
     "text": [
      "Finished computing.\n"
     ]
    }
   ],
   "source": [
    "# define a string series regularizing function\n",
    "def tame_names(str_series):\n",
    "    str_series = str_series.str.translate(str.maketrans('', '', string.punctuation))\n",
    "    str_series = str_series.str.lower()\n",
    "    str_series = str_series.str.strip()\n",
    "    return str_series\n",
    "\n",
    "# standardize team names for use as comparators\n",
    "for cat in cat_dict.keys():\n",
    "    cat_dict[cat]['std_name'] = tame_names(cat_dict[cat]['team_name'])\n",
    "\n",
    "# define a function to calculate highest average score for teams with \n",
    "# more than some minimum of appearences\n",
    "def extract_best(category, min_appearances):\n",
    "    cat_df = cat_dict[category]\n",
    "    # filter the results table to only include teams that satisfy min_appearences\n",
    "    team_apps = cat_df['std_name'].value_counts()\n",
    "    teams = list(team_apps[team_apps >= min_appearances].index)\n",
    "    cat_df = cat_df[cat_df['std_name'].isin(teams)]\n",
    "    # iterate the candidate teams and calculate mean scores\n",
    "    cand_teams = list(cat_df['std_name'].unique())\n",
    "    row_temp = {'appearances': 0, 'score_avg': 0, 'score_std': 0}\n",
    "    best_df = pd.DataFrame(index=cand_teams, columns=row_temp.keys())\n",
    "    for team in list(cat_df['std_name'].unique()):\n",
    "        row_new = row_temp.copy()\n",
    "        scores = cat_df[cat_df['std_name'] == team]['score']\n",
    "        row_new['appearances'] = scores.shape[0]\n",
    "        row_new['score_avg'] = scores.mean()\n",
    "        row_new['score_std'] = scores.std()\n",
    "        best_df.loc[team] = row_new\n",
    "    best_df = best_df.sort_values(by=\"score_avg\", ascending=False)\n",
    "    return best_df\n",
    "\n",
    "min_apps = 10\n",
    "chick_best = extract_best(\"chicken\", min_apps)\n",
    "ribs_best = extract_best(\"ribs\", min_apps)\n",
    "pork_best = extract_best(\"pork\", min_apps)\n",
    "brisk_best = extract_best(\"brisket\", min_apps)\n",
    "\n",
    "print(\"Finished computing.\")"
   ]
  },
  {
   "cell_type": "code",
   "execution_count": 24,
   "metadata": {},
   "outputs": [
    {
     "name": "stdout",
     "output_type": "stream",
     "text": [
      "Top 10 teams in Chicken:\n"
     ]
    },
    {
     "data": {
      "text/html": [
       "<div>\n",
       "<style>\n",
       "    .dataframe thead tr:only-child th {\n",
       "        text-align: right;\n",
       "    }\n",
       "\n",
       "    .dataframe thead th {\n",
       "        text-align: left;\n",
       "    }\n",
       "\n",
       "    .dataframe tbody tr th {\n",
       "        vertical-align: top;\n",
       "    }\n",
       "</style>\n",
       "<table border=\"1\" class=\"dataframe\">\n",
       "  <thead>\n",
       "    <tr style=\"text-align: right;\">\n",
       "      <th></th>\n",
       "      <th>appearances</th>\n",
       "      <th>score_avg</th>\n",
       "      <th>score_std</th>\n",
       "    </tr>\n",
       "  </thead>\n",
       "  <tbody>\n",
       "    <tr>\n",
       "      <th>fire dancer bbq</th>\n",
       "      <td>93</td>\n",
       "      <td>173.828</td>\n",
       "      <td>3.89276</td>\n",
       "    </tr>\n",
       "    <tr>\n",
       "      <th>moyers competition barbq team</th>\n",
       "      <td>51</td>\n",
       "      <td>173.773</td>\n",
       "      <td>3.30248</td>\n",
       "    </tr>\n",
       "    <tr>\n",
       "      <th>south pork</th>\n",
       "      <td>84</td>\n",
       "      <td>173.613</td>\n",
       "      <td>3.57526</td>\n",
       "    </tr>\n",
       "    <tr>\n",
       "      <th>smoke me silly</th>\n",
       "      <td>114</td>\n",
       "      <td>173.437</td>\n",
       "      <td>4.55644</td>\n",
       "    </tr>\n",
       "    <tr>\n",
       "      <th>double duece smokin bbq</th>\n",
       "      <td>11</td>\n",
       "      <td>173.341</td>\n",
       "      <td>4.03058</td>\n",
       "    </tr>\n",
       "    <tr>\n",
       "      <th>caveman cuisine</th>\n",
       "      <td>78</td>\n",
       "      <td>173.127</td>\n",
       "      <td>4.77415</td>\n",
       "    </tr>\n",
       "    <tr>\n",
       "      <th>rocky top barbeque</th>\n",
       "      <td>44</td>\n",
       "      <td>173</td>\n",
       "      <td>4.36826</td>\n",
       "    </tr>\n",
       "    <tr>\n",
       "      <th>checkered pig</th>\n",
       "      <td>86</td>\n",
       "      <td>172.992</td>\n",
       "      <td>4.04743</td>\n",
       "    </tr>\n",
       "    <tr>\n",
       "      <th>hot coles bbq</th>\n",
       "      <td>34</td>\n",
       "      <td>172.989</td>\n",
       "      <td>4.58406</td>\n",
       "    </tr>\n",
       "    <tr>\n",
       "      <th>bad moon smokin</th>\n",
       "      <td>27</td>\n",
       "      <td>172.981</td>\n",
       "      <td>4.39908</td>\n",
       "    </tr>\n",
       "  </tbody>\n",
       "</table>\n",
       "</div>"
      ],
      "text/plain": [
       "                              appearances score_avg score_std\n",
       "fire dancer bbq                        93   173.828   3.89276\n",
       "moyers competition barbq team          51   173.773   3.30248\n",
       "south pork                             84   173.613   3.57526\n",
       "smoke me silly                        114   173.437   4.55644\n",
       "double duece smokin bbq                11   173.341   4.03058\n",
       "caveman cuisine                        78   173.127   4.77415\n",
       "rocky top barbeque                     44       173   4.36826\n",
       "checkered pig                          86   172.992   4.04743\n",
       "hot coles bbq                          34   172.989   4.58406\n",
       "bad moon smokin                        27   172.981   4.39908"
      ]
     },
     "execution_count": 24,
     "metadata": {},
     "output_type": "execute_result"
    }
   ],
   "source": [
    "print(\"Top 10 teams in Chicken:\")\n",
    "chick_best.head(10)"
   ]
  },
  {
   "cell_type": "code",
   "execution_count": 25,
   "metadata": {},
   "outputs": [
    {
     "name": "stdout",
     "output_type": "stream",
     "text": [
      "Top 10 teams in Ribs:\n"
     ]
    },
    {
     "data": {
      "text/html": [
       "<div>\n",
       "<style>\n",
       "    .dataframe thead tr:only-child th {\n",
       "        text-align: right;\n",
       "    }\n",
       "\n",
       "    .dataframe thead th {\n",
       "        text-align: left;\n",
       "    }\n",
       "\n",
       "    .dataframe tbody tr th {\n",
       "        vertical-align: top;\n",
       "    }\n",
       "</style>\n",
       "<table border=\"1\" class=\"dataframe\">\n",
       "  <thead>\n",
       "    <tr style=\"text-align: right;\">\n",
       "      <th></th>\n",
       "      <th>appearances</th>\n",
       "      <th>score_avg</th>\n",
       "      <th>score_std</th>\n",
       "    </tr>\n",
       "  </thead>\n",
       "  <tbody>\n",
       "    <tr>\n",
       "      <th>smokin n the dark</th>\n",
       "      <td>11</td>\n",
       "      <td>172.923</td>\n",
       "      <td>4.12902</td>\n",
       "    </tr>\n",
       "    <tr>\n",
       "      <th>hog tide barbque</th>\n",
       "      <td>84</td>\n",
       "      <td>172.799</td>\n",
       "      <td>4.82496</td>\n",
       "    </tr>\n",
       "    <tr>\n",
       "      <th>warren county pork choppers</th>\n",
       "      <td>104</td>\n",
       "      <td>172.26</td>\n",
       "      <td>4.61023</td>\n",
       "    </tr>\n",
       "    <tr>\n",
       "      <th>music city bbq</th>\n",
       "      <td>18</td>\n",
       "      <td>172.239</td>\n",
       "      <td>5.92345</td>\n",
       "    </tr>\n",
       "    <tr>\n",
       "      <th>smoke me silly</th>\n",
       "      <td>114</td>\n",
       "      <td>172.223</td>\n",
       "      <td>4.54368</td>\n",
       "    </tr>\n",
       "    <tr>\n",
       "      <th>clark crew bbq</th>\n",
       "      <td>107</td>\n",
       "      <td>172.188</td>\n",
       "      <td>5.09371</td>\n",
       "    </tr>\n",
       "    <tr>\n",
       "      <th>okieq</th>\n",
       "      <td>36</td>\n",
       "      <td>171.931</td>\n",
       "      <td>4.02434</td>\n",
       "    </tr>\n",
       "    <tr>\n",
       "      <th>jobawbs bbq</th>\n",
       "      <td>86</td>\n",
       "      <td>171.849</td>\n",
       "      <td>4.45251</td>\n",
       "    </tr>\n",
       "    <tr>\n",
       "      <th>phat jacks bbq ne</th>\n",
       "      <td>18</td>\n",
       "      <td>171.679</td>\n",
       "      <td>4.71792</td>\n",
       "    </tr>\n",
       "    <tr>\n",
       "      <th>killer bs bbq</th>\n",
       "      <td>67</td>\n",
       "      <td>171.677</td>\n",
       "      <td>4.34397</td>\n",
       "    </tr>\n",
       "  </tbody>\n",
       "</table>\n",
       "</div>"
      ],
      "text/plain": [
       "                            appearances score_avg score_std\n",
       "smokin n the dark                    11   172.923   4.12902\n",
       "hog tide barbque                     84   172.799   4.82496\n",
       "warren county pork choppers         104    172.26   4.61023\n",
       "music city bbq                       18   172.239   5.92345\n",
       "smoke me silly                      114   172.223   4.54368\n",
       "clark crew bbq                      107   172.188   5.09371\n",
       "okieq                                36   171.931   4.02434\n",
       "jobawbs bbq                          86   171.849   4.45251\n",
       "phat jacks bbq ne                    18   171.679   4.71792\n",
       "killer bs bbq                        67   171.677   4.34397"
      ]
     },
     "execution_count": 25,
     "metadata": {},
     "output_type": "execute_result"
    }
   ],
   "source": [
    "print(\"Top 10 teams in Ribs:\")\n",
    "ribs_best.head(10)"
   ]
  },
  {
   "cell_type": "code",
   "execution_count": 26,
   "metadata": {},
   "outputs": [
    {
     "name": "stdout",
     "output_type": "stream",
     "text": [
      "Top 10 teams in Pork:\n"
     ]
    },
    {
     "data": {
      "text/html": [
       "<div>\n",
       "<style>\n",
       "    .dataframe thead tr:only-child th {\n",
       "        text-align: right;\n",
       "    }\n",
       "\n",
       "    .dataframe thead th {\n",
       "        text-align: left;\n",
       "    }\n",
       "\n",
       "    .dataframe tbody tr th {\n",
       "        vertical-align: top;\n",
       "    }\n",
       "</style>\n",
       "<table border=\"1\" class=\"dataframe\">\n",
       "  <thead>\n",
       "    <tr style=\"text-align: right;\">\n",
       "      <th></th>\n",
       "      <th>appearances</th>\n",
       "      <th>score_avg</th>\n",
       "      <th>score_std</th>\n",
       "    </tr>\n",
       "  </thead>\n",
       "  <tbody>\n",
       "    <tr>\n",
       "      <th>kosmosqcom</th>\n",
       "      <td>15</td>\n",
       "      <td>173.278</td>\n",
       "      <td>3.80709</td>\n",
       "    </tr>\n",
       "    <tr>\n",
       "      <th>gque</th>\n",
       "      <td>33</td>\n",
       "      <td>172.595</td>\n",
       "      <td>4.26797</td>\n",
       "    </tr>\n",
       "    <tr>\n",
       "      <th>prime bbq</th>\n",
       "      <td>12</td>\n",
       "      <td>172.514</td>\n",
       "      <td>4.52359</td>\n",
       "    </tr>\n",
       "    <tr>\n",
       "      <th>clark crew bbq</th>\n",
       "      <td>107</td>\n",
       "      <td>172.343</td>\n",
       "      <td>5.33034</td>\n",
       "    </tr>\n",
       "    <tr>\n",
       "      <th>porterhouse bbq</th>\n",
       "      <td>45</td>\n",
       "      <td>172.257</td>\n",
       "      <td>5.24604</td>\n",
       "    </tr>\n",
       "    <tr>\n",
       "      <th>warren county pork choppers</th>\n",
       "      <td>104</td>\n",
       "      <td>172.24</td>\n",
       "      <td>4.2621</td>\n",
       "    </tr>\n",
       "    <tr>\n",
       "      <th>soggy bottom smokers</th>\n",
       "      <td>27</td>\n",
       "      <td>172.215</td>\n",
       "      <td>3.09942</td>\n",
       "    </tr>\n",
       "    <tr>\n",
       "      <th>killer hogs</th>\n",
       "      <td>66</td>\n",
       "      <td>172.189</td>\n",
       "      <td>4.61968</td>\n",
       "    </tr>\n",
       "    <tr>\n",
       "      <th>ktown daddys bbq</th>\n",
       "      <td>30</td>\n",
       "      <td>172.1</td>\n",
       "      <td>4.75364</td>\n",
       "    </tr>\n",
       "    <tr>\n",
       "      <th>qbones bbq</th>\n",
       "      <td>53</td>\n",
       "      <td>172.055</td>\n",
       "      <td>3.85512</td>\n",
       "    </tr>\n",
       "  </tbody>\n",
       "</table>\n",
       "</div>"
      ],
      "text/plain": [
       "                            appearances score_avg score_std\n",
       "kosmosqcom                           15   173.278   3.80709\n",
       "gque                                 33   172.595   4.26797\n",
       "prime bbq                            12   172.514   4.52359\n",
       "clark crew bbq                      107   172.343   5.33034\n",
       "porterhouse bbq                      45   172.257   5.24604\n",
       "warren county pork choppers         104    172.24    4.2621\n",
       "soggy bottom smokers                 27   172.215   3.09942\n",
       "killer hogs                          66   172.189   4.61968\n",
       "ktown daddys bbq                     30     172.1   4.75364\n",
       "qbones bbq                           53   172.055   3.85512"
      ]
     },
     "execution_count": 26,
     "metadata": {},
     "output_type": "execute_result"
    }
   ],
   "source": [
    "print(\"Top 10 teams in Pork:\")\n",
    "pork_best.head(10)"
   ]
  },
  {
   "cell_type": "code",
   "execution_count": 27,
   "metadata": {},
   "outputs": [
    {
     "name": "stdout",
     "output_type": "stream",
     "text": [
      "Top 10 teams in Brisket:\n"
     ]
    },
    {
     "data": {
      "text/html": [
       "<div>\n",
       "<style>\n",
       "    .dataframe thead tr:only-child th {\n",
       "        text-align: right;\n",
       "    }\n",
       "\n",
       "    .dataframe thead th {\n",
       "        text-align: left;\n",
       "    }\n",
       "\n",
       "    .dataframe tbody tr th {\n",
       "        vertical-align: top;\n",
       "    }\n",
       "</style>\n",
       "<table border=\"1\" class=\"dataframe\">\n",
       "  <thead>\n",
       "    <tr style=\"text-align: right;\">\n",
       "      <th></th>\n",
       "      <th>appearances</th>\n",
       "      <th>score_avg</th>\n",
       "      <th>score_std</th>\n",
       "    </tr>\n",
       "  </thead>\n",
       "  <tbody>\n",
       "    <tr>\n",
       "      <th>bayou boogie bbq</th>\n",
       "      <td>44</td>\n",
       "      <td>173.888</td>\n",
       "      <td>3.9101</td>\n",
       "    </tr>\n",
       "    <tr>\n",
       "      <th>iowas smokey ds bbq</th>\n",
       "      <td>119</td>\n",
       "      <td>173.851</td>\n",
       "      <td>4.56367</td>\n",
       "    </tr>\n",
       "    <tr>\n",
       "      <th>rescue smokers</th>\n",
       "      <td>12</td>\n",
       "      <td>173.13</td>\n",
       "      <td>4.15912</td>\n",
       "    </tr>\n",
       "    <tr>\n",
       "      <th>curly tails bbq</th>\n",
       "      <td>18</td>\n",
       "      <td>173.067</td>\n",
       "      <td>3.72367</td>\n",
       "    </tr>\n",
       "    <tr>\n",
       "      <th>high on the hawg</th>\n",
       "      <td>40</td>\n",
       "      <td>173.043</td>\n",
       "      <td>4.33716</td>\n",
       "    </tr>\n",
       "    <tr>\n",
       "      <th>big tz q cru</th>\n",
       "      <td>56</td>\n",
       "      <td>172.82</td>\n",
       "      <td>4.14422</td>\n",
       "    </tr>\n",
       "    <tr>\n",
       "      <th>swine dining ga</th>\n",
       "      <td>11</td>\n",
       "      <td>172.816</td>\n",
       "      <td>5.74851</td>\n",
       "    </tr>\n",
       "    <tr>\n",
       "      <th>ash kickers bbq</th>\n",
       "      <td>11</td>\n",
       "      <td>172.774</td>\n",
       "      <td>4.17883</td>\n",
       "    </tr>\n",
       "    <tr>\n",
       "      <th>warren county pork choppers</th>\n",
       "      <td>104</td>\n",
       "      <td>172.72</td>\n",
       "      <td>4.45659</td>\n",
       "    </tr>\n",
       "    <tr>\n",
       "      <th>moyers competition barbq team</th>\n",
       "      <td>51</td>\n",
       "      <td>172.66</td>\n",
       "      <td>4.91542</td>\n",
       "    </tr>\n",
       "  </tbody>\n",
       "</table>\n",
       "</div>"
      ],
      "text/plain": [
       "                              appearances score_avg score_std\n",
       "bayou boogie bbq                       44   173.888    3.9101\n",
       "iowas smokey ds bbq                   119   173.851   4.56367\n",
       "rescue smokers                         12    173.13   4.15912\n",
       "curly tails bbq                        18   173.067   3.72367\n",
       "high on the hawg                       40   173.043   4.33716\n",
       "big tz q cru                           56    172.82   4.14422\n",
       "swine dining ga                        11   172.816   5.74851\n",
       "ash kickers bbq                        11   172.774   4.17883\n",
       "warren county pork choppers           104    172.72   4.45659\n",
       "moyers competition barbq team          51    172.66   4.91542"
      ]
     },
     "execution_count": 27,
     "metadata": {},
     "output_type": "execute_result"
    }
   ],
   "source": [
    "print(\"Top 10 teams in Brisket:\")\n",
    "brisk_best.head(10)"
   ]
  },
  {
   "cell_type": "markdown",
   "metadata": {},
   "source": [
    "# Let's Check if everything is all good."
   ]
  },
  {
   "cell_type": "code",
   "execution_count": 28,
   "metadata": {},
   "outputs": [
    {
     "data": {
      "text/plain": [
       "<matplotlib.axes._subplots.AxesSubplot at 0x1d2865bad68>"
      ]
     },
     "execution_count": 28,
     "metadata": {},
     "output_type": "execute_result"
    },
    {
     "data": {
      "image/png": "[encoded data removed]",
      "text/plain": [
       "<matplotlib.figure.Figure at 0x1d28653b2e8>"
      ]
     },
     "metadata": {},
     "output_type": "display_data"
    }
   ],
   "source": [
    "sns.heatmap(contest.isnull(),yticklabels=False,cbar=False,cmap='coolwarm')"
   ]
  },
  {
   "cell_type": "code",
   "execution_count": 29,
   "metadata": {},
   "outputs": [
    {
     "data": {
      "text/plain": [
       "<matplotlib.axes._subplots.AxesSubplot at 0x1d2875f7240>"
      ]
     },
     "execution_count": 29,
     "metadata": {},
     "output_type": "execute_result"
    },
    {
     "data": {
      "image/png": "[encoded data removed]",
      "text/plain": [
       "<matplotlib.figure.Figure at 0x1d2862de8d0>"
      ]
     },
     "metadata": {},
     "output_type": "display_data"
    }
   ],
   "source": [
    "sns.heatmap(chicken.isnull(),yticklabels=False,cbar=False,cmap='coolwarm')"
   ]
  },
  {
   "cell_type": "code",
   "execution_count": 30,
   "metadata": {},
   "outputs": [
    {
     "data": {
      "text/plain": [
       "<matplotlib.axes._subplots.AxesSubplot at 0x1d28623e7f0>"
      ]
     },
     "execution_count": 30,
     "metadata": {},
     "output_type": "execute_result"
    },
    {
     "data": {
      "image/png": "[encoded data removed]",
      "text/plain": [
       "<matplotlib.figure.Figure at 0x1d28631b0f0>"
      ]
     },
     "metadata": {},
     "output_type": "display_data"
    }
   ],
   "source": [
    "sns.heatmap(ribs.isnull(),yticklabels=False,cbar=False,cmap='coolwarm')"
   ]
  },
  {
   "cell_type": "code",
   "execution_count": 31,
   "metadata": {},
   "outputs": [
    {
     "data": {
      "text/plain": [
       "<matplotlib.axes._subplots.AxesSubplot at 0x1d2862ebd68>"
      ]
     },
     "execution_count": 31,
     "metadata": {},
     "output_type": "execute_result"
    },
    {
     "data": {
      "image/png": "[encoded data removed]",
      "text/plain": [
       "<matplotlib.figure.Figure at 0x1d286562390>"
      ]
     },
     "metadata": {},
     "output_type": "display_data"
    }
   ],
   "source": [
    "sns.heatmap(pork.isnull(),yticklabels=False,cbar=False,cmap='coolwarm')"
   ]
  },
  {
   "cell_type": "code",
   "execution_count": 32,
   "metadata": {},
   "outputs": [
    {
     "data": {
      "text/plain": [
       "<matplotlib.axes._subplots.AxesSubplot at 0x1d2876bb080>"
      ]
     },
     "execution_count": 32,
     "metadata": {},
     "output_type": "execute_result"
    },
    {
     "data": {
      "image/png": "[encoded data removed]",
      "text/plain": [
       "<matplotlib.figure.Figure at 0x1d2876cc240>"
      ]
     },
     "metadata": {},
     "output_type": "display_data"
    }
   ],
   "source": [
    "sns.heatmap(brisk.isnull(),yticklabels=False,cbar=False,cmap='coolwarm')"
   ]
  },
  {
   "cell_type": "code",
   "execution_count": 33,
   "metadata": {},
   "outputs": [
    {
     "data": {
      "text/plain": [
       "<matplotlib.axes._subplots.AxesSubplot at 0x1d287882cf8>"
      ]
     },
     "execution_count": 33,
     "metadata": {},
     "output_type": "execute_result"
    },
    {
     "data": {
      "image/png": "[encoded data removed]",
      "text/plain": [
       "<matplotlib.figure.Figure at 0x1d28796e0b8>"
      ]
     },
     "metadata": {},
     "output_type": "display_data"
    }
   ],
   "source": [
    "sns.heatmap(overall.isnull(),yticklabels=False,cbar=False,cmap='coolwarm')"
   ]
  },
  {
   "cell_type": "markdown",
   "metadata": {},
   "source": [
    "Looks good. cbj_percentage isn't really much of a factor as much though for one set of data. "
   ]
  },
  {
   "cell_type": "code",
   "execution_count": null,
   "metadata": {
    "collapsed": true
   },
   "outputs": [],
   "source": []
  }
 ],
 "metadata": {
  "kernelspec": {
   "display_name": "Python 3",
   "language": "python",
   "name": "python3"
  },
  "language_info": {
   "codemirror_mode": {
    "name": "ipython",
    "version": 3
   },
   "file_extension": ".py",
   "mimetype": "text/x-python",
   "name": "python",
   "nbconvert_exporter": "python",
   "pygments_lexer": "ipython3",
   "version": "3.6.2"
  }
 },
 "nbformat": 4,
 "nbformat_minor": 2
}
