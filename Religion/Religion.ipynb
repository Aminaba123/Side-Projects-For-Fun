{
 "cells": [
  {
   "cell_type": "markdown",
   "metadata": {},
   "source": [
    "All religions should be one."
   ]
  },
  {
   "cell_type": "markdown",
   "metadata": {},
   "source": [
    "# Importing the Packages"
   ]
  },
  {
   "cell_type": "code",
   "execution_count": 1,
   "metadata": {},
   "outputs": [
    {
     "data": {
      "text/html": [
       "<script>requirejs.config({paths: { 'plotly': ['https://cdn.plot.ly/plotly-latest.min']},});if(!window.Plotly) {{require(['plotly'],function(plotly) {window.Plotly=plotly;});}}</script>"
      ],
      "text/plain": [
       "<IPython.core.display.HTML object>"
      ]
     },
     "metadata": {},
     "output_type": "display_data"
    }
   ],
   "source": [
    "import pandas as pd\n",
    "import numpy as np\n",
    "import seaborn as sns\n",
    "import matplotlib.pyplot as plt\n",
    "%matplotlib inline\n",
    "import plotly.offline as py\n",
    "py.init_notebook_mode(connected=True)\n",
    "import plotly.graph_objs as go\n",
    "import plotly.tools as tls"
   ]
  },
  {
   "cell_type": "code",
   "execution_count": 2,
   "metadata": {
    "collapsed": true
   },
   "outputs": [],
   "source": [
    "from scipy.misc import imread\n",
    "import base64"
   ]
  },
  {
   "cell_type": "code",
   "execution_count": 3,
   "metadata": {
    "collapsed": true
   },
   "outputs": [],
   "source": [
    "from pylab import figure, axes, pie, title, show\n",
    "import warnings\n",
    "import os"
   ]
  },
  {
   "cell_type": "code",
   "execution_count": 4,
   "metadata": {
    "collapsed": true
   },
   "outputs": [],
   "source": [
    "warnings.filterwarnings('ignore')"
   ]
  },
  {
   "cell_type": "code",
   "execution_count": 5,
   "metadata": {
    "collapsed": true
   },
   "outputs": [],
   "source": [
    "pd.set_option('display.max_columns', 100)"
   ]
  },
  {
   "cell_type": "markdown",
   "metadata": {},
   "source": [
    "# Reading the Dataset"
   ]
  },
  {
   "cell_type": "code",
   "execution_count": 6,
   "metadata": {
    "collapsed": true
   },
   "outputs": [],
   "source": [
    "Religion = pd.read_csv('./regional.csv')"
   ]
  },
  {
   "cell_type": "code",
   "execution_count": 8,
   "metadata": {},
   "outputs": [
    {
     "data": {
      "text/html": [
       "<div>\n",
       "<style>\n",
       "    .dataframe thead tr:only-child th {\n",
       "        text-align: right;\n",
       "    }\n",
       "\n",
       "    .dataframe thead th {\n",
       "        text-align: left;\n",
       "    }\n",
       "\n",
       "    .dataframe tbody tr th {\n",
       "        vertical-align: top;\n",
       "    }\n",
       "</style>\n",
       "<table border=\"1\" class=\"dataframe\">\n",
       "  <thead>\n",
       "    <tr style=\"text-align: right;\">\n",
       "      <th></th>\n",
       "      <th>year</th>\n",
       "      <th>region</th>\n",
       "      <th>christianity_protestant</th>\n",
       "      <th>christianity_romancatholic</th>\n",
       "      <th>christianity_easternorthodox</th>\n",
       "      <th>christianity_anglican</th>\n",
       "      <th>christianity_other</th>\n",
       "      <th>christianity_all</th>\n",
       "      <th>judaism_orthodox</th>\n",
       "      <th>judaism_conservative</th>\n",
       "      <th>judaism_reform</th>\n",
       "      <th>judaism_other</th>\n",
       "      <th>judaism_all</th>\n",
       "      <th>islam_sunni</th>\n",
       "      <th>islam_shi’a</th>\n",
       "      <th>islam_ibadhi</th>\n",
       "      <th>islam_nationofislam</th>\n",
       "      <th>islam_alawite</th>\n",
       "      <th>islam_ahmadiyya</th>\n",
       "      <th>islam_other</th>\n",
       "      <th>islam_all</th>\n",
       "      <th>buddhism_mahayana</th>\n",
       "      <th>buddhism_theravada</th>\n",
       "      <th>buddhism_other</th>\n",
       "      <th>buddhism_all</th>\n",
       "      <th>zoroastrianism_all</th>\n",
       "      <th>hinduism_all</th>\n",
       "      <th>sikhism_all</th>\n",
       "      <th>shinto_all</th>\n",
       "      <th>baha’i_all</th>\n",
       "      <th>taoism_all</th>\n",
       "      <th>jainism_all</th>\n",
       "      <th>confucianism_all</th>\n",
       "      <th>syncretism_all</th>\n",
       "      <th>animism_all</th>\n",
       "      <th>noreligion_all</th>\n",
       "      <th>otherreligion_all</th>\n",
       "      <th>religion_all</th>\n",
       "      <th>population</th>\n",
       "      <th>world_population</th>\n",
       "      <th>protestant_percent</th>\n",
       "      <th>romancatholic_percent</th>\n",
       "      <th>easternorthodox_percent</th>\n",
       "      <th>anglican_percent</th>\n",
       "      <th>otherchristianity_percent</th>\n",
       "      <th>christianity_percent</th>\n",
       "      <th>orthodox_percent</th>\n",
       "      <th>conservative_percent</th>\n",
       "      <th>reform_percent</th>\n",
       "      <th>otherjudaism_percent</th>\n",
       "      <th>judaism_percent</th>\n",
       "      <th>sunni_percent</th>\n",
       "      <th>shi’a_percent</th>\n",
       "      <th>ibadhi_percent</th>\n",
       "      <th>nationofislam_percent</th>\n",
       "      <th>alawite_percent</th>\n",
       "      <th>ahmadiyya_percent</th>\n",
       "      <th>otherislam_percent</th>\n",
       "      <th>islam_percent</th>\n",
       "      <th>mahayana_percent</th>\n",
       "      <th>theravada_percent</th>\n",
       "      <th>otherbuddhism_percent</th>\n",
       "      <th>buddhism_percent</th>\n",
       "      <th>zoroastrianism_percent</th>\n",
       "      <th>hinduism_percent</th>\n",
       "      <th>sikhism_percent</th>\n",
       "      <th>shinto_percent</th>\n",
       "      <th>baha’i_percent</th>\n",
       "      <th>taoism_percent</th>\n",
       "      <th>jainism_percent</th>\n",
       "      <th>confucianism_percent</th>\n",
       "      <th>syncretism_percent</th>\n",
       "      <th>animism_percent</th>\n",
       "      <th>noreligion_percent</th>\n",
       "      <th>otherreligion_percent</th>\n",
       "      <th>religion_sumpercent</th>\n",
       "      <th>total_percent</th>\n",
       "      <th>worldpopulation_percent</th>\n",
       "    </tr>\n",
       "  </thead>\n",
       "  <tbody>\n",
       "    <tr>\n",
       "      <th>0</th>\n",
       "      <td>1945</td>\n",
       "      <td>Africa</td>\n",
       "      <td>2074180</td>\n",
       "      <td>672337</td>\n",
       "      <td>7251492</td>\n",
       "      <td>419457</td>\n",
       "      <td>4170594</td>\n",
       "      <td>14588060</td>\n",
       "      <td>0</td>\n",
       "      <td>0</td>\n",
       "      <td>0</td>\n",
       "      <td>80487</td>\n",
       "      <td>80487</td>\n",
       "      <td>0</td>\n",
       "      <td>0</td>\n",
       "      <td>0</td>\n",
       "      <td>0</td>\n",
       "      <td>0</td>\n",
       "      <td>0</td>\n",
       "      <td>5051475</td>\n",
       "      <td>5051475</td>\n",
       "      <td>0</td>\n",
       "      <td>0</td>\n",
       "      <td>53</td>\n",
       "      <td>53</td>\n",
       "      <td>0</td>\n",
       "      <td>137290</td>\n",
       "      <td>1536</td>\n",
       "      <td>0</td>\n",
       "      <td>2021</td>\n",
       "      <td>0</td>\n",
       "      <td>0</td>\n",
       "      <td>0</td>\n",
       "      <td>831</td>\n",
       "      <td>9162018</td>\n",
       "      <td>7396</td>\n",
       "      <td>41833</td>\n",
       "      <td>29065604</td>\n",
       "      <td>29073000</td>\n",
       "      <td>1617000000</td>\n",
       "      <td>0.0713</td>\n",
       "      <td>0.0231</td>\n",
       "      <td>0.2494</td>\n",
       "      <td>0.0144</td>\n",
       "      <td>0.1435</td>\n",
       "      <td>0.5018</td>\n",
       "      <td>0.000</td>\n",
       "      <td>0.0000</td>\n",
       "      <td>0.0000</td>\n",
       "      <td>0.0028</td>\n",
       "      <td>0.0028</td>\n",
       "      <td>0.0000</td>\n",
       "      <td>0.0000</td>\n",
       "      <td>0.0</td>\n",
       "      <td>0</td>\n",
       "      <td>0.0</td>\n",
       "      <td>0.0</td>\n",
       "      <td>0.1738</td>\n",
       "      <td>0.1738</td>\n",
       "      <td>0.0</td>\n",
       "      <td>0.0</td>\n",
       "      <td>0.0000</td>\n",
       "      <td>0.0000</td>\n",
       "      <td>0.0000</td>\n",
       "      <td>0.0047</td>\n",
       "      <td>0.0001</td>\n",
       "      <td>0.0000</td>\n",
       "      <td>0.0001</td>\n",
       "      <td>0.0000</td>\n",
       "      <td>0.0</td>\n",
       "      <td>0.0</td>\n",
       "      <td>0.0000</td>\n",
       "      <td>0.3151</td>\n",
       "      <td>0.0003</td>\n",
       "      <td>0.0014</td>\n",
       "      <td>0.9997</td>\n",
       "      <td>1.0000</td>\n",
       "      <td>0.0180</td>\n",
       "    </tr>\n",
       "    <tr>\n",
       "      <th>1</th>\n",
       "      <td>1945</td>\n",
       "      <td>Asia</td>\n",
       "      <td>2407144</td>\n",
       "      <td>2222908</td>\n",
       "      <td>181928</td>\n",
       "      <td>3142204</td>\n",
       "      <td>1964907</td>\n",
       "      <td>9919091</td>\n",
       "      <td>0</td>\n",
       "      <td>0</td>\n",
       "      <td>0</td>\n",
       "      <td>30369</td>\n",
       "      <td>30369</td>\n",
       "      <td>7451998</td>\n",
       "      <td>940000</td>\n",
       "      <td>0</td>\n",
       "      <td>0</td>\n",
       "      <td>0</td>\n",
       "      <td>0</td>\n",
       "      <td>27868347</td>\n",
       "      <td>36260345</td>\n",
       "      <td>0</td>\n",
       "      <td>0</td>\n",
       "      <td>113681431</td>\n",
       "      <td>113681431</td>\n",
       "      <td>2710</td>\n",
       "      <td>5230216</td>\n",
       "      <td>12525</td>\n",
       "      <td>55228775</td>\n",
       "      <td>7243</td>\n",
       "      <td>120950</td>\n",
       "      <td>0</td>\n",
       "      <td>0</td>\n",
       "      <td>423153390</td>\n",
       "      <td>22525760</td>\n",
       "      <td>30637661</td>\n",
       "      <td>152491</td>\n",
       "      <td>666325296</td>\n",
       "      <td>663450000</td>\n",
       "      <td>1617000000</td>\n",
       "      <td>0.0036</td>\n",
       "      <td>0.0034</td>\n",
       "      <td>0.0003</td>\n",
       "      <td>0.0047</td>\n",
       "      <td>0.0030</td>\n",
       "      <td>0.0150</td>\n",
       "      <td>0.000</td>\n",
       "      <td>0.0000</td>\n",
       "      <td>0.0000</td>\n",
       "      <td>0.0000</td>\n",
       "      <td>0.0000</td>\n",
       "      <td>0.0112</td>\n",
       "      <td>0.0014</td>\n",
       "      <td>0.0</td>\n",
       "      <td>0</td>\n",
       "      <td>0.0</td>\n",
       "      <td>0.0</td>\n",
       "      <td>0.0420</td>\n",
       "      <td>0.0547</td>\n",
       "      <td>0.0</td>\n",
       "      <td>0.0</td>\n",
       "      <td>0.1713</td>\n",
       "      <td>0.1713</td>\n",
       "      <td>0.0000</td>\n",
       "      <td>0.0079</td>\n",
       "      <td>0.0000</td>\n",
       "      <td>0.0832</td>\n",
       "      <td>0.0000</td>\n",
       "      <td>0.0002</td>\n",
       "      <td>0.0</td>\n",
       "      <td>0.0</td>\n",
       "      <td>0.6378</td>\n",
       "      <td>0.0340</td>\n",
       "      <td>0.0462</td>\n",
       "      <td>0.0002</td>\n",
       "      <td>1.0043</td>\n",
       "      <td>1.0505</td>\n",
       "      <td>0.4103</td>\n",
       "    </tr>\n",
       "    <tr>\n",
       "      <th>2</th>\n",
       "      <td>1945</td>\n",
       "      <td>Europe</td>\n",
       "      <td>83145512</td>\n",
       "      <td>216041422</td>\n",
       "      <td>86503645</td>\n",
       "      <td>29855595</td>\n",
       "      <td>5361826</td>\n",
       "      <td>420908000</td>\n",
       "      <td>0</td>\n",
       "      <td>0</td>\n",
       "      <td>0</td>\n",
       "      <td>6068020</td>\n",
       "      <td>6068020</td>\n",
       "      <td>0</td>\n",
       "      <td>0</td>\n",
       "      <td>0</td>\n",
       "      <td>0</td>\n",
       "      <td>0</td>\n",
       "      <td>0</td>\n",
       "      <td>29353397</td>\n",
       "      <td>29353397</td>\n",
       "      <td>0</td>\n",
       "      <td>0</td>\n",
       "      <td>725632</td>\n",
       "      <td>725632</td>\n",
       "      <td>0</td>\n",
       "      <td>21691</td>\n",
       "      <td>1748</td>\n",
       "      <td>0</td>\n",
       "      <td>6231</td>\n",
       "      <td>0</td>\n",
       "      <td>181</td>\n",
       "      <td>0</td>\n",
       "      <td>5896</td>\n",
       "      <td>1294177</td>\n",
       "      <td>99829250</td>\n",
       "      <td>2535777</td>\n",
       "      <td>460920750</td>\n",
       "      <td>560750000</td>\n",
       "      <td>1617000000</td>\n",
       "      <td>0.1483</td>\n",
       "      <td>0.3853</td>\n",
       "      <td>0.1543</td>\n",
       "      <td>0.0532</td>\n",
       "      <td>0.0096</td>\n",
       "      <td>0.7506</td>\n",
       "      <td>0.000</td>\n",
       "      <td>0.0000</td>\n",
       "      <td>0.0000</td>\n",
       "      <td>0.0108</td>\n",
       "      <td>0.0108</td>\n",
       "      <td>0.0000</td>\n",
       "      <td>0.0000</td>\n",
       "      <td>0.0</td>\n",
       "      <td>0</td>\n",
       "      <td>0.0</td>\n",
       "      <td>0.0</td>\n",
       "      <td>0.0523</td>\n",
       "      <td>0.0523</td>\n",
       "      <td>0.0</td>\n",
       "      <td>0.0</td>\n",
       "      <td>0.0013</td>\n",
       "      <td>0.0013</td>\n",
       "      <td>0.0000</td>\n",
       "      <td>0.0000</td>\n",
       "      <td>0.0000</td>\n",
       "      <td>0.0000</td>\n",
       "      <td>0.0000</td>\n",
       "      <td>0.0000</td>\n",
       "      <td>0.0</td>\n",
       "      <td>0.0</td>\n",
       "      <td>0.0000</td>\n",
       "      <td>0.0023</td>\n",
       "      <td>0.1780</td>\n",
       "      <td>0.0045</td>\n",
       "      <td>0.8220</td>\n",
       "      <td>1.0000</td>\n",
       "      <td>0.3468</td>\n",
       "    </tr>\n",
       "    <tr>\n",
       "      <th>3</th>\n",
       "      <td>1945</td>\n",
       "      <td>Mideast</td>\n",
       "      <td>87174</td>\n",
       "      <td>635929</td>\n",
       "      <td>3180260</td>\n",
       "      <td>0</td>\n",
       "      <td>108332</td>\n",
       "      <td>4011695</td>\n",
       "      <td>0</td>\n",
       "      <td>0</td>\n",
       "      <td>0</td>\n",
       "      <td>623240</td>\n",
       "      <td>623240</td>\n",
       "      <td>41598322</td>\n",
       "      <td>18496742</td>\n",
       "      <td>0</td>\n",
       "      <td>0</td>\n",
       "      <td>0</td>\n",
       "      <td>0</td>\n",
       "      <td>0</td>\n",
       "      <td>60095064</td>\n",
       "      <td>0</td>\n",
       "      <td>0</td>\n",
       "      <td>0</td>\n",
       "      <td>0</td>\n",
       "      <td>10000</td>\n",
       "      <td>0</td>\n",
       "      <td>0</td>\n",
       "      <td>0</td>\n",
       "      <td>0</td>\n",
       "      <td>0</td>\n",
       "      <td>0</td>\n",
       "      <td>0</td>\n",
       "      <td>0</td>\n",
       "      <td>0</td>\n",
       "      <td>561</td>\n",
       "      <td>478440</td>\n",
       "      <td>65218439</td>\n",
       "      <td>65219000</td>\n",
       "      <td>1617000000</td>\n",
       "      <td>0.0013</td>\n",
       "      <td>0.0098</td>\n",
       "      <td>0.0488</td>\n",
       "      <td>0.0000</td>\n",
       "      <td>0.0017</td>\n",
       "      <td>0.0615</td>\n",
       "      <td>0.000</td>\n",
       "      <td>0.0000</td>\n",
       "      <td>0.0000</td>\n",
       "      <td>0.0096</td>\n",
       "      <td>0.0096</td>\n",
       "      <td>0.6378</td>\n",
       "      <td>0.2836</td>\n",
       "      <td>0.0</td>\n",
       "      <td>0</td>\n",
       "      <td>0.0</td>\n",
       "      <td>0.0</td>\n",
       "      <td>0.0000</td>\n",
       "      <td>0.9214</td>\n",
       "      <td>0.0</td>\n",
       "      <td>0.0</td>\n",
       "      <td>0.0000</td>\n",
       "      <td>0.0000</td>\n",
       "      <td>0.0002</td>\n",
       "      <td>0.0000</td>\n",
       "      <td>0.0000</td>\n",
       "      <td>0.0000</td>\n",
       "      <td>0.0000</td>\n",
       "      <td>0.0000</td>\n",
       "      <td>0.0</td>\n",
       "      <td>0.0</td>\n",
       "      <td>0.0000</td>\n",
       "      <td>0.0000</td>\n",
       "      <td>0.0000</td>\n",
       "      <td>0.0073</td>\n",
       "      <td>1.0000</td>\n",
       "      <td>1.0000</td>\n",
       "      <td>0.0403</td>\n",
       "    </tr>\n",
       "    <tr>\n",
       "      <th>4</th>\n",
       "      <td>1945</td>\n",
       "      <td>West. Hem</td>\n",
       "      <td>73173575</td>\n",
       "      <td>171759439</td>\n",
       "      <td>1383846</td>\n",
       "      <td>3537777</td>\n",
       "      <td>2068807</td>\n",
       "      <td>251923444</td>\n",
       "      <td>856827</td>\n",
       "      <td>1426350</td>\n",
       "      <td>1929388</td>\n",
       "      <td>994719</td>\n",
       "      <td>5207284</td>\n",
       "      <td>0</td>\n",
       "      <td>0</td>\n",
       "      <td>0</td>\n",
       "      <td>0</td>\n",
       "      <td>0</td>\n",
       "      <td>0</td>\n",
       "      <td>0</td>\n",
       "      <td>0</td>\n",
       "      <td>0</td>\n",
       "      <td>0</td>\n",
       "      <td>1830820</td>\n",
       "      <td>1830820</td>\n",
       "      <td>0</td>\n",
       "      <td>0</td>\n",
       "      <td>5000</td>\n",
       "      <td>0</td>\n",
       "      <td>0</td>\n",
       "      <td>0</td>\n",
       "      <td>0</td>\n",
       "      <td>0</td>\n",
       "      <td>5500000</td>\n",
       "      <td>228125</td>\n",
       "      <td>23011662</td>\n",
       "      <td>6648385</td>\n",
       "      <td>271343058</td>\n",
       "      <td>289375655</td>\n",
       "      <td>1617000000</td>\n",
       "      <td>0.2529</td>\n",
       "      <td>0.5936</td>\n",
       "      <td>0.0048</td>\n",
       "      <td>0.0122</td>\n",
       "      <td>0.0071</td>\n",
       "      <td>0.8706</td>\n",
       "      <td>0.003</td>\n",
       "      <td>0.0049</td>\n",
       "      <td>0.0067</td>\n",
       "      <td>0.0034</td>\n",
       "      <td>0.0180</td>\n",
       "      <td>0.0000</td>\n",
       "      <td>0.0000</td>\n",
       "      <td>0.0</td>\n",
       "      <td>0</td>\n",
       "      <td>0.0</td>\n",
       "      <td>0.0</td>\n",
       "      <td>0.0000</td>\n",
       "      <td>0.0000</td>\n",
       "      <td>0.0</td>\n",
       "      <td>0.0</td>\n",
       "      <td>0.0063</td>\n",
       "      <td>0.0063</td>\n",
       "      <td>0.0000</td>\n",
       "      <td>0.0000</td>\n",
       "      <td>0.0000</td>\n",
       "      <td>0.0000</td>\n",
       "      <td>0.0000</td>\n",
       "      <td>0.0000</td>\n",
       "      <td>0.0</td>\n",
       "      <td>0.0</td>\n",
       "      <td>0.0190</td>\n",
       "      <td>0.0008</td>\n",
       "      <td>0.0795</td>\n",
       "      <td>0.0230</td>\n",
       "      <td>0.9377</td>\n",
       "      <td>1.0172</td>\n",
       "      <td>0.1790</td>\n",
       "    </tr>\n",
       "  </tbody>\n",
       "</table>\n",
       "</div>"
      ],
      "text/plain": [
       "   year     region  christianity_protestant  christianity_romancatholic  \\\n",
       "0  1945     Africa                  2074180                      672337   \n",
       "1  1945       Asia                  2407144                     2222908   \n",
       "2  1945     Europe                 83145512                   216041422   \n",
       "3  1945    Mideast                    87174                      635929   \n",
       "4  1945  West. Hem                 73173575                   171759439   \n",
       "\n",
       "   christianity_easternorthodox  christianity_anglican  christianity_other  \\\n",
       "0                       7251492                 419457             4170594   \n",
       "1                        181928                3142204             1964907   \n",
       "2                      86503645               29855595             5361826   \n",
       "3                       3180260                      0              108332   \n",
       "4                       1383846                3537777             2068807   \n",
       "\n",
       "   christianity_all  judaism_orthodox  judaism_conservative  judaism_reform  \\\n",
       "0          14588060                 0                     0               0   \n",
       "1           9919091                 0                     0               0   \n",
       "2         420908000                 0                     0               0   \n",
       "3           4011695                 0                     0               0   \n",
       "4         251923444            856827               1426350         1929388   \n",
       "\n",
       "   judaism_other  judaism_all  islam_sunni  islam_shi’a  islam_ibadhi  \\\n",
       "0          80487        80487            0            0             0   \n",
       "1          30369        30369      7451998       940000             0   \n",
       "2        6068020      6068020            0            0             0   \n",
       "3         623240       623240     41598322     18496742             0   \n",
       "4         994719      5207284            0            0             0   \n",
       "\n",
       "   islam_nationofislam  islam_alawite  islam_ahmadiyya  islam_other  \\\n",
       "0                    0              0                0      5051475   \n",
       "1                    0              0                0     27868347   \n",
       "2                    0              0                0     29353397   \n",
       "3                    0              0                0            0   \n",
       "4                    0              0                0            0   \n",
       "\n",
       "   islam_all  buddhism_mahayana  buddhism_theravada  buddhism_other  \\\n",
       "0    5051475                  0                   0              53   \n",
       "1   36260345                  0                   0       113681431   \n",
       "2   29353397                  0                   0          725632   \n",
       "3   60095064                  0                   0               0   \n",
       "4          0                  0                   0         1830820   \n",
       "\n",
       "   buddhism_all  zoroastrianism_all  hinduism_all  sikhism_all  shinto_all  \\\n",
       "0            53                   0        137290         1536           0   \n",
       "1     113681431                2710       5230216        12525    55228775   \n",
       "2        725632                   0         21691         1748           0   \n",
       "3             0               10000             0            0           0   \n",
       "4       1830820                   0             0         5000           0   \n",
       "\n",
       "   baha’i_all  taoism_all  jainism_all  confucianism_all  syncretism_all  \\\n",
       "0        2021           0            0                 0             831   \n",
       "1        7243      120950            0                 0       423153390   \n",
       "2        6231           0          181                 0            5896   \n",
       "3           0           0            0                 0               0   \n",
       "4           0           0            0                 0         5500000   \n",
       "\n",
       "   animism_all  noreligion_all  otherreligion_all  religion_all  population  \\\n",
       "0      9162018            7396              41833      29065604    29073000   \n",
       "1     22525760        30637661             152491     666325296   663450000   \n",
       "2      1294177        99829250            2535777     460920750   560750000   \n",
       "3            0             561             478440      65218439    65219000   \n",
       "4       228125        23011662            6648385     271343058   289375655   \n",
       "\n",
       "   world_population  protestant_percent  romancatholic_percent  \\\n",
       "0        1617000000              0.0713                 0.0231   \n",
       "1        1617000000              0.0036                 0.0034   \n",
       "2        1617000000              0.1483                 0.3853   \n",
       "3        1617000000              0.0013                 0.0098   \n",
       "4        1617000000              0.2529                 0.5936   \n",
       "\n",
       "   easternorthodox_percent  anglican_percent  otherchristianity_percent  \\\n",
       "0                   0.2494            0.0144                     0.1435   \n",
       "1                   0.0003            0.0047                     0.0030   \n",
       "2                   0.1543            0.0532                     0.0096   \n",
       "3                   0.0488            0.0000                     0.0017   \n",
       "4                   0.0048            0.0122                     0.0071   \n",
       "\n",
       "   christianity_percent  orthodox_percent  conservative_percent  \\\n",
       "0                0.5018             0.000                0.0000   \n",
       "1                0.0150             0.000                0.0000   \n",
       "2                0.7506             0.000                0.0000   \n",
       "3                0.0615             0.000                0.0000   \n",
       "4                0.8706             0.003                0.0049   \n",
       "\n",
       "   reform_percent  otherjudaism_percent  judaism_percent  sunni_percent  \\\n",
       "0          0.0000                0.0028           0.0028         0.0000   \n",
       "1          0.0000                0.0000           0.0000         0.0112   \n",
       "2          0.0000                0.0108           0.0108         0.0000   \n",
       "3          0.0000                0.0096           0.0096         0.6378   \n",
       "4          0.0067                0.0034           0.0180         0.0000   \n",
       "\n",
       "   shi’a_percent  ibadhi_percent  nationofislam_percent  alawite_percent  \\\n",
       "0         0.0000             0.0                      0              0.0   \n",
       "1         0.0014             0.0                      0              0.0   \n",
       "2         0.0000             0.0                      0              0.0   \n",
       "3         0.2836             0.0                      0              0.0   \n",
       "4         0.0000             0.0                      0              0.0   \n",
       "\n",
       "   ahmadiyya_percent  otherislam_percent  islam_percent  mahayana_percent  \\\n",
       "0                0.0              0.1738         0.1738               0.0   \n",
       "1                0.0              0.0420         0.0547               0.0   \n",
       "2                0.0              0.0523         0.0523               0.0   \n",
       "3                0.0              0.0000         0.9214               0.0   \n",
       "4                0.0              0.0000         0.0000               0.0   \n",
       "\n",
       "   theravada_percent  otherbuddhism_percent  buddhism_percent  \\\n",
       "0                0.0                 0.0000            0.0000   \n",
       "1                0.0                 0.1713            0.1713   \n",
       "2                0.0                 0.0013            0.0013   \n",
       "3                0.0                 0.0000            0.0000   \n",
       "4                0.0                 0.0063            0.0063   \n",
       "\n",
       "   zoroastrianism_percent  hinduism_percent  sikhism_percent  shinto_percent  \\\n",
       "0                  0.0000            0.0047           0.0001          0.0000   \n",
       "1                  0.0000            0.0079           0.0000          0.0832   \n",
       "2                  0.0000            0.0000           0.0000          0.0000   \n",
       "3                  0.0002            0.0000           0.0000          0.0000   \n",
       "4                  0.0000            0.0000           0.0000          0.0000   \n",
       "\n",
       "   baha’i_percent  taoism_percent  jainism_percent  confucianism_percent  \\\n",
       "0          0.0001          0.0000              0.0                   0.0   \n",
       "1          0.0000          0.0002              0.0                   0.0   \n",
       "2          0.0000          0.0000              0.0                   0.0   \n",
       "3          0.0000          0.0000              0.0                   0.0   \n",
       "4          0.0000          0.0000              0.0                   0.0   \n",
       "\n",
       "   syncretism_percent  animism_percent  noreligion_percent  \\\n",
       "0              0.0000           0.3151              0.0003   \n",
       "1              0.6378           0.0340              0.0462   \n",
       "2              0.0000           0.0023              0.1780   \n",
       "3              0.0000           0.0000              0.0000   \n",
       "4              0.0190           0.0008              0.0795   \n",
       "\n",
       "   otherreligion_percent  religion_sumpercent  total_percent  \\\n",
       "0                 0.0014               0.9997         1.0000   \n",
       "1                 0.0002               1.0043         1.0505   \n",
       "2                 0.0045               0.8220         1.0000   \n",
       "3                 0.0073               1.0000         1.0000   \n",
       "4                 0.0230               0.9377         1.0172   \n",
       "\n",
       "   worldpopulation_percent  \n",
       "0                   0.0180  \n",
       "1                   0.4103  \n",
       "2                   0.3468  \n",
       "3                   0.0403  \n",
       "4                   0.1790  "
      ]
     },
     "execution_count": 8,
     "metadata": {},
     "output_type": "execute_result"
    }
   ],
   "source": [
    "Religion.head()"
   ]
  },
  {
   "cell_type": "code",
   "execution_count": 9,
   "metadata": {},
   "outputs": [
    {
     "name": "stdout",
     "output_type": "stream",
     "text": [
      "<class 'pandas.core.frame.DataFrame'>\n",
      "RangeIndex: 70 entries, 0 to 69\n",
      "Data columns (total 78 columns):\n",
      "year                            70 non-null int64\n",
      "region                          70 non-null object\n",
      "christianity_protestant         70 non-null int64\n",
      "christianity_romancatholic      70 non-null int64\n",
      "christianity_easternorthodox    70 non-null int64\n",
      "christianity_anglican           70 non-null int64\n",
      "christianity_other              70 non-null int64\n",
      "christianity_all                70 non-null int64\n",
      "judaism_orthodox                70 non-null int64\n",
      "judaism_conservative            70 non-null int64\n",
      "judaism_reform                  70 non-null int64\n",
      "judaism_other                   70 non-null int64\n",
      "judaism_all                     70 non-null int64\n",
      "islam_sunni                     70 non-null int64\n",
      "islam_shi’a                     70 non-null int64\n",
      "islam_ibadhi                    70 non-null int64\n",
      "islam_nationofislam             70 non-null int64\n",
      "islam_alawite                   70 non-null int64\n",
      "islam_ahmadiyya                 70 non-null int64\n",
      "islam_other                     70 non-null int64\n",
      "islam_all                       70 non-null int64\n",
      "buddhism_mahayana               70 non-null int64\n",
      "buddhism_theravada              70 non-null int64\n",
      "buddhism_other                  70 non-null int64\n",
      "buddhism_all                    70 non-null int64\n",
      "zoroastrianism_all              70 non-null int64\n",
      "hinduism_all                    70 non-null int64\n",
      "sikhism_all                     70 non-null int64\n",
      "shinto_all                      70 non-null int64\n",
      "baha’i_all                      70 non-null int64\n",
      "taoism_all                      70 non-null int64\n",
      "jainism_all                     70 non-null int64\n",
      "confucianism_all                70 non-null int64\n",
      "syncretism_all                  70 non-null int64\n",
      "animism_all                     70 non-null int64\n",
      "noreligion_all                  70 non-null int64\n",
      "otherreligion_all               70 non-null int64\n",
      "religion_all                    70 non-null int64\n",
      "population                      70 non-null int64\n",
      "world_population                70 non-null int64\n",
      "protestant_percent              70 non-null float64\n",
      "romancatholic_percent           70 non-null float64\n",
      "easternorthodox_percent         70 non-null float64\n",
      "anglican_percent                70 non-null float64\n",
      "otherchristianity_percent       70 non-null float64\n",
      "christianity_percent            70 non-null float64\n",
      "orthodox_percent                70 non-null float64\n",
      "conservative_percent            70 non-null float64\n",
      "reform_percent                  70 non-null float64\n",
      "otherjudaism_percent            70 non-null float64\n",
      "judaism_percent                 70 non-null float64\n",
      "sunni_percent                   70 non-null float64\n",
      "shi’a_percent                   70 non-null float64\n",
      "ibadhi_percent                  70 non-null float64\n",
      "nationofislam_percent           70 non-null int64\n",
      "alawite_percent                 70 non-null float64\n",
      "ahmadiyya_percent               70 non-null float64\n",
      "otherislam_percent              70 non-null float64\n",
      "islam_percent                   70 non-null float64\n",
      "mahayana_percent                70 non-null float64\n",
      "theravada_percent               70 non-null float64\n",
      "otherbuddhism_percent           70 non-null float64\n",
      "buddhism_percent                70 non-null float64\n",
      "zoroastrianism_percent          70 non-null float64\n",
      "hinduism_percent                70 non-null float64\n",
      "sikhism_percent                 70 non-null float64\n",
      "shinto_percent                  70 non-null float64\n",
      "baha’i_percent                  70 non-null float64\n",
      "taoism_percent                  70 non-null float64\n",
      "jainism_percent                 70 non-null float64\n",
      "confucianism_percent            70 non-null float64\n",
      "syncretism_percent              70 non-null float64\n",
      "animism_percent                 70 non-null float64\n",
      "noreligion_percent              70 non-null float64\n",
      "otherreligion_percent           70 non-null float64\n",
      "religion_sumpercent             70 non-null float64\n",
      "total_percent                   70 non-null float64\n",
      "worldpopulation_percent         70 non-null float64\n",
      "dtypes: float64(37), int64(40), object(1)\n",
      "memory usage: 42.7+ KB\n"
     ]
    }
   ],
   "source": [
    "Religion.info()"
   ]
  },
  {
   "cell_type": "code",
   "execution_count": 11,
   "metadata": {},
   "outputs": [
    {
     "data": {
      "text/plain": [
       "2010    5\n",
       "2005    5\n",
       "2000    5\n",
       "1995    5\n",
       "1990    5\n",
       "1985    5\n",
       "1980    5\n",
       "1975    5\n",
       "1970    5\n",
       "1965    5\n",
       "1960    5\n",
       "1955    5\n",
       "1950    5\n",
       "1945    5\n",
       "Name: year, dtype: int64"
      ]
     },
     "execution_count": 11,
     "metadata": {},
     "output_type": "execute_result"
    }
   ],
   "source": [
    "Religion['year'].value_counts().head(20)"
   ]
  },
  {
   "cell_type": "code",
   "execution_count": 12,
   "metadata": {},
   "outputs": [
    {
     "data": {
      "text/plain": [
       "Europe       14\n",
       "Asia         14\n",
       "West. Hem    14\n",
       "Mideast      14\n",
       "Africa       14\n",
       "Name: region, dtype: int64"
      ]
     },
     "execution_count": 12,
     "metadata": {},
     "output_type": "execute_result"
    }
   ],
   "source": [
    "Religion['region'].value_counts().head(20)"
   ]
  },
  {
   "cell_type": "code",
   "execution_count": 14,
   "metadata": {},
   "outputs": [
    {
     "data": {
      "text/plain": [
       "728414000     1\n",
       "560750000     1\n",
       "289375655     1\n",
       "1436233000    1\n",
       "565658000     1\n",
       "432444000     1\n",
       "210887000     1\n",
       "2013375984    1\n",
       "799492401     1\n",
       "603716000     1\n",
       "102730000     1\n",
       "560925800     1\n",
       "745596883     1\n",
       "65219000      1\n",
       "845942719     1\n",
       "486520000     1\n",
       "2937844992    1\n",
       "77683000      1\n",
       "358220000     1\n",
       "498934000     1\n",
       "Name: population, dtype: int64"
      ]
     },
     "execution_count": 14,
     "metadata": {},
     "output_type": "execute_result"
    }
   ],
   "source": [
    "Religion['population'].value_counts().head(20)"
   ]
  },
  {
   "cell_type": "code",
   "execution_count": 15,
   "metadata": {},
   "outputs": [
    {
     "data": {
      "text/plain": [
       "354313342     1\n",
       "33687082      1\n",
       "569770141     1\n",
       "184322590     1\n",
       "560565791     1\n",
       "1320030368    1\n",
       "609866242     1\n",
       "285507000     1\n",
       "460920750     1\n",
       "613155338     1\n",
       "550611759     1\n",
       "666325296     1\n",
       "443306418     1\n",
       "1524692019    1\n",
       "623246925     1\n",
       "336312501     1\n",
       "2975462044    1\n",
       "393694745     1\n",
       "831582993     1\n",
       "255090697     1\n",
       "Name: religion_all, dtype: int64"
      ]
     },
     "execution_count": 15,
     "metadata": {},
     "output_type": "execute_result"
    }
   ],
   "source": [
    "Religion['religion_all'].value_counts().head(20)"
   ]
  },
  {
   "cell_type": "markdown",
   "metadata": {},
   "source": [
    "# Looking for NaN Values"
   ]
  },
  {
   "cell_type": "code",
   "execution_count": 10,
   "metadata": {},
   "outputs": [
    {
     "data": {
      "text/plain": [
       "<matplotlib.axes._subplots.AxesSubplot at 0x1ea18b357f0>"
      ]
     },
     "execution_count": 10,
     "metadata": {},
     "output_type": "execute_result"
    },
    {
     "data": {
      "image/png": "[encoded data removed]",
      "text/plain": [
       "<matplotlib.figure.Figure at 0x1ea18b30668>"
      ]
     },
     "metadata": {},
     "output_type": "display_data"
    }
   ],
   "source": [
    "sns.heatmap(Religion.isnull(),yticklabels=False,cbar=False,cmap='coolwarm')"
   ]
  },
  {
   "cell_type": "markdown",
   "metadata": {},
   "source": [
    "Look's good. Let's move on to the visualizations."
   ]
  },
  {
   "cell_type": "markdown",
   "metadata": {},
   "source": [
    "# Religion by Africa"
   ]
  },
  {
   "cell_type": "code",
   "execution_count": 16,
   "metadata": {},
   "outputs": [
    {
     "data": {
      "text/plain": [
       "[<matplotlib.text.Text at 0x1ea1a0c4978>,\n",
       " <matplotlib.text.Text at 0x1ea1a0c9198>,\n",
       " <matplotlib.text.Text at 0x1ea1a4bf198>,\n",
       " <matplotlib.text.Text at 0x1ea1a4bfb70>,\n",
       " <matplotlib.text.Text at 0x1ea1a4c4588>,\n",
       " <matplotlib.text.Text at 0x1ea1a4c4f60>,\n",
       " <matplotlib.text.Text at 0x1ea1a4ca6a0>,\n",
       " <matplotlib.text.Text at 0x1ea1a4d00b8>,\n",
       " <matplotlib.text.Text at 0x1ea1a4d0a90>,\n",
       " <matplotlib.text.Text at 0x1ea1a4d59e8>,\n",
       " <matplotlib.text.Text at 0x1ea1a4d5e48>,\n",
       " <matplotlib.text.Text at 0x1ea1a4da860>,\n",
       " <matplotlib.text.Text at 0x1ea1a4df278>,\n",
       " <matplotlib.text.Text at 0x1ea1a4dfc50>]"
      ]
     },
     "execution_count": 16,
     "metadata": {},
     "output_type": "execute_result"
    },
    {
     "data": {
      "image/png": "[encoded data removed]",
      "text/plain": [
       "<matplotlib.figure.Figure at 0x1ea18c3ceb8>"
      ]
     },
     "metadata": {},
     "output_type": "display_data"
    }
   ],
   "source": [
    "religionAll = Religion[['region','year','christianity_all','judaism_all','islam_all','buddhism_all','zoroastrianism_all','hinduism_all','sikhism_all','confucianism_all','noreligion_all']].copy() \n",
    "religionByAfrica = religionAll[religionAll['region']==\"Africa\"]\n",
    "\n",
    "religionByAfrica.reset_index()\n",
    "colors = ['b', 'g', 'r', 'c', 'm','y', 'k', 'w', '#FF0033', '#FF8833','#FF0088']\n",
    "ax = religionByAfrica[['christianity_all','judaism_all','islam_all','buddhism_all','hinduism_all','sikhism_all','confucianism_all','noreligion_all']].plot(kind='bar', title =\"African Population\", color=colors)\n",
    "ax.set_xlabel(\"Year\",fontsize=12)\n",
    "ax.set_ylabel(\"Population\", fontsize=12)\n",
    "ax.set_xticklabels(religionByAfrica['year'])"
   ]
  },
  {
   "cell_type": "markdown",
   "metadata": {},
   "source": [
    "# Asian Population"
   ]
  },
  {
   "cell_type": "code",
   "execution_count": 17,
   "metadata": {},
   "outputs": [
    {
     "data": {
      "text/plain": [
       "[<matplotlib.text.Text at 0x1ea1a457a58>,\n",
       " <matplotlib.text.Text at 0x1ea1a533e10>,\n",
       " <matplotlib.text.Text at 0x1ea1a706ac8>,\n",
       " <matplotlib.text.Text at 0x1ea1a70b4e0>,\n",
       " <matplotlib.text.Text at 0x1ea1a70bbe0>,\n",
       " <matplotlib.text.Text at 0x1ea1a70f5f8>,\n",
       " <matplotlib.text.Text at 0x1ea1a70ffd0>,\n",
       " <matplotlib.text.Text at 0x1ea1a7149e8>,\n",
       " <matplotlib.text.Text at 0x1ea1a71a400>,\n",
       " <matplotlib.text.Text at 0x1ea1a46e5f8>,\n",
       " <matplotlib.text.Text at 0x1ea1a7257f0>,\n",
       " <matplotlib.text.Text at 0x1ea1a7281d0>,\n",
       " <matplotlib.text.Text at 0x1ea1a728ba8>,\n",
       " <matplotlib.text.Text at 0x1ea1a72d5c0>]"
      ]
     },
     "execution_count": 17,
     "metadata": {},
     "output_type": "execute_result"
    },
    {
     "data": {
      "image/png": "[encoded data removed]",
      "text/plain": [
       "<matplotlib.figure.Figure at 0x1ea1a31c278>"
      ]
     },
     "metadata": {},
     "output_type": "display_data"
    }
   ],
   "source": [
    "religionByAsia = religionAll[religionAll['region']==\"Asia\"]\n",
    "\n",
    "religionByAsia.reset_index()\n",
    "\n",
    "ax = religionByAsia[['christianity_all','judaism_all','islam_all','buddhism_all','hinduism_all','sikhism_all','confucianism_all','noreligion_all']].plot(kind='bar', title =\"Asian Population\", color=colors)\n",
    "ax.set_xlabel(\"Year\",fontsize=12)\n",
    "ax.set_ylabel(\"Population\", fontsize=12)\n",
    "ax.set_xticklabels(religionByAfrica['year'])"
   ]
  },
  {
   "cell_type": "markdown",
   "metadata": {},
   "source": [
    "# Europe"
   ]
  },
  {
   "cell_type": "code",
   "execution_count": 18,
   "metadata": {},
   "outputs": [
    {
     "data": {
      "text/plain": [
       "[<matplotlib.text.Text at 0x1ea1a5a7b00>,\n",
       " <matplotlib.text.Text at 0x1ea1a5b16d8>,\n",
       " <matplotlib.text.Text at 0x1ea1a948550>,\n",
       " <matplotlib.text.Text at 0x1ea1a948f28>,\n",
       " <matplotlib.text.Text at 0x1ea1a94c668>,\n",
       " <matplotlib.text.Text at 0x1ea1a951080>,\n",
       " <matplotlib.text.Text at 0x1ea1a951a58>,\n",
       " <matplotlib.text.Text at 0x1ea1a955470>,\n",
       " <matplotlib.text.Text at 0x1ea1a955e48>,\n",
       " <matplotlib.text.Text at 0x1ea1a785c18>,\n",
       " <matplotlib.text.Text at 0x1ea1a965278>,\n",
       " <matplotlib.text.Text at 0x1ea1a965c18>,\n",
       " <matplotlib.text.Text at 0x1ea1a96c630>,\n",
       " <matplotlib.text.Text at 0x1ea1a96f048>]"
      ]
     },
     "execution_count": 18,
     "metadata": {},
     "output_type": "execute_result"
    },
    {
     "data": {
      "image/png": "[encoded data removed]",
      "text/plain": [
       "<matplotlib.figure.Figure at 0x1ea1a71ae80>"
      ]
     },
     "metadata": {},
     "output_type": "display_data"
    }
   ],
   "source": [
    "religionByEurope = religionAll[religionAll['region']==\"Europe\"]\n",
    "\n",
    "religionByEurope.reset_index()\n",
    "\n",
    "ax = religionByEurope[['christianity_all','judaism_all','islam_all','buddhism_all','hinduism_all','sikhism_all','confucianism_all','noreligion_all']].plot(kind='bar', title =\"European Population\", color=colors)\n",
    "ax.set_xlabel(\"Year\",fontsize=12)\n",
    "ax.set_ylabel(\"Population\", fontsize=12)\n",
    "ax.set_xticklabels(religionByEurope['year'])\n"
   ]
  },
  {
   "cell_type": "markdown",
   "metadata": {},
   "source": [
    "# Middle East"
   ]
  },
  {
   "cell_type": "code",
   "execution_count": 19,
   "metadata": {},
   "outputs": [
    {
     "data": {
      "image/png": "[encoded data removed]",
      "text/plain": [
       "<matplotlib.figure.Figure at 0x1ea1a7a8eb8>"
      ]
     },
     "metadata": {},
     "output_type": "display_data"
    }
   ],
   "source": [
    "religionByMidEast = religionAll[religionAll['region']==\"Mideast\"]\n",
    "\n",
    "religionByMidEast.reset_index()\n",
    "\n",
    "ax = religionByMidEast[['christianity_all','judaism_all','islam_all','buddhism_all','hinduism_all','sikhism_all','confucianism_all','noreligion_all']].plot(kind='bar', title =\"Middle-East Population\", color=colors)\n",
    "ax.set_xlabel(\"Year\",fontsize=12)\n",
    "ax.set_ylabel(\"Population\", fontsize=12)\n",
    "ax.set_xticklabels(religionByMidEast['year'])\n",
    "plt.show()\n",
    "# Reading from National.csv\n",
    "\n",
    "Religion = pd.read_csv('./national.csv')\n",
    "religionAll = Religion[['state','year','code','christianity_all','judaism_all','islam_all','buddhism_all','zoroastrianism_all','hinduism_all','sikhism_all','confucianism_all','noreligion_all']].copy() \n"
   ]
  },
  {
   "cell_type": "markdown",
   "metadata": {},
   "source": [
    "# India"
   ]
  },
  {
   "cell_type": "code",
   "execution_count": 20,
   "metadata": {},
   "outputs": [
    {
     "data": {
      "text/plain": [
       "[<matplotlib.text.Text at 0x1ea1ac0ee80>,\n",
       " <matplotlib.text.Text at 0x1ea1ac02550>,\n",
       " <matplotlib.text.Text at 0x1ea1adc4470>,\n",
       " <matplotlib.text.Text at 0x1ea1adc4e48>,\n",
       " <matplotlib.text.Text at 0x1ea1adca860>,\n",
       " <matplotlib.text.Text at 0x1ea1adcaf60>,\n",
       " <matplotlib.text.Text at 0x1ea1adcf978>,\n",
       " <matplotlib.text.Text at 0x1ea1add3390>,\n",
       " <matplotlib.text.Text at 0x1ea1add3d68>,\n",
       " <matplotlib.text.Text at 0x1ea1ac28da0>,\n",
       " <matplotlib.text.Text at 0x1ea1addd6a0>,\n",
       " <matplotlib.text.Text at 0x1ea1ade20b8>,\n",
       " <matplotlib.text.Text at 0x1ea1add8d68>]"
      ]
     },
     "execution_count": 20,
     "metadata": {},
     "output_type": "execute_result"
    },
    {
     "data": {
      "image/png": "[encoded data removed]",
      "text/plain": [
       "<matplotlib.figure.Figure at 0x1ea18ba4390>"
      ]
     },
     "metadata": {},
     "output_type": "display_data"
    }
   ],
   "source": [
    "religionByCountry_India = religionAll[religionAll['state']=='India']\n",
    "\n",
    "religionByCountry_India.reset_index()\n",
    "\n",
    "ax = religionByCountry_India[['christianity_all','judaism_all','islam_all','buddhism_all','hinduism_all','sikhism_all','confucianism_all','noreligion_all']].plot(kind='bar', title =\"India Population\", color=colors)\n",
    "ax.set_xlabel(\"Year\",fontsize=12)\n",
    "ax.set_ylabel(\"Population\", fontsize=12)\n",
    "ax.set_xticklabels(religionByCountry_India['year'])\n"
   ]
  },
  {
   "cell_type": "markdown",
   "metadata": {},
   "source": [
    "# Pakistan"
   ]
  },
  {
   "cell_type": "code",
   "execution_count": 21,
   "metadata": {},
   "outputs": [
    {
     "data": {
      "text/plain": [
       "[<matplotlib.text.Text at 0x1ea1ad19048>,\n",
       " <matplotlib.text.Text at 0x1ea1aba8828>,\n",
       " <matplotlib.text.Text at 0x1ea1ab64b38>,\n",
       " <matplotlib.text.Text at 0x1ea1ab64cc0>,\n",
       " <matplotlib.text.Text at 0x1ea1ab6b940>,\n",
       " <matplotlib.text.Text at 0x1ea1ab5cf98>,\n",
       " <matplotlib.text.Text at 0x1ea1ab716a0>,\n",
       " <matplotlib.text.Text at 0x1ea1ab717f0>,\n",
       " <matplotlib.text.Text at 0x1ea1a829630>,\n",
       " <matplotlib.text.Text at 0x1ea1ab89390>,\n",
       " <matplotlib.text.Text at 0x1ea1ab6b240>,\n",
       " <matplotlib.text.Text at 0x1ea1ab5c278>,\n",
       " <matplotlib.text.Text at 0x1ea1a94c9b0>]"
      ]
     },
     "execution_count": 21,
     "metadata": {},
     "output_type": "execute_result"
    },
    {
     "data": {
      "image/png": "[encoded data removed]",
      "text/plain": [
       "<matplotlib.figure.Figure at 0x1ea1ac39128>"
      ]
     },
     "metadata": {},
     "output_type": "display_data"
    }
   ],
   "source": [
    "religionByCountry_Pak = religionAll[religionAll['state']=='Pakistan']\n",
    "\n",
    "religionByCountry_Pak.reset_index()\n",
    "\n",
    "ax = religionByCountry_Pak[['christianity_all','judaism_all','islam_all','buddhism_all','hinduism_all','sikhism_all','confucianism_all','noreligion_all']].plot(kind='bar', title =\"Pakistan Population\", color=colors)\n",
    "ax.set_xlabel(\"Year\",fontsize=12)\n",
    "ax.set_ylabel(\"Population\", fontsize=12)\n",
    "ax.set_xticklabels(religionByCountry_Pak['year'])"
   ]
  },
  {
   "cell_type": "markdown",
   "metadata": {},
   "source": [
    "# Saudi Arabia"
   ]
  },
  {
   "cell_type": "code",
   "execution_count": 22,
   "metadata": {},
   "outputs": [
    {
     "data": {
      "text/plain": [
       "[<matplotlib.text.Text at 0x1ea1aa48828>,\n",
       " <matplotlib.text.Text at 0x1ea1aa6e780>,\n",
       " <matplotlib.text.Text at 0x1ea1bfac550>,\n",
       " <matplotlib.text.Text at 0x1ea1bfacf28>,\n",
       " <matplotlib.text.Text at 0x1ea1bfb1668>,\n",
       " <matplotlib.text.Text at 0x1ea1bfb6080>,\n",
       " <matplotlib.text.Text at 0x1ea1bfb6a58>,\n",
       " <matplotlib.text.Text at 0x1ea1bfbb470>,\n",
       " <matplotlib.text.Text at 0x1ea1bfbbe48>,\n",
       " <matplotlib.text.Text at 0x1ea1a9d2438>,\n",
       " <matplotlib.text.Text at 0x1ea1bfca278>,\n",
       " <matplotlib.text.Text at 0x1ea1bfcac18>,\n",
       " <matplotlib.text.Text at 0x1ea1bfcf630>,\n",
       " <matplotlib.text.Text at 0x1ea1bfd3048>]"
      ]
     },
     "execution_count": 22,
     "metadata": {},
     "output_type": "execute_result"
    },
    {
     "data": {
      "image/png": "[encoded data removed]",
      "text/plain": [
       "<matplotlib.figure.Figure at 0x1ea1aa08eb8>"
      ]
     },
     "metadata": {},
     "output_type": "display_data"
    }
   ],
   "source": [
    "religionByCountry_Saudi = religionAll[religionAll['state']=='Saudi Arabia']\n",
    "religionByCountry_Saudi.reset_index()\n",
    "\n",
    "ax = religionByCountry_Saudi[['christianity_all','judaism_all','islam_all','buddhism_all','hinduism_all','sikhism_all','confucianism_all','noreligion_all']].plot(kind='bar', title =\"Saudi Population\", color=colors)\n",
    "ax.set_xlabel(\"Year\",fontsize=12)\n",
    "ax.set_ylabel(\"Population\", fontsize=12)\n",
    "ax.set_xticklabels(religionByCountry_Saudi['year'])\n"
   ]
  },
  {
   "cell_type": "markdown",
   "metadata": {},
   "source": [
    "# China"
   ]
  },
  {
   "cell_type": "code",
   "execution_count": 23,
   "metadata": {},
   "outputs": [
    {
     "data": {
      "text/plain": [
       "[<matplotlib.text.Text at 0x1ea1c02a4a8>,\n",
       " <matplotlib.text.Text at 0x1ea1c0311d0>,\n",
       " <matplotlib.text.Text at 0x1ea1c1f43c8>,\n",
       " <matplotlib.text.Text at 0x1ea1c1f4da0>,\n",
       " <matplotlib.text.Text at 0x1ea1c1fb4e0>,\n",
       " <matplotlib.text.Text at 0x1ea1c1fbeb8>,\n",
       " <matplotlib.text.Text at 0x1ea1c2008d0>,\n",
       " <matplotlib.text.Text at 0x1ea1c2042e8>,\n",
       " <matplotlib.text.Text at 0x1ea1c204cc0>,\n",
       " <matplotlib.text.Text at 0x1ea1c03c9e8>,\n",
       " <matplotlib.text.Text at 0x1ea1ad19908>,\n",
       " <matplotlib.text.Text at 0x1ea1c204eb8>,\n",
       " <matplotlib.text.Text at 0x1ea1c20b8d0>,\n",
       " <matplotlib.text.Text at 0x1ea1c20d2e8>]"
      ]
     },
     "execution_count": 23,
     "metadata": {},
     "output_type": "execute_result"
    },
    {
     "data": {
      "image/png": "[encoded data removed]",
      "text/plain": [
       "<matplotlib.figure.Figure at 0x1ea1bfbbeb8>"
      ]
     },
     "metadata": {},
     "output_type": "display_data"
    }
   ],
   "source": [
    "religionByCountry_China = religionAll[religionAll['state']=='China']\n",
    "religionByCountry_China.reset_index()\n",
    "\n",
    "ax = religionByCountry_China[['christianity_all','judaism_all','islam_all','buddhism_all','hinduism_all','sikhism_all','confucianism_all','noreligion_all']].plot(kind='bar', title =\"China Population\", color=colors)\n",
    "ax.set_xlabel(\"Year\",fontsize=12)\n",
    "ax.set_ylabel(\"Population\", fontsize=12)\n",
    "ax.set_xticklabels(religionByCountry_China['year'])\n"
   ]
  },
  {
   "cell_type": "markdown",
   "metadata": {},
   "source": [
    "# Russia"
   ]
  },
  {
   "cell_type": "code",
   "execution_count": 24,
   "metadata": {},
   "outputs": [
    {
     "data": {
      "image/png": "[encoded data removed]",
      "text/plain": [
       "<matplotlib.figure.Figure at 0x1ea18ba4e80>"
      ]
     },
     "metadata": {},
     "output_type": "display_data"
    }
   ],
   "source": [
    "religionByCountry_Russia = religionAll[religionAll['state']=='Russia']\n",
    "religionByCountry_Russia.reset_index()\n",
    "\n",
    "ax = religionByCountry_Russia[['christianity_all','judaism_all','islam_all','buddhism_all','hinduism_all','sikhism_all','confucianism_all','noreligion_all']].plot(kind='bar', title =\"Russia Population\", color=colors)\n",
    "ax.set_xlabel(\"Year\",fontsize=12)\n",
    "ax.set_ylabel(\"Population\", fontsize=12)\n",
    "ax.set_xticklabels(religionByCountry_Russia['year'])\n",
    "plt.show()"
   ]
  },
  {
   "cell_type": "code",
   "execution_count": null,
   "metadata": {
    "collapsed": true
   },
   "outputs": [],
   "source": []
  }
 ],
 "metadata": {
  "kernelspec": {
   "display_name": "Python [conda root]",
   "language": "python",
   "name": "conda-root-py"
  },
  "language_info": {
   "codemirror_mode": {
    "name": "ipython",
    "version": 3
   },
   "file_extension": ".py",
   "mimetype": "text/x-python",
   "name": "python",
   "nbconvert_exporter": "python",
   "pygments_lexer": "ipython3",
   "version": "3.5.4"
  }
 },
 "nbformat": 4,
 "nbformat_minor": 2
}
