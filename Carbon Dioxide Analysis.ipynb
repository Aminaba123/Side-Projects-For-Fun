{
 "cells": [
  {
   "cell_type": "markdown",
   "metadata": {},
   "source": [
    "# Importing the Packages"
   ]
  },
  {
   "cell_type": "code",
   "execution_count": 1,
   "metadata": {},
   "outputs": [],
   "source": [
    "import numpy as np"
   ]
  },
  {
   "cell_type": "code",
   "execution_count": 2,
   "metadata": {},
   "outputs": [],
   "source": [
    "import pandas as pd"
   ]
  },
  {
   "cell_type": "code",
   "execution_count": 3,
   "metadata": {},
   "outputs": [],
   "source": [
    "import matplotlib.pyplot as plt\n",
    "% matplotlib inline"
   ]
  },
  {
   "cell_type": "code",
   "execution_count": 4,
   "metadata": {},
   "outputs": [],
   "source": [
    "import seaborn as sns"
   ]
  },
  {
   "cell_type": "code",
   "execution_count": 5,
   "metadata": {},
   "outputs": [
    {
     "data": {
      "text/html": [
       "<script>requirejs.config({paths: { 'plotly': ['https://cdn.plot.ly/plotly-latest.min']},});if(!window.Plotly) {{require(['plotly'],function(plotly) {window.Plotly=plotly;});}}</script>"
      ],
      "text/vnd.plotly.v1+html": [
       "<script>requirejs.config({paths: { 'plotly': ['https://cdn.plot.ly/plotly-latest.min']},});if(!window.Plotly) {{require(['plotly'],function(plotly) {window.Plotly=plotly;});}}</script>"
      ]
     },
     "metadata": {},
     "output_type": "display_data"
    }
   ],
   "source": [
    "import plotly.offline as py\n",
    "import plotly.graph_objs as go\n",
    "import datetime as dt\n",
    "\n",
    "py.init_notebook_mode(connected=True)"
   ]
  },
  {
   "cell_type": "markdown",
   "metadata": {},
   "source": [
    "# Loading the Data"
   ]
  },
  {
   "cell_type": "code",
   "execution_count": 6,
   "metadata": {},
   "outputs": [],
   "source": [
    "cd2 = pd.read_csv('./archive.csv')"
   ]
  },
  {
   "cell_type": "code",
   "execution_count": 7,
   "metadata": {},
   "outputs": [
    {
     "data": {
      "text/html": [
       "<div>\n",
       "<style scoped>\n",
       "    .dataframe tbody tr th:only-of-type {\n",
       "        vertical-align: middle;\n",
       "    }\n",
       "\n",
       "    .dataframe tbody tr th {\n",
       "        vertical-align: top;\n",
       "    }\n",
       "\n",
       "    .dataframe thead th {\n",
       "        text-align: right;\n",
       "    }\n",
       "</style>\n",
       "<table border=\"1\" class=\"dataframe\">\n",
       "  <thead>\n",
       "    <tr style=\"text-align: right;\">\n",
       "      <th></th>\n",
       "      <th>Year</th>\n",
       "      <th>Month</th>\n",
       "      <th>Decimal Date</th>\n",
       "      <th>Carbon Dioxide (ppm)</th>\n",
       "      <th>Seasonally Adjusted CO2 (ppm)</th>\n",
       "      <th>Carbon Dioxide Fit (ppm)</th>\n",
       "      <th>Seasonally Adjusted CO2 Fit (ppm)</th>\n",
       "    </tr>\n",
       "  </thead>\n",
       "  <tbody>\n",
       "    <tr>\n",
       "      <th>0</th>\n",
       "      <td>1958</td>\n",
       "      <td>1</td>\n",
       "      <td>1958.0411</td>\n",
       "      <td>NaN</td>\n",
       "      <td>NaN</td>\n",
       "      <td>NaN</td>\n",
       "      <td>NaN</td>\n",
       "    </tr>\n",
       "    <tr>\n",
       "      <th>1</th>\n",
       "      <td>1958</td>\n",
       "      <td>2</td>\n",
       "      <td>1958.1260</td>\n",
       "      <td>NaN</td>\n",
       "      <td>NaN</td>\n",
       "      <td>NaN</td>\n",
       "      <td>NaN</td>\n",
       "    </tr>\n",
       "    <tr>\n",
       "      <th>2</th>\n",
       "      <td>1958</td>\n",
       "      <td>3</td>\n",
       "      <td>1958.2027</td>\n",
       "      <td>315.69</td>\n",
       "      <td>314.42</td>\n",
       "      <td>316.18</td>\n",
       "      <td>314.89</td>\n",
       "    </tr>\n",
       "    <tr>\n",
       "      <th>3</th>\n",
       "      <td>1958</td>\n",
       "      <td>4</td>\n",
       "      <td>1958.2877</td>\n",
       "      <td>317.45</td>\n",
       "      <td>315.15</td>\n",
       "      <td>317.30</td>\n",
       "      <td>314.98</td>\n",
       "    </tr>\n",
       "    <tr>\n",
       "      <th>4</th>\n",
       "      <td>1958</td>\n",
       "      <td>5</td>\n",
       "      <td>1958.3699</td>\n",
       "      <td>317.50</td>\n",
       "      <td>314.73</td>\n",
       "      <td>317.83</td>\n",
       "      <td>315.06</td>\n",
       "    </tr>\n",
       "    <tr>\n",
       "      <th>5</th>\n",
       "      <td>1958</td>\n",
       "      <td>6</td>\n",
       "      <td>1958.4548</td>\n",
       "      <td>NaN</td>\n",
       "      <td>NaN</td>\n",
       "      <td>317.22</td>\n",
       "      <td>315.14</td>\n",
       "    </tr>\n",
       "    <tr>\n",
       "      <th>6</th>\n",
       "      <td>1958</td>\n",
       "      <td>7</td>\n",
       "      <td>1958.5370</td>\n",
       "      <td>315.86</td>\n",
       "      <td>315.17</td>\n",
       "      <td>315.87</td>\n",
       "      <td>315.21</td>\n",
       "    </tr>\n",
       "    <tr>\n",
       "      <th>7</th>\n",
       "      <td>1958</td>\n",
       "      <td>8</td>\n",
       "      <td>1958.6219</td>\n",
       "      <td>314.93</td>\n",
       "      <td>316.17</td>\n",
       "      <td>314.01</td>\n",
       "      <td>315.29</td>\n",
       "    </tr>\n",
       "    <tr>\n",
       "      <th>8</th>\n",
       "      <td>1958</td>\n",
       "      <td>9</td>\n",
       "      <td>1958.7068</td>\n",
       "      <td>313.21</td>\n",
       "      <td>316.06</td>\n",
       "      <td>312.48</td>\n",
       "      <td>315.35</td>\n",
       "    </tr>\n",
       "    <tr>\n",
       "      <th>9</th>\n",
       "      <td>1958</td>\n",
       "      <td>10</td>\n",
       "      <td>1958.7890</td>\n",
       "      <td>NaN</td>\n",
       "      <td>NaN</td>\n",
       "      <td>312.45</td>\n",
       "      <td>315.40</td>\n",
       "    </tr>\n",
       "    <tr>\n",
       "      <th>10</th>\n",
       "      <td>1958</td>\n",
       "      <td>11</td>\n",
       "      <td>1958.8740</td>\n",
       "      <td>313.33</td>\n",
       "      <td>315.20</td>\n",
       "      <td>313.61</td>\n",
       "      <td>315.46</td>\n",
       "    </tr>\n",
       "    <tr>\n",
       "      <th>11</th>\n",
       "      <td>1958</td>\n",
       "      <td>12</td>\n",
       "      <td>1958.9562</td>\n",
       "      <td>314.67</td>\n",
       "      <td>315.44</td>\n",
       "      <td>314.75</td>\n",
       "      <td>315.51</td>\n",
       "    </tr>\n",
       "    <tr>\n",
       "      <th>12</th>\n",
       "      <td>1959</td>\n",
       "      <td>1</td>\n",
       "      <td>1959.0411</td>\n",
       "      <td>315.58</td>\n",
       "      <td>315.56</td>\n",
       "      <td>315.60</td>\n",
       "      <td>315.57</td>\n",
       "    </tr>\n",
       "    <tr>\n",
       "      <th>13</th>\n",
       "      <td>1959</td>\n",
       "      <td>2</td>\n",
       "      <td>1959.1260</td>\n",
       "      <td>316.48</td>\n",
       "      <td>315.88</td>\n",
       "      <td>316.24</td>\n",
       "      <td>315.63</td>\n",
       "    </tr>\n",
       "    <tr>\n",
       "      <th>14</th>\n",
       "      <td>1959</td>\n",
       "      <td>3</td>\n",
       "      <td>1959.2027</td>\n",
       "      <td>316.65</td>\n",
       "      <td>315.37</td>\n",
       "      <td>316.98</td>\n",
       "      <td>315.69</td>\n",
       "    </tr>\n",
       "  </tbody>\n",
       "</table>\n",
       "</div>"
      ],
      "text/plain": [
       "    Year  Month  Decimal Date  Carbon Dioxide (ppm)  \\\n",
       "0   1958      1     1958.0411                   NaN   \n",
       "1   1958      2     1958.1260                   NaN   \n",
       "2   1958      3     1958.2027                315.69   \n",
       "3   1958      4     1958.2877                317.45   \n",
       "4   1958      5     1958.3699                317.50   \n",
       "5   1958      6     1958.4548                   NaN   \n",
       "6   1958      7     1958.5370                315.86   \n",
       "7   1958      8     1958.6219                314.93   \n",
       "8   1958      9     1958.7068                313.21   \n",
       "9   1958     10     1958.7890                   NaN   \n",
       "10  1958     11     1958.8740                313.33   \n",
       "11  1958     12     1958.9562                314.67   \n",
       "12  1959      1     1959.0411                315.58   \n",
       "13  1959      2     1959.1260                316.48   \n",
       "14  1959      3     1959.2027                316.65   \n",
       "\n",
       "    Seasonally Adjusted CO2 (ppm)  Carbon Dioxide Fit (ppm)  \\\n",
       "0                             NaN                       NaN   \n",
       "1                             NaN                       NaN   \n",
       "2                          314.42                    316.18   \n",
       "3                          315.15                    317.30   \n",
       "4                          314.73                    317.83   \n",
       "5                             NaN                    317.22   \n",
       "6                          315.17                    315.87   \n",
       "7                          316.17                    314.01   \n",
       "8                          316.06                    312.48   \n",
       "9                             NaN                    312.45   \n",
       "10                         315.20                    313.61   \n",
       "11                         315.44                    314.75   \n",
       "12                         315.56                    315.60   \n",
       "13                         315.88                    316.24   \n",
       "14                         315.37                    316.98   \n",
       "\n",
       "    Seasonally Adjusted CO2 Fit (ppm)  \n",
       "0                                 NaN  \n",
       "1                                 NaN  \n",
       "2                              314.89  \n",
       "3                              314.98  \n",
       "4                              315.06  \n",
       "5                              315.14  \n",
       "6                              315.21  \n",
       "7                              315.29  \n",
       "8                              315.35  \n",
       "9                              315.40  \n",
       "10                             315.46  \n",
       "11                             315.51  \n",
       "12                             315.57  \n",
       "13                             315.63  \n",
       "14                             315.69  "
      ]
     },
     "execution_count": 7,
     "metadata": {},
     "output_type": "execute_result"
    }
   ],
   "source": [
    "cd2.head(15)"
   ]
  },
  {
   "cell_type": "code",
   "execution_count": 8,
   "metadata": {},
   "outputs": [
    {
     "data": {
      "text/plain": [
       "(720, 7)"
      ]
     },
     "execution_count": 8,
     "metadata": {},
     "output_type": "execute_result"
    }
   ],
   "source": [
    "cd2.shape"
   ]
  },
  {
   "cell_type": "code",
   "execution_count": 9,
   "metadata": {},
   "outputs": [
    {
     "name": "stdout",
     "output_type": "stream",
     "text": [
      "<class 'pandas.core.frame.DataFrame'>\n",
      "RangeIndex: 720 entries, 0 to 719\n",
      "Data columns (total 7 columns):\n",
      "Year                                 720 non-null int64\n",
      "Month                                720 non-null int64\n",
      "Decimal Date                         720 non-null float64\n",
      "Carbon Dioxide (ppm)                 703 non-null float64\n",
      "Seasonally Adjusted CO2 (ppm)        703 non-null float64\n",
      "Carbon Dioxide Fit (ppm)             707 non-null float64\n",
      "Seasonally Adjusted CO2 Fit (ppm)    707 non-null float64\n",
      "dtypes: float64(5), int64(2)\n",
      "memory usage: 39.5 KB\n"
     ]
    }
   ],
   "source": [
    "cd2.info()"
   ]
  },
  {
   "cell_type": "code",
   "execution_count": 10,
   "metadata": {},
   "outputs": [
    {
     "data": {
      "text/html": [
       "<div>\n",
       "<style scoped>\n",
       "    .dataframe tbody tr th:only-of-type {\n",
       "        vertical-align: middle;\n",
       "    }\n",
       "\n",
       "    .dataframe tbody tr th {\n",
       "        vertical-align: top;\n",
       "    }\n",
       "\n",
       "    .dataframe thead th {\n",
       "        text-align: right;\n",
       "    }\n",
       "</style>\n",
       "<table border=\"1\" class=\"dataframe\">\n",
       "  <thead>\n",
       "    <tr style=\"text-align: right;\">\n",
       "      <th></th>\n",
       "      <th>Year</th>\n",
       "      <th>Month</th>\n",
       "      <th>Decimal Date</th>\n",
       "      <th>Carbon Dioxide (ppm)</th>\n",
       "      <th>Seasonally Adjusted CO2 (ppm)</th>\n",
       "      <th>Carbon Dioxide Fit (ppm)</th>\n",
       "      <th>Seasonally Adjusted CO2 Fit (ppm)</th>\n",
       "    </tr>\n",
       "  </thead>\n",
       "  <tbody>\n",
       "    <tr>\n",
       "      <th>705</th>\n",
       "      <td>2016</td>\n",
       "      <td>10</td>\n",
       "      <td>2016.7896</td>\n",
       "      <td>401.50</td>\n",
       "      <td>405.12</td>\n",
       "      <td>401.48</td>\n",
       "      <td>405.09</td>\n",
       "    </tr>\n",
       "    <tr>\n",
       "      <th>706</th>\n",
       "      <td>2016</td>\n",
       "      <td>11</td>\n",
       "      <td>2016.8743</td>\n",
       "      <td>403.64</td>\n",
       "      <td>405.92</td>\n",
       "      <td>403.08</td>\n",
       "      <td>405.34</td>\n",
       "    </tr>\n",
       "    <tr>\n",
       "      <th>707</th>\n",
       "      <td>2016</td>\n",
       "      <td>12</td>\n",
       "      <td>2016.9563</td>\n",
       "      <td>404.55</td>\n",
       "      <td>405.49</td>\n",
       "      <td>404.66</td>\n",
       "      <td>405.58</td>\n",
       "    </tr>\n",
       "    <tr>\n",
       "      <th>708</th>\n",
       "      <td>2017</td>\n",
       "      <td>1</td>\n",
       "      <td>2017.0411</td>\n",
       "      <td>406.07</td>\n",
       "      <td>406.04</td>\n",
       "      <td>405.87</td>\n",
       "      <td>405.83</td>\n",
       "    </tr>\n",
       "    <tr>\n",
       "      <th>709</th>\n",
       "      <td>2017</td>\n",
       "      <td>2</td>\n",
       "      <td>2017.1260</td>\n",
       "      <td>406.64</td>\n",
       "      <td>405.90</td>\n",
       "      <td>NaN</td>\n",
       "      <td>NaN</td>\n",
       "    </tr>\n",
       "    <tr>\n",
       "      <th>710</th>\n",
       "      <td>2017</td>\n",
       "      <td>3</td>\n",
       "      <td>2017.2027</td>\n",
       "      <td>NaN</td>\n",
       "      <td>NaN</td>\n",
       "      <td>NaN</td>\n",
       "      <td>NaN</td>\n",
       "    </tr>\n",
       "    <tr>\n",
       "      <th>711</th>\n",
       "      <td>2017</td>\n",
       "      <td>4</td>\n",
       "      <td>2017.2877</td>\n",
       "      <td>NaN</td>\n",
       "      <td>NaN</td>\n",
       "      <td>NaN</td>\n",
       "      <td>NaN</td>\n",
       "    </tr>\n",
       "    <tr>\n",
       "      <th>712</th>\n",
       "      <td>2017</td>\n",
       "      <td>5</td>\n",
       "      <td>2017.3699</td>\n",
       "      <td>NaN</td>\n",
       "      <td>NaN</td>\n",
       "      <td>NaN</td>\n",
       "      <td>NaN</td>\n",
       "    </tr>\n",
       "    <tr>\n",
       "      <th>713</th>\n",
       "      <td>2017</td>\n",
       "      <td>6</td>\n",
       "      <td>2017.4548</td>\n",
       "      <td>NaN</td>\n",
       "      <td>NaN</td>\n",
       "      <td>NaN</td>\n",
       "      <td>NaN</td>\n",
       "    </tr>\n",
       "    <tr>\n",
       "      <th>714</th>\n",
       "      <td>2017</td>\n",
       "      <td>7</td>\n",
       "      <td>2017.5370</td>\n",
       "      <td>NaN</td>\n",
       "      <td>NaN</td>\n",
       "      <td>NaN</td>\n",
       "      <td>NaN</td>\n",
       "    </tr>\n",
       "    <tr>\n",
       "      <th>715</th>\n",
       "      <td>2017</td>\n",
       "      <td>8</td>\n",
       "      <td>2017.6219</td>\n",
       "      <td>NaN</td>\n",
       "      <td>NaN</td>\n",
       "      <td>NaN</td>\n",
       "      <td>NaN</td>\n",
       "    </tr>\n",
       "    <tr>\n",
       "      <th>716</th>\n",
       "      <td>2017</td>\n",
       "      <td>9</td>\n",
       "      <td>2017.7068</td>\n",
       "      <td>NaN</td>\n",
       "      <td>NaN</td>\n",
       "      <td>NaN</td>\n",
       "      <td>NaN</td>\n",
       "    </tr>\n",
       "    <tr>\n",
       "      <th>717</th>\n",
       "      <td>2017</td>\n",
       "      <td>10</td>\n",
       "      <td>2017.7890</td>\n",
       "      <td>NaN</td>\n",
       "      <td>NaN</td>\n",
       "      <td>NaN</td>\n",
       "      <td>NaN</td>\n",
       "    </tr>\n",
       "    <tr>\n",
       "      <th>718</th>\n",
       "      <td>2017</td>\n",
       "      <td>11</td>\n",
       "      <td>2017.8740</td>\n",
       "      <td>NaN</td>\n",
       "      <td>NaN</td>\n",
       "      <td>NaN</td>\n",
       "      <td>NaN</td>\n",
       "    </tr>\n",
       "    <tr>\n",
       "      <th>719</th>\n",
       "      <td>2017</td>\n",
       "      <td>12</td>\n",
       "      <td>2017.9562</td>\n",
       "      <td>NaN</td>\n",
       "      <td>NaN</td>\n",
       "      <td>NaN</td>\n",
       "      <td>NaN</td>\n",
       "    </tr>\n",
       "  </tbody>\n",
       "</table>\n",
       "</div>"
      ],
      "text/plain": [
       "     Year  Month  Decimal Date  Carbon Dioxide (ppm)  \\\n",
       "705  2016     10     2016.7896                401.50   \n",
       "706  2016     11     2016.8743                403.64   \n",
       "707  2016     12     2016.9563                404.55   \n",
       "708  2017      1     2017.0411                406.07   \n",
       "709  2017      2     2017.1260                406.64   \n",
       "710  2017      3     2017.2027                   NaN   \n",
       "711  2017      4     2017.2877                   NaN   \n",
       "712  2017      5     2017.3699                   NaN   \n",
       "713  2017      6     2017.4548                   NaN   \n",
       "714  2017      7     2017.5370                   NaN   \n",
       "715  2017      8     2017.6219                   NaN   \n",
       "716  2017      9     2017.7068                   NaN   \n",
       "717  2017     10     2017.7890                   NaN   \n",
       "718  2017     11     2017.8740                   NaN   \n",
       "719  2017     12     2017.9562                   NaN   \n",
       "\n",
       "     Seasonally Adjusted CO2 (ppm)  Carbon Dioxide Fit (ppm)  \\\n",
       "705                         405.12                    401.48   \n",
       "706                         405.92                    403.08   \n",
       "707                         405.49                    404.66   \n",
       "708                         406.04                    405.87   \n",
       "709                         405.90                       NaN   \n",
       "710                            NaN                       NaN   \n",
       "711                            NaN                       NaN   \n",
       "712                            NaN                       NaN   \n",
       "713                            NaN                       NaN   \n",
       "714                            NaN                       NaN   \n",
       "715                            NaN                       NaN   \n",
       "716                            NaN                       NaN   \n",
       "717                            NaN                       NaN   \n",
       "718                            NaN                       NaN   \n",
       "719                            NaN                       NaN   \n",
       "\n",
       "     Seasonally Adjusted CO2 Fit (ppm)  \n",
       "705                             405.09  \n",
       "706                             405.34  \n",
       "707                             405.58  \n",
       "708                             405.83  \n",
       "709                                NaN  \n",
       "710                                NaN  \n",
       "711                                NaN  \n",
       "712                                NaN  \n",
       "713                                NaN  \n",
       "714                                NaN  \n",
       "715                                NaN  \n",
       "716                                NaN  \n",
       "717                                NaN  \n",
       "718                                NaN  \n",
       "719                                NaN  "
      ]
     },
     "execution_count": 10,
     "metadata": {},
     "output_type": "execute_result"
    }
   ],
   "source": [
    "cd2.tail(15)"
   ]
  },
  {
   "cell_type": "markdown",
   "metadata": {},
   "source": [
    "# Looking for NaN Values"
   ]
  },
  {
   "cell_type": "code",
   "execution_count": 11,
   "metadata": {},
   "outputs": [
    {
     "name": "stdout",
     "output_type": "stream",
     "text": [
      "Year                                 False\n",
      "Month                                False\n",
      "Decimal Date                         False\n",
      "Carbon Dioxide (ppm)                  True\n",
      "Seasonally Adjusted CO2 (ppm)         True\n",
      "Carbon Dioxide Fit (ppm)              True\n",
      "Seasonally Adjusted CO2 Fit (ppm)     True\n",
      "dtype: bool\n"
     ]
    }
   ],
   "source": [
    "print(cd2.isnull().any())"
   ]
  },
  {
   "cell_type": "code",
   "execution_count": 12,
   "metadata": {},
   "outputs": [
    {
     "data": {
      "text/plain": [
       "<matplotlib.axes._subplots.AxesSubplot at 0x23021c2d470>"
      ]
     },
     "execution_count": 12,
     "metadata": {},
     "output_type": "execute_result"
    },
    {
     "data": {
      "image/png": "[encoded data removed]",
      "text/plain": [
       "<matplotlib.figure.Figure at 0x2301dcd1240>"
      ]
     },
     "metadata": {},
     "output_type": "display_data"
    }
   ],
   "source": [
    "sns.heatmap(cd2.isnull(),yticklabels=False,cbar=False,cmap='coolwarm')"
   ]
  },
  {
   "cell_type": "markdown",
   "metadata": {},
   "source": [
    "# Replacing the Null Values"
   ]
  },
  {
   "cell_type": "code",
   "execution_count": null,
   "metadata": {},
   "outputs": [],
   "source": [
    "cd2.fillna(method='bfill')"
   ]
  },
  {
   "cell_type": "code",
   "execution_count": null,
   "metadata": {},
   "outputs": [],
   "source": [
    "cd2.fillna(method='ffill')"
   ]
  },
  {
   "cell_type": "markdown",
   "metadata": {},
   "source": [
    "# Ignore Data with NaN Values"
   ]
  },
  {
   "cell_type": "code",
   "execution_count": 13,
   "metadata": {},
   "outputs": [
    {
     "name": "stdout",
     "output_type": "stream",
     "text": [
      "\n",
      "Ignored records:  18\n"
     ]
    }
   ],
   "source": [
    "old = cd2.shape\n",
    "co2data = cd2.dropna()\n",
    "\n",
    "print(\"\\nIgnored records: \", old[0]-co2data.shape[0])"
   ]
  },
  {
   "cell_type": "markdown",
   "metadata": {},
   "source": [
    "# Variations with the CO2 concentration from 1958-2017 (~60 years)"
   ]
  },
  {
   "cell_type": "code",
   "execution_count": 30,
   "metadata": {},
   "outputs": [
    {
     "data": {
      "application/vnd.plotly.v1+json": {
       "data": [
        {
         "type": "bar",
         "x": [
          1958,
          1959,
          1960,
          1961,
          1962,
          1963,
          1964,
          1965,
          1966,
          1967,
          1968,
          1969,
          1970,
          1971,
          1972,
          1973,
          1974,
          1975,
          1976,
          1977,
          1978,
          1979,
          1980,
          1981,
          1982,
          1983,
          1984,
          1985,
          1986,
          1987,
          1988,
          1989,
          1990,
          1991,
          1992,
          1993,
          1994,
          1995,
          1996,
          1997,
          1998,
          1999,
          2000,
          2001,
          2002,
          2003,
          2004,
          2005,
          2006,
          2007,
          2008,
          2009,
          2010,
          2011,
          2012,
          2013,
          2014,
          2015,
          2016,
          2017
         ],
         "y": [
          315.33000000000004,
          315.9816666666667,
          316.90833333333336,
          317.645,
          318.4533333333333,
          318.9925,
          319.2022222222222,
          320.03583333333336,
          321.36999999999995,
          322.18,
          323.0491666666666,
          324.6216666666666,
          325.6833333333334,
          326.31916666666666,
          327.45750000000004,
          329.67749999999995,
          330.2441666666667,
          331.1525,
          332.1525,
          333.9008333333333,
          335.50416666666666,
          336.85083333333336,
          338.685,
          339.9341666666667,
          341.13166666666666,
          342.7816666666667,
          344.42249999999996,
          345.9041666666667,
          347.1525,
          348.93249999999995,
          351.4841666666667,
          352.9075000000001,
          354.1858333333333,
          355.5916666666667,
          356.3733333333333,
          357.04,
          358.8866666666667,
          360.87833333333333,
          362.6408333333333,
          363.7633333333333,
          366.63000000000005,
          368.3133333333333,
          369.47499999999997,
          371.0208333333333,
          373.09666666666664,
          375.6366666666666,
          377.3625,
          379.61000000000007,
          381.80833333333334,
          383.5925,
          385.4491666666667,
          387.35833333333335,
          389.90000000000003,
          391.64916666666664,
          393.8708333333334,
          396.5666666666666,
          398.6133333333334,
          400.885,
          404.2775000000001,
          406.355
         ]
        }
       ],
       "layout": {
        "title": "Average CO<sub>2</sub> Levels in Atmosphere per Month",
        "xaxis": {
         "title": "Year"
        },
        "yaxis": {
         "range": [
          300,
          420
         ],
         "title": "Parts per Million (PPM)"
        }
       }
      },
      "text/html": [
       "<div id=\"f0535ca1-0bde-4605-853f-cf77d205a330\" style=\"height: 525px; width: 100%;\" class=\"plotly-graph-div\"></div><script type=\"text/javascript\">require([\"plotly\"], function(Plotly) { window.PLOTLYENV=window.PLOTLYENV || {};window.PLOTLYENV.BASE_URL=\"https://plot.ly\";Plotly.newPlot(\"f0535ca1-0bde-4605-853f-cf77d205a330\", [{\"type\": \"bar\", \"x\": [1958, 1959, 1960, 1961, 1962, 1963, 1964, 1965, 1966, 1967, 1968, 1969, 1970, 1971, 1972, 1973, 1974, 1975, 1976, 1977, 1978, 1979, 1980, 1981, 1982, 1983, 1984, 1985, 1986, 1987, 1988, 1989, 1990, 1991, 1992, 1993, 1994, 1995, 1996, 1997, 1998, 1999, 2000, 2001, 2002, 2003, 2004, 2005, 2006, 2007, 2008, 2009, 2010, 2011, 2012, 2013, 2014, 2015, 2016, 2017], \"y\": [315.33000000000004, 315.9816666666667, 316.90833333333336, 317.645, 318.4533333333333, 318.9925, 319.2022222222222, 320.03583333333336, 321.36999999999995, 322.18, 323.0491666666666, 324.6216666666666, 325.6833333333334, 326.31916666666666, 327.45750000000004, 329.67749999999995, 330.2441666666667, 331.1525, 332.1525, 333.9008333333333, 335.50416666666666, 336.85083333333336, 338.685, 339.9341666666667, 341.13166666666666, 342.7816666666667, 344.42249999999996, 345.9041666666667, 347.1525, 348.93249999999995, 351.4841666666667, 352.9075000000001, 354.1858333333333, 355.5916666666667, 356.3733333333333, 357.04, 358.8866666666667, 360.87833333333333, 362.6408333333333, 363.7633333333333, 366.63000000000005, 368.3133333333333, 369.47499999999997, 371.0208333333333, 373.09666666666664, 375.6366666666666, 377.3625, 379.61000000000007, 381.80833333333334, 383.5925, 385.4491666666667, 387.35833333333335, 389.90000000000003, 391.64916666666664, 393.8708333333334, 396.5666666666666, 398.6133333333334, 400.885, 404.2775000000001, 406.355]}], {\"title\": \"Average CO<sub>2</sub> Levels in Atmosphere per Month\", \"yaxis\": {\"title\": \"Parts per Million (PPM)\", \"range\": [300, 420]}, \"xaxis\": {\"title\": \"Year\"}}, {\"showLink\": true, \"linkText\": \"Export to plot.ly\"})});</script>"
      ],
      "text/vnd.plotly.v1+html": [
       "<div id=\"f0535ca1-0bde-4605-853f-cf77d205a330\" style=\"height: 525px; width: 100%;\" class=\"plotly-graph-div\"></div><script type=\"text/javascript\">require([\"plotly\"], function(Plotly) { window.PLOTLYENV=window.PLOTLYENV || {};window.PLOTLYENV.BASE_URL=\"https://plot.ly\";Plotly.newPlot(\"f0535ca1-0bde-4605-853f-cf77d205a330\", [{\"type\": \"bar\", \"x\": [1958, 1959, 1960, 1961, 1962, 1963, 1964, 1965, 1966, 1967, 1968, 1969, 1970, 1971, 1972, 1973, 1974, 1975, 1976, 1977, 1978, 1979, 1980, 1981, 1982, 1983, 1984, 1985, 1986, 1987, 1988, 1989, 1990, 1991, 1992, 1993, 1994, 1995, 1996, 1997, 1998, 1999, 2000, 2001, 2002, 2003, 2004, 2005, 2006, 2007, 2008, 2009, 2010, 2011, 2012, 2013, 2014, 2015, 2016, 2017], \"y\": [315.33000000000004, 315.9816666666667, 316.90833333333336, 317.645, 318.4533333333333, 318.9925, 319.2022222222222, 320.03583333333336, 321.36999999999995, 322.18, 323.0491666666666, 324.6216666666666, 325.6833333333334, 326.31916666666666, 327.45750000000004, 329.67749999999995, 330.2441666666667, 331.1525, 332.1525, 333.9008333333333, 335.50416666666666, 336.85083333333336, 338.685, 339.9341666666667, 341.13166666666666, 342.7816666666667, 344.42249999999996, 345.9041666666667, 347.1525, 348.93249999999995, 351.4841666666667, 352.9075000000001, 354.1858333333333, 355.5916666666667, 356.3733333333333, 357.04, 358.8866666666667, 360.87833333333333, 362.6408333333333, 363.7633333333333, 366.63000000000005, 368.3133333333333, 369.47499999999997, 371.0208333333333, 373.09666666666664, 375.6366666666666, 377.3625, 379.61000000000007, 381.80833333333334, 383.5925, 385.4491666666667, 387.35833333333335, 389.90000000000003, 391.64916666666664, 393.8708333333334, 396.5666666666666, 398.6133333333334, 400.885, 404.2775000000001, 406.355]}], {\"title\": \"Average CO<sub>2</sub> Levels in Atmosphere per Month\", \"yaxis\": {\"title\": \"Parts per Million (PPM)\", \"range\": [300, 420]}, \"xaxis\": {\"title\": \"Year\"}}, {\"showLink\": true, \"linkText\": \"Export to plot.ly\"})});</script>"
      ]
     },
     "metadata": {},
     "output_type": "display_data"
    }
   ],
   "source": [
    "group1 = cd2.groupby([\"Year\"]).mean()[\"Carbon Dioxide (ppm)\"]\n",
    "trace1 = go.Bar(x=group1.index, y=group1.values)\n",
    "layout = go.Layout(\n",
    "    title=\"Average CO<sub>2</sub> Levels in Atmosphere per Month\",\n",
    "    yaxis=dict(title=\"Parts per Million (PPM)\", range=(300,420)),\n",
    "    xaxis=dict(title=\"Year\"))\n",
    "fig = go.Figure(data=[trace1], layout=layout)\n",
    "py.iplot(fig, filename = \"co2-ppm-year\")"
   ]
  },
  {
   "cell_type": "markdown",
   "metadata": {},
   "source": [
    "# Fluctuations of the CO2 Levels"
   ]
  },
  {
   "cell_type": "code",
   "execution_count": 31,
   "metadata": {},
   "outputs": [],
   "source": [
    "group2 = cd2.groupby([\"Year\", \"Month\"]).mean()[\"Carbon Dioxide (ppm)\"]\n",
    "x = [dt.datetime(year=i[0], month=i[1], day=15) for i in group2.index]\n",
    "\n",
    "# Mean\n",
    "y1 = group2.values\n",
    "\n",
    "# Rolling Window Average\n",
    "y2 = group2.rolling(3, min_periods=1).mean().values\n",
    "\n",
    "# Exponentially Weighted Moving Average\n",
    "y3 = group2.ewm(span=3, min_periods=1).mean().values"
   ]
  },
  {
   "cell_type": "code",
   "execution_count": 32,
   "metadata": {},
   "outputs": [
    {
     "ename": "OSError",
     "evalue": "[Errno 22] Invalid argument",
     "output_type": "error",
     "traceback": [
      "\u001b[1;31m---------------------------------------------------------------------------\u001b[0m",
      "\u001b[1;31mOSError\u001b[0m                                   Traceback (most recent call last)",
      "\u001b[1;32m<ipython-input-32-e370d5f87424>\u001b[0m in \u001b[0;36m<module>\u001b[1;34m()\u001b[0m\n\u001b[0;32m     11\u001b[0m \u001b[1;33m\u001b[0m\u001b[0m\n\u001b[0;32m     12\u001b[0m \u001b[0mfig\u001b[0m \u001b[1;33m=\u001b[0m \u001b[0mgo\u001b[0m\u001b[1;33m.\u001b[0m\u001b[0mFigure\u001b[0m\u001b[1;33m(\u001b[0m\u001b[0mdata\u001b[0m\u001b[1;33m=\u001b[0m\u001b[1;33m[\u001b[0m\u001b[0mtrace2\u001b[0m\u001b[1;33m,\u001b[0m \u001b[0mtrace3\u001b[0m\u001b[1;33m,\u001b[0m \u001b[0mtrace4\u001b[0m\u001b[1;33m]\u001b[0m\u001b[1;33m,\u001b[0m \u001b[0mlayout\u001b[0m\u001b[1;33m=\u001b[0m\u001b[0mlayout\u001b[0m\u001b[1;33m)\u001b[0m\u001b[1;33m\u001b[0m\u001b[0m\n\u001b[1;32m---> 13\u001b[1;33m \u001b[0mpy\u001b[0m\u001b[1;33m.\u001b[0m\u001b[0miplot\u001b[0m\u001b[1;33m(\u001b[0m\u001b[0mfig\u001b[0m\u001b[1;33m)\u001b[0m\u001b[1;33m\u001b[0m\u001b[0m\n\u001b[0m",
      "\u001b[1;32m~\\Anaconda3\\lib\\site-packages\\plotly\\offline\\offline.py\u001b[0m in \u001b[0;36miplot\u001b[1;34m(figure_or_data, show_link, link_text, validate, image, filename, image_width, image_height, config)\u001b[0m\n\u001b[0;32m    336\u001b[0m     \u001b[1;31m# choose which one to act on.\u001b[0m\u001b[1;33m\u001b[0m\u001b[1;33m\u001b[0m\u001b[0m\n\u001b[0;32m    337\u001b[0m     data = _json.loads(_json.dumps(figure['data'],\n\u001b[1;32m--> 338\u001b[1;33m                                    cls=plotly.utils.PlotlyJSONEncoder))\n\u001b[0m\u001b[0;32m    339\u001b[0m     layout = _json.loads(_json.dumps(figure.get('layout', {}),\n\u001b[0;32m    340\u001b[0m                                      cls=plotly.utils.PlotlyJSONEncoder))\n",
      "\u001b[1;32m~\\Anaconda3\\lib\\json\\__init__.py\u001b[0m in \u001b[0;36mdumps\u001b[1;34m(obj, skipkeys, ensure_ascii, check_circular, allow_nan, cls, indent, separators, default, sort_keys, **kw)\u001b[0m\n\u001b[0;32m    236\u001b[0m         \u001b[0mcheck_circular\u001b[0m\u001b[1;33m=\u001b[0m\u001b[0mcheck_circular\u001b[0m\u001b[1;33m,\u001b[0m \u001b[0mallow_nan\u001b[0m\u001b[1;33m=\u001b[0m\u001b[0mallow_nan\u001b[0m\u001b[1;33m,\u001b[0m \u001b[0mindent\u001b[0m\u001b[1;33m=\u001b[0m\u001b[0mindent\u001b[0m\u001b[1;33m,\u001b[0m\u001b[1;33m\u001b[0m\u001b[0m\n\u001b[0;32m    237\u001b[0m         \u001b[0mseparators\u001b[0m\u001b[1;33m=\u001b[0m\u001b[0mseparators\u001b[0m\u001b[1;33m,\u001b[0m \u001b[0mdefault\u001b[0m\u001b[1;33m=\u001b[0m\u001b[0mdefault\u001b[0m\u001b[1;33m,\u001b[0m \u001b[0msort_keys\u001b[0m\u001b[1;33m=\u001b[0m\u001b[0msort_keys\u001b[0m\u001b[1;33m,\u001b[0m\u001b[1;33m\u001b[0m\u001b[0m\n\u001b[1;32m--> 238\u001b[1;33m         **kw).encode(obj)\n\u001b[0m\u001b[0;32m    239\u001b[0m \u001b[1;33m\u001b[0m\u001b[0m\n\u001b[0;32m    240\u001b[0m \u001b[1;33m\u001b[0m\u001b[0m\n",
      "\u001b[1;32m~\\Anaconda3\\lib\\site-packages\\plotly\\utils.py\u001b[0m in \u001b[0;36mencode\u001b[1;34m(self, o)\u001b[0m\n\u001b[0;32m    134\u001b[0m \u001b[1;33m\u001b[0m\u001b[0m\n\u001b[0;32m    135\u001b[0m         \u001b[1;31m# this will raise errors in a normal-expected way\u001b[0m\u001b[1;33m\u001b[0m\u001b[1;33m\u001b[0m\u001b[0m\n\u001b[1;32m--> 136\u001b[1;33m         \u001b[0mencoded_o\u001b[0m \u001b[1;33m=\u001b[0m \u001b[0msuper\u001b[0m\u001b[1;33m(\u001b[0m\u001b[0mPlotlyJSONEncoder\u001b[0m\u001b[1;33m,\u001b[0m \u001b[0mself\u001b[0m\u001b[1;33m)\u001b[0m\u001b[1;33m.\u001b[0m\u001b[0mencode\u001b[0m\u001b[1;33m(\u001b[0m\u001b[0mo\u001b[0m\u001b[1;33m)\u001b[0m\u001b[1;33m\u001b[0m\u001b[0m\n\u001b[0m\u001b[0;32m    137\u001b[0m \u001b[1;33m\u001b[0m\u001b[0m\n\u001b[0;32m    138\u001b[0m         \u001b[1;31m# now:\u001b[0m\u001b[1;33m\u001b[0m\u001b[1;33m\u001b[0m\u001b[0m\n",
      "\u001b[1;32m~\\Anaconda3\\lib\\json\\encoder.py\u001b[0m in \u001b[0;36mencode\u001b[1;34m(self, o)\u001b[0m\n\u001b[0;32m    197\u001b[0m         \u001b[1;31m# exceptions aren't as detailed.  The list call should be roughly\u001b[0m\u001b[1;33m\u001b[0m\u001b[1;33m\u001b[0m\u001b[0m\n\u001b[0;32m    198\u001b[0m         \u001b[1;31m# equivalent to the PySequence_Fast that ''.join() would do.\u001b[0m\u001b[1;33m\u001b[0m\u001b[1;33m\u001b[0m\u001b[0m\n\u001b[1;32m--> 199\u001b[1;33m         \u001b[0mchunks\u001b[0m \u001b[1;33m=\u001b[0m \u001b[0mself\u001b[0m\u001b[1;33m.\u001b[0m\u001b[0miterencode\u001b[0m\u001b[1;33m(\u001b[0m\u001b[0mo\u001b[0m\u001b[1;33m,\u001b[0m \u001b[0m_one_shot\u001b[0m\u001b[1;33m=\u001b[0m\u001b[1;32mTrue\u001b[0m\u001b[1;33m)\u001b[0m\u001b[1;33m\u001b[0m\u001b[0m\n\u001b[0m\u001b[0;32m    200\u001b[0m         \u001b[1;32mif\u001b[0m \u001b[1;32mnot\u001b[0m \u001b[0misinstance\u001b[0m\u001b[1;33m(\u001b[0m\u001b[0mchunks\u001b[0m\u001b[1;33m,\u001b[0m \u001b[1;33m(\u001b[0m\u001b[0mlist\u001b[0m\u001b[1;33m,\u001b[0m \u001b[0mtuple\u001b[0m\u001b[1;33m)\u001b[0m\u001b[1;33m)\u001b[0m\u001b[1;33m:\u001b[0m\u001b[1;33m\u001b[0m\u001b[0m\n\u001b[0;32m    201\u001b[0m             \u001b[0mchunks\u001b[0m \u001b[1;33m=\u001b[0m \u001b[0mlist\u001b[0m\u001b[1;33m(\u001b[0m\u001b[0mchunks\u001b[0m\u001b[1;33m)\u001b[0m\u001b[1;33m\u001b[0m\u001b[0m\n",
      "\u001b[1;32m~\\Anaconda3\\lib\\json\\encoder.py\u001b[0m in \u001b[0;36miterencode\u001b[1;34m(self, o, _one_shot)\u001b[0m\n\u001b[0;32m    255\u001b[0m                 \u001b[0mself\u001b[0m\u001b[1;33m.\u001b[0m\u001b[0mkey_separator\u001b[0m\u001b[1;33m,\u001b[0m \u001b[0mself\u001b[0m\u001b[1;33m.\u001b[0m\u001b[0mitem_separator\u001b[0m\u001b[1;33m,\u001b[0m \u001b[0mself\u001b[0m\u001b[1;33m.\u001b[0m\u001b[0msort_keys\u001b[0m\u001b[1;33m,\u001b[0m\u001b[1;33m\u001b[0m\u001b[0m\n\u001b[0;32m    256\u001b[0m                 self.skipkeys, _one_shot)\n\u001b[1;32m--> 257\u001b[1;33m         \u001b[1;32mreturn\u001b[0m \u001b[0m_iterencode\u001b[0m\u001b[1;33m(\u001b[0m\u001b[0mo\u001b[0m\u001b[1;33m,\u001b[0m \u001b[1;36m0\u001b[0m\u001b[1;33m)\u001b[0m\u001b[1;33m\u001b[0m\u001b[0m\n\u001b[0m\u001b[0;32m    258\u001b[0m \u001b[1;33m\u001b[0m\u001b[0m\n\u001b[0;32m    259\u001b[0m def _make_iterencode(markers, _default, _encoder, _indent, _floatstr,\n",
      "\u001b[1;32m~\\Anaconda3\\lib\\site-packages\\plotly\\utils.py\u001b[0m in \u001b[0;36mdefault\u001b[1;34m(self, obj)\u001b[0m\n\u001b[0;32m    199\u001b[0m         \u001b[1;32mfor\u001b[0m \u001b[0mencoding_method\u001b[0m \u001b[1;32min\u001b[0m \u001b[0mencoding_methods\u001b[0m\u001b[1;33m:\u001b[0m\u001b[1;33m\u001b[0m\u001b[0m\n\u001b[0;32m    200\u001b[0m             \u001b[1;32mtry\u001b[0m\u001b[1;33m:\u001b[0m\u001b[1;33m\u001b[0m\u001b[0m\n\u001b[1;32m--> 201\u001b[1;33m                 \u001b[1;32mreturn\u001b[0m \u001b[0mencoding_method\u001b[0m\u001b[1;33m(\u001b[0m\u001b[0mobj\u001b[0m\u001b[1;33m)\u001b[0m\u001b[1;33m\u001b[0m\u001b[0m\n\u001b[0m\u001b[0;32m    202\u001b[0m             \u001b[1;32mexcept\u001b[0m \u001b[0mNotEncodable\u001b[0m\u001b[1;33m:\u001b[0m\u001b[1;33m\u001b[0m\u001b[0m\n\u001b[0;32m    203\u001b[0m                 \u001b[1;32mpass\u001b[0m\u001b[1;33m\u001b[0m\u001b[0m\n",
      "\u001b[1;32m~\\Anaconda3\\lib\\site-packages\\plotly\\utils.py\u001b[0m in \u001b[0;36mencode_as_datetime\u001b[1;34m(obj)\u001b[0m\n\u001b[0;32m    261\u001b[0m         \u001b[1;31m# first we need to get this into utc\u001b[0m\u001b[1;33m\u001b[0m\u001b[1;33m\u001b[0m\u001b[0m\n\u001b[0;32m    262\u001b[0m         \u001b[1;32mtry\u001b[0m\u001b[1;33m:\u001b[0m\u001b[1;33m\u001b[0m\u001b[0m\n\u001b[1;32m--> 263\u001b[1;33m             \u001b[0mobj\u001b[0m \u001b[1;33m=\u001b[0m \u001b[0mobj\u001b[0m\u001b[1;33m.\u001b[0m\u001b[0mastimezone\u001b[0m\u001b[1;33m(\u001b[0m\u001b[0mpytz\u001b[0m\u001b[1;33m.\u001b[0m\u001b[0mutc\u001b[0m\u001b[1;33m)\u001b[0m\u001b[1;33m\u001b[0m\u001b[0m\n\u001b[0m\u001b[0;32m    264\u001b[0m         \u001b[1;32mexcept\u001b[0m \u001b[0mValueError\u001b[0m\u001b[1;33m:\u001b[0m\u001b[1;33m\u001b[0m\u001b[0m\n\u001b[0;32m    265\u001b[0m             \u001b[1;31m# we'll get a value error if trying to convert with naive datetime\u001b[0m\u001b[1;33m\u001b[0m\u001b[1;33m\u001b[0m\u001b[0m\n",
      "\u001b[1;31mOSError\u001b[0m: [Errno 22] Invalid argument"
     ]
    }
   ],
   "source": [
    "trace2 = go.Scatter(x=x, y=y1, mode=\"markers\", name=\"Actual Value\")\n",
    "trace3 = go.Scatter(x=x, y=y2, line=dict(color=\"red\"), name=\"Rolling Average\")\n",
    "trace4 = go.Scatter(x=x, y=y3, line=dict(color=\"blue\"), name=\"EWM Average\")\n",
    "\n",
    "default_period = (dt.datetime(2008, 1, 1), dt.datetime(2017,12,1))\n",
    "default_ppm_range = (380, 410)\n",
    "layout = go.Layout(\n",
    "    title=\"Seasonal Fluctations of CO<sub>2</sub> levels in atmosphere\",\n",
    "    yaxis=dict(title=\"Parts per Million (PPM)\",range=default_ppm_range),\n",
    "    xaxis=dict(title=\"Year\", range=default_period))\n",
    "\n",
    "fig = go.Figure(data=[trace2, trace3, trace4], layout=layout)\n",
    "py.iplot(fig, )"
   ]
  },
  {
   "cell_type": "markdown",
   "metadata": {},
   "source": [
    "# Predicting CO2 Concentration"
   ]
  },
  {
   "cell_type": "code",
   "execution_count": null,
   "metadata": {},
   "outputs": [],
   "source": [
    "# Fit a linear model\n",
    "from sklearn import linear_model\n",
    "from sklearn.cross_validation import train_test_split\n",
    "\n",
    "x_learn = [ (i.year, i.month, i.month ** 2, i.year ** 2) for i in x]\n",
    "y_learn = [ i for i in y1 ]  # Using rolling avg\n",
    "\n",
    "x_train, x_test, y_train, y_test = train_test_split(x_learn, y_learn, test_size=0.40, random_state=45)\n",
    "clf = linear_model.LinearRegression().fit(x_train, y_train)\n",
    "print (\"Accuracy: \", clf.score(x_test, y_test))\n",
    "\n",
    "# predicted values\n",
    "y4 = clf.predict(x_learn)"
   ]
  },
  {
   "cell_type": "code",
   "execution_count": null,
   "metadata": {},
   "outputs": [],
   "source": [
    "# Select some future \"years\"\n",
    "pred_years = range(1950, 2055)\n",
    "pred_months = range(1, 13)\n",
    "\n",
    "# Prepare dataset\n",
    "x_pred = []\n",
    "for y in pred_years:\n",
    "    for m in pred_months:\n",
    "        x_pred.append([y, m, m ** 2, y ** 2])\n",
    "        \n",
    "# Predict values\n",
    "y_pred = clf.predict(x_pred)\n",
    "\n",
    "# plot the predicted values\n",
    "x_plt = [dt.datetime(i[0], i[1], 15) for i in x_pred]\n",
    "trace5 = go.Scatter(x=x_plt, y=y_pred, line=dict(color=\"red\"), name=\"Predicted value\")\n",
    "\n",
    "default_period = dt.datetime(1956, 1, 1), dt.datetime(2050,12,1)\n",
    "default_ppm_range = (300, 500)\n",
    "layout = go.Layout(\n",
    "    title=\"Predicted Vs. Actual CO<sub>2</sub> Concentration levels\",\n",
    "    yaxis=dict(title=\"Parts per million (PPM)\", range=default_ppm_range),\n",
    "    xaxis=dict(title=\"Year\", range=default_period))\n",
    "figure = go.Figure(data=[trace2, trace5], layout=layout)\n",
    "py.iplot(figure, filename=\"co2-ppm-prediction\")"
   ]
  },
  {
   "cell_type": "code",
   "execution_count": null,
   "metadata": {},
   "outputs": [],
   "source": []
  },
  {
   "cell_type": "code",
   "execution_count": 52,
   "metadata": {},
   "outputs": [],
   "source": []
  }
 ],
 "metadata": {
  "kernelspec": {
   "display_name": "Python 3",
   "language": "python",
   "name": "python3"
  },
  "language_info": {
   "codemirror_mode": {
    "name": "ipython",
    "version": 3
   },
   "file_extension": ".py",
   "mimetype": "text/x-python",
   "name": "python",
   "nbconvert_exporter": "python",
   "pygments_lexer": "ipython3",
   "version": "3.6.3"
  }
 },
 "nbformat": 4,
 "nbformat_minor": 2
}
