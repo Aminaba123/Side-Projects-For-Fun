{
 "cells": [
  {
   "cell_type": "markdown",
   "metadata": {},
   "source": [
    "# Importing the Packages"
   ]
  },
  {
   "cell_type": "code",
   "execution_count": 1,
   "metadata": {
    "collapsed": true
   },
   "outputs": [],
   "source": [
    "import numpy as np"
   ]
  },
  {
   "cell_type": "code",
   "execution_count": 2,
   "metadata": {
    "collapsed": true
   },
   "outputs": [],
   "source": [
    "import pandas as pd"
   ]
  },
  {
   "cell_type": "code",
   "execution_count": 3,
   "metadata": {
    "collapsed": true
   },
   "outputs": [],
   "source": [
    "import matplotlib.pyplot as plt\n",
    "% matplotlib inline"
   ]
  },
  {
   "cell_type": "code",
   "execution_count": 4,
   "metadata": {
    "collapsed": true
   },
   "outputs": [],
   "source": [
    "from pandas import datetime"
   ]
  },
  {
   "cell_type": "code",
   "execution_count": 5,
   "metadata": {
    "collapsed": true
   },
   "outputs": [],
   "source": [
    "import seaborn as sns"
   ]
  },
  {
   "cell_type": "code",
   "execution_count": 6,
   "metadata": {
    "collapsed": true
   },
   "outputs": [],
   "source": [
    "import math, time"
   ]
  },
  {
   "cell_type": "code",
   "execution_count": 7,
   "metadata": {
    "collapsed": true
   },
   "outputs": [],
   "source": [
    "import itertools"
   ]
  },
  {
   "cell_type": "code",
   "execution_count": 8,
   "metadata": {
    "collapsed": true
   },
   "outputs": [],
   "source": [
    "import datetime"
   ]
  },
  {
   "cell_type": "code",
   "execution_count": 9,
   "metadata": {
    "collapsed": true
   },
   "outputs": [],
   "source": [
    "from operator import itemgetter"
   ]
  },
  {
   "cell_type": "code",
   "execution_count": 10,
   "metadata": {
    "collapsed": true
   },
   "outputs": [],
   "source": [
    "from sklearn import preprocessing"
   ]
  },
  {
   "cell_type": "code",
   "execution_count": 11,
   "metadata": {
    "collapsed": true
   },
   "outputs": [],
   "source": [
    "from sklearn.metrics import mean_squared_error"
   ]
  },
  {
   "cell_type": "code",
   "execution_count": 12,
   "metadata": {
    "collapsed": true
   },
   "outputs": [],
   "source": [
    "from math import sqrt"
   ]
  },
  {
   "cell_type": "code",
   "execution_count": 13,
   "metadata": {},
   "outputs": [
    {
     "name": "stderr",
     "output_type": "stream",
     "text": [
      "Using TensorFlow backend.\n"
     ]
    }
   ],
   "source": [
    "from keras.models import Sequential"
   ]
  },
  {
   "cell_type": "code",
   "execution_count": 14,
   "metadata": {
    "collapsed": true
   },
   "outputs": [],
   "source": [
    "from keras.layers.core import Dense, Dropout, Activation"
   ]
  },
  {
   "cell_type": "code",
   "execution_count": 15,
   "metadata": {
    "collapsed": true
   },
   "outputs": [],
   "source": [
    "from keras.layers.recurrent import LSTM"
   ]
  },
  {
   "cell_type": "code",
   "execution_count": 16,
   "metadata": {
    "collapsed": true
   },
   "outputs": [],
   "source": [
    "from keras.models import load_model"
   ]
  },
  {
   "cell_type": "code",
   "execution_count": 17,
   "metadata": {
    "collapsed": true
   },
   "outputs": [],
   "source": [
    "import keras"
   ]
  },
  {
   "cell_type": "code",
   "execution_count": 18,
   "metadata": {
    "collapsed": true
   },
   "outputs": [],
   "source": [
    "import h5py"
   ]
  },
  {
   "cell_type": "code",
   "execution_count": 19,
   "metadata": {
    "collapsed": true
   },
   "outputs": [],
   "source": [
    "import requests"
   ]
  },
  {
   "cell_type": "code",
   "execution_count": 20,
   "metadata": {
    "collapsed": true
   },
   "outputs": [],
   "source": [
    "import os"
   ]
  },
  {
   "cell_type": "markdown",
   "metadata": {},
   "source": [
    "# Reading the Data"
   ]
  },
  {
   "cell_type": "code",
   "execution_count": 21,
   "metadata": {},
   "outputs": [
    {
     "data": {
      "text/html": [
       "<div>\n",
       "<style>\n",
       "    .dataframe thead tr:only-child th {\n",
       "        text-align: right;\n",
       "    }\n",
       "\n",
       "    .dataframe thead th {\n",
       "        text-align: left;\n",
       "    }\n",
       "\n",
       "    .dataframe tbody tr th {\n",
       "        vertical-align: top;\n",
       "    }\n",
       "</style>\n",
       "<table border=\"1\" class=\"dataframe\">\n",
       "  <thead>\n",
       "    <tr style=\"text-align: right;\">\n",
       "      <th></th>\n",
       "      <th>symbol</th>\n",
       "      <th>open</th>\n",
       "      <th>low</th>\n",
       "      <th>high</th>\n",
       "      <th>volume</th>\n",
       "      <th>adj close</th>\n",
       "    </tr>\n",
       "    <tr>\n",
       "      <th>date</th>\n",
       "      <th></th>\n",
       "      <th></th>\n",
       "      <th></th>\n",
       "      <th></th>\n",
       "      <th></th>\n",
       "      <th></th>\n",
       "    </tr>\n",
       "  </thead>\n",
       "  <tbody>\n",
       "    <tr>\n",
       "      <th>2016-01-05</th>\n",
       "      <td>WLTW</td>\n",
       "      <td>123.430000</td>\n",
       "      <td>122.309998</td>\n",
       "      <td>126.250000</td>\n",
       "      <td>2163600.0</td>\n",
       "      <td>125.839996</td>\n",
       "    </tr>\n",
       "    <tr>\n",
       "      <th>2016-01-06</th>\n",
       "      <td>WLTW</td>\n",
       "      <td>125.239998</td>\n",
       "      <td>119.940002</td>\n",
       "      <td>125.540001</td>\n",
       "      <td>2386400.0</td>\n",
       "      <td>119.980003</td>\n",
       "    </tr>\n",
       "    <tr>\n",
       "      <th>2016-01-07</th>\n",
       "      <td>WLTW</td>\n",
       "      <td>116.379997</td>\n",
       "      <td>114.930000</td>\n",
       "      <td>119.739998</td>\n",
       "      <td>2489500.0</td>\n",
       "      <td>114.949997</td>\n",
       "    </tr>\n",
       "    <tr>\n",
       "      <th>2016-01-08</th>\n",
       "      <td>WLTW</td>\n",
       "      <td>115.480003</td>\n",
       "      <td>113.500000</td>\n",
       "      <td>117.440002</td>\n",
       "      <td>2006300.0</td>\n",
       "      <td>116.620003</td>\n",
       "    </tr>\n",
       "    <tr>\n",
       "      <th>2016-01-11</th>\n",
       "      <td>WLTW</td>\n",
       "      <td>117.010002</td>\n",
       "      <td>114.089996</td>\n",
       "      <td>117.330002</td>\n",
       "      <td>1408600.0</td>\n",
       "      <td>114.970001</td>\n",
       "    </tr>\n",
       "  </tbody>\n",
       "</table>\n",
       "</div>"
      ],
      "text/plain": [
       "           symbol        open         low        high     volume   adj close\n",
       "date                                                                        \n",
       "2016-01-05   WLTW  123.430000  122.309998  126.250000  2163600.0  125.839996\n",
       "2016-01-06   WLTW  125.239998  119.940002  125.540001  2386400.0  119.980003\n",
       "2016-01-07   WLTW  116.379997  114.930000  119.739998  2489500.0  114.949997\n",
       "2016-01-08   WLTW  115.480003  113.500000  117.440002  2006300.0  116.620003\n",
       "2016-01-11   WLTW  117.010002  114.089996  117.330002  1408600.0  114.970001"
      ]
     },
     "execution_count": 21,
     "metadata": {},
     "output_type": "execute_result"
    }
   ],
   "source": [
    "adjusted = pd.read_csv(\"./prices-split-adjusted.csv\", index_col = 0)\n",
    "adjusted[\"adj close\"] = adjusted.close # Moving close to the last column\n",
    "adjusted.drop(['close'], 1, inplace=True) # Moving close to the last column\n",
    "adjusted.head()"
   ]
  },
  {
   "cell_type": "code",
   "execution_count": 22,
   "metadata": {},
   "outputs": [
    {
     "data": {
      "text/html": [
       "<div>\n",
       "<style>\n",
       "    .dataframe thead tr:only-child th {\n",
       "        text-align: right;\n",
       "    }\n",
       "\n",
       "    .dataframe thead th {\n",
       "        text-align: left;\n",
       "    }\n",
       "\n",
       "    .dataframe tbody tr th {\n",
       "        vertical-align: top;\n",
       "    }\n",
       "</style>\n",
       "<table border=\"1\" class=\"dataframe\">\n",
       "  <thead>\n",
       "    <tr style=\"text-align: right;\">\n",
       "      <th></th>\n",
       "      <th>Unnamed: 0</th>\n",
       "      <th>Ticker Symbol</th>\n",
       "      <th>Period Ending</th>\n",
       "      <th>Accounts Payable</th>\n",
       "      <th>Accounts Receivable</th>\n",
       "      <th>Add'l income/expense items</th>\n",
       "      <th>After Tax ROE</th>\n",
       "      <th>Capital Expenditures</th>\n",
       "      <th>Capital Surplus</th>\n",
       "      <th>Cash Ratio</th>\n",
       "      <th>...</th>\n",
       "      <th>Total Current Assets</th>\n",
       "      <th>Total Current Liabilities</th>\n",
       "      <th>Total Equity</th>\n",
       "      <th>Total Liabilities</th>\n",
       "      <th>Total Liabilities &amp; Equity</th>\n",
       "      <th>Total Revenue</th>\n",
       "      <th>Treasury Stock</th>\n",
       "      <th>For Year</th>\n",
       "      <th>Earnings Per Share</th>\n",
       "      <th>Estimated Shares Outstanding</th>\n",
       "    </tr>\n",
       "  </thead>\n",
       "  <tbody>\n",
       "    <tr>\n",
       "      <th>0</th>\n",
       "      <td>0</td>\n",
       "      <td>AAL</td>\n",
       "      <td>2012-12-31</td>\n",
       "      <td>3.068000e+09</td>\n",
       "      <td>-222000000.0</td>\n",
       "      <td>-1.961000e+09</td>\n",
       "      <td>23.0</td>\n",
       "      <td>-1.888000e+09</td>\n",
       "      <td>4.695000e+09</td>\n",
       "      <td>53.0</td>\n",
       "      <td>...</td>\n",
       "      <td>7.072000e+09</td>\n",
       "      <td>9.011000e+09</td>\n",
       "      <td>-7.987000e+09</td>\n",
       "      <td>2.489100e+10</td>\n",
       "      <td>1.690400e+10</td>\n",
       "      <td>2.485500e+10</td>\n",
       "      <td>-367000000.0</td>\n",
       "      <td>2012.0</td>\n",
       "      <td>-5.60</td>\n",
       "      <td>3.350000e+08</td>\n",
       "    </tr>\n",
       "    <tr>\n",
       "      <th>1</th>\n",
       "      <td>1</td>\n",
       "      <td>AAL</td>\n",
       "      <td>2013-12-31</td>\n",
       "      <td>4.975000e+09</td>\n",
       "      <td>-93000000.0</td>\n",
       "      <td>-2.723000e+09</td>\n",
       "      <td>67.0</td>\n",
       "      <td>-3.114000e+09</td>\n",
       "      <td>1.059200e+10</td>\n",
       "      <td>75.0</td>\n",
       "      <td>...</td>\n",
       "      <td>1.432300e+10</td>\n",
       "      <td>1.380600e+10</td>\n",
       "      <td>-2.731000e+09</td>\n",
       "      <td>4.500900e+10</td>\n",
       "      <td>4.227800e+10</td>\n",
       "      <td>2.674300e+10</td>\n",
       "      <td>0.0</td>\n",
       "      <td>2013.0</td>\n",
       "      <td>-11.25</td>\n",
       "      <td>1.630222e+08</td>\n",
       "    </tr>\n",
       "    <tr>\n",
       "      <th>2</th>\n",
       "      <td>2</td>\n",
       "      <td>AAL</td>\n",
       "      <td>2014-12-31</td>\n",
       "      <td>4.668000e+09</td>\n",
       "      <td>-160000000.0</td>\n",
       "      <td>-1.500000e+08</td>\n",
       "      <td>143.0</td>\n",
       "      <td>-5.311000e+09</td>\n",
       "      <td>1.513500e+10</td>\n",
       "      <td>60.0</td>\n",
       "      <td>...</td>\n",
       "      <td>1.175000e+10</td>\n",
       "      <td>1.340400e+10</td>\n",
       "      <td>2.021000e+09</td>\n",
       "      <td>4.120400e+10</td>\n",
       "      <td>4.322500e+10</td>\n",
       "      <td>4.265000e+10</td>\n",
       "      <td>0.0</td>\n",
       "      <td>2014.0</td>\n",
       "      <td>4.02</td>\n",
       "      <td>7.169154e+08</td>\n",
       "    </tr>\n",
       "    <tr>\n",
       "      <th>3</th>\n",
       "      <td>3</td>\n",
       "      <td>AAL</td>\n",
       "      <td>2015-12-31</td>\n",
       "      <td>5.102000e+09</td>\n",
       "      <td>352000000.0</td>\n",
       "      <td>-7.080000e+08</td>\n",
       "      <td>135.0</td>\n",
       "      <td>-6.151000e+09</td>\n",
       "      <td>1.159100e+10</td>\n",
       "      <td>51.0</td>\n",
       "      <td>...</td>\n",
       "      <td>9.985000e+09</td>\n",
       "      <td>1.360500e+10</td>\n",
       "      <td>5.635000e+09</td>\n",
       "      <td>4.278000e+10</td>\n",
       "      <td>4.841500e+10</td>\n",
       "      <td>4.099000e+10</td>\n",
       "      <td>0.0</td>\n",
       "      <td>2015.0</td>\n",
       "      <td>11.39</td>\n",
       "      <td>6.681299e+08</td>\n",
       "    </tr>\n",
       "    <tr>\n",
       "      <th>4</th>\n",
       "      <td>4</td>\n",
       "      <td>AAP</td>\n",
       "      <td>2012-12-29</td>\n",
       "      <td>2.409453e+09</td>\n",
       "      <td>-89482000.0</td>\n",
       "      <td>6.000000e+05</td>\n",
       "      <td>32.0</td>\n",
       "      <td>-2.711820e+08</td>\n",
       "      <td>5.202150e+08</td>\n",
       "      <td>23.0</td>\n",
       "      <td>...</td>\n",
       "      <td>3.184200e+09</td>\n",
       "      <td>2.559638e+09</td>\n",
       "      <td>1.210694e+09</td>\n",
       "      <td>3.403120e+09</td>\n",
       "      <td>4.613814e+09</td>\n",
       "      <td>6.205003e+09</td>\n",
       "      <td>-27095000.0</td>\n",
       "      <td>2012.0</td>\n",
       "      <td>5.29</td>\n",
       "      <td>7.328355e+07</td>\n",
       "    </tr>\n",
       "  </tbody>\n",
       "</table>\n",
       "<p>5 rows × 79 columns</p>\n",
       "</div>"
      ],
      "text/plain": [
       "   Unnamed: 0 Ticker Symbol Period Ending  Accounts Payable  \\\n",
       "0           0           AAL    2012-12-31      3.068000e+09   \n",
       "1           1           AAL    2013-12-31      4.975000e+09   \n",
       "2           2           AAL    2014-12-31      4.668000e+09   \n",
       "3           3           AAL    2015-12-31      5.102000e+09   \n",
       "4           4           AAP    2012-12-29      2.409453e+09   \n",
       "\n",
       "   Accounts Receivable  Add'l income/expense items  After Tax ROE  \\\n",
       "0         -222000000.0               -1.961000e+09           23.0   \n",
       "1          -93000000.0               -2.723000e+09           67.0   \n",
       "2         -160000000.0               -1.500000e+08          143.0   \n",
       "3          352000000.0               -7.080000e+08          135.0   \n",
       "4          -89482000.0                6.000000e+05           32.0   \n",
       "\n",
       "   Capital Expenditures  Capital Surplus  Cash Ratio  \\\n",
       "0         -1.888000e+09     4.695000e+09        53.0   \n",
       "1         -3.114000e+09     1.059200e+10        75.0   \n",
       "2         -5.311000e+09     1.513500e+10        60.0   \n",
       "3         -6.151000e+09     1.159100e+10        51.0   \n",
       "4         -2.711820e+08     5.202150e+08        23.0   \n",
       "\n",
       "               ...               Total Current Assets  \\\n",
       "0              ...                       7.072000e+09   \n",
       "1              ...                       1.432300e+10   \n",
       "2              ...                       1.175000e+10   \n",
       "3              ...                       9.985000e+09   \n",
       "4              ...                       3.184200e+09   \n",
       "\n",
       "   Total Current Liabilities  Total Equity  Total Liabilities  \\\n",
       "0               9.011000e+09 -7.987000e+09       2.489100e+10   \n",
       "1               1.380600e+10 -2.731000e+09       4.500900e+10   \n",
       "2               1.340400e+10  2.021000e+09       4.120400e+10   \n",
       "3               1.360500e+10  5.635000e+09       4.278000e+10   \n",
       "4               2.559638e+09  1.210694e+09       3.403120e+09   \n",
       "\n",
       "   Total Liabilities & Equity  Total Revenue  Treasury Stock  For Year  \\\n",
       "0                1.690400e+10   2.485500e+10    -367000000.0    2012.0   \n",
       "1                4.227800e+10   2.674300e+10             0.0    2013.0   \n",
       "2                4.322500e+10   4.265000e+10             0.0    2014.0   \n",
       "3                4.841500e+10   4.099000e+10             0.0    2015.0   \n",
       "4                4.613814e+09   6.205003e+09     -27095000.0    2012.0   \n",
       "\n",
       "   Earnings Per Share  Estimated Shares Outstanding  \n",
       "0               -5.60                  3.350000e+08  \n",
       "1              -11.25                  1.630222e+08  \n",
       "2                4.02                  7.169154e+08  \n",
       "3               11.39                  6.681299e+08  \n",
       "4                5.29                  7.328355e+07  \n",
       "\n",
       "[5 rows x 79 columns]"
      ]
     },
     "execution_count": 22,
     "metadata": {},
     "output_type": "execute_result"
    }
   ],
   "source": [
    "fundamentals = pd.read_csv(\"./fundamentals.csv\")\n",
    "fundamentals.head()"
   ]
  },
  {
   "cell_type": "markdown",
   "metadata": {},
   "source": [
    "# Looking for NaN Values"
   ]
  },
  {
   "cell_type": "code",
   "execution_count": 23,
   "metadata": {},
   "outputs": [
    {
     "data": {
      "text/plain": [
       "<matplotlib.axes._subplots.AxesSubplot at 0x7f0ecef88710>"
      ]
     },
     "execution_count": 23,
     "metadata": {},
     "output_type": "execute_result"
    },
    {
     "data": {
      "image/png": "[encoded data removed]",
      "text/plain": [
       "<matplotlib.figure.Figure at 0x7f0ecef88e48>"
      ]
     },
     "metadata": {},
     "output_type": "display_data"
    }
   ],
   "source": [
    "sns.heatmap(adjusted.isnull(),yticklabels=False,cbar=False,cmap='coolwarm')"
   ]
  },
  {
   "cell_type": "code",
   "execution_count": 24,
   "metadata": {},
   "outputs": [
    {
     "data": {
      "text/plain": [
       "<matplotlib.axes._subplots.AxesSubplot at 0x7f0ecef15240>"
      ]
     },
     "execution_count": 24,
     "metadata": {},
     "output_type": "execute_result"
    },
    {
     "data": {
      "image/png": "[encoded data removed]",
      "text/plain": [
       "<matplotlib.figure.Figure at 0x7f0eb2bd1dd8>"
      ]
     },
     "metadata": {},
     "output_type": "display_data"
    }
   ],
   "source": [
    "sns.heatmap(fundamentals.isnull(),yticklabels=False,cbar=False,cmap='viridis')"
   ]
  },
  {
   "cell_type": "markdown",
   "metadata": {},
   "source": [
    "Let's get to work!"
   ]
  },
  {
   "cell_type": "markdown",
   "metadata": {},
   "source": [
    "# Extracting Symbols from List"
   ]
  },
  {
   "cell_type": "code",
   "execution_count": 25,
   "metadata": {},
   "outputs": [
    {
     "data": {
      "text/plain": [
       "501"
      ]
     },
     "execution_count": 25,
     "metadata": {},
     "output_type": "execute_result"
    }
   ],
   "source": [
    "symbols = list(set(adjusted.symbol))\n",
    "len(symbols)"
   ]
  },
  {
   "cell_type": "code",
   "execution_count": 26,
   "metadata": {},
   "outputs": [
    {
     "data": {
      "text/plain": [
       "['FTI', 'NKE', 'EW', 'MTD', 'MAS', 'RHI', 'GWW', 'HCP', 'JBHT', 'COG', 'EL']"
      ]
     },
     "execution_count": 26,
     "metadata": {},
     "output_type": "execute_result"
    }
   ],
   "source": [
    "symbols[:11] # Example of what is in symbols"
   ]
  },
  {
   "cell_type": "markdown",
   "metadata": {},
   "source": [
    "# Google as an Example"
   ]
  },
  {
   "cell_type": "code",
   "execution_count": 27,
   "metadata": {},
   "outputs": [
    {
     "data": {
      "text/html": [
       "<div>\n",
       "<style>\n",
       "    .dataframe thead tr:only-child th {\n",
       "        text-align: right;\n",
       "    }\n",
       "\n",
       "    .dataframe thead th {\n",
       "        text-align: left;\n",
       "    }\n",
       "\n",
       "    .dataframe tbody tr th {\n",
       "        vertical-align: top;\n",
       "    }\n",
       "</style>\n",
       "<table border=\"1\" class=\"dataframe\">\n",
       "  <thead>\n",
       "    <tr style=\"text-align: right;\">\n",
       "      <th></th>\n",
       "      <th>open</th>\n",
       "      <th>low</th>\n",
       "      <th>high</th>\n",
       "      <th>volume</th>\n",
       "      <th>adj close</th>\n",
       "    </tr>\n",
       "    <tr>\n",
       "      <th>date</th>\n",
       "      <th></th>\n",
       "      <th></th>\n",
       "      <th></th>\n",
       "      <th></th>\n",
       "      <th></th>\n",
       "    </tr>\n",
       "  </thead>\n",
       "  <tbody>\n",
       "    <tr>\n",
       "      <th>2010-01-04</th>\n",
       "      <td>312.304948</td>\n",
       "      <td>310.955001</td>\n",
       "      <td>313.580158</td>\n",
       "      <td>3927000.0</td>\n",
       "      <td>312.205308</td>\n",
       "    </tr>\n",
       "    <tr>\n",
       "      <th>2010-01-05</th>\n",
       "      <td>312.419511</td>\n",
       "      <td>309.610028</td>\n",
       "      <td>312.748278</td>\n",
       "      <td>6031900.0</td>\n",
       "      <td>310.830459</td>\n",
       "    </tr>\n",
       "    <tr>\n",
       "      <th>2010-01-06</th>\n",
       "      <td>311.761979</td>\n",
       "      <td>302.048370</td>\n",
       "      <td>311.761979</td>\n",
       "      <td>7987100.0</td>\n",
       "      <td>302.994813</td>\n",
       "    </tr>\n",
       "    <tr>\n",
       "      <th>2010-01-07</th>\n",
       "      <td>303.562685</td>\n",
       "      <td>295.218951</td>\n",
       "      <td>303.861575</td>\n",
       "      <td>12876600.0</td>\n",
       "      <td>295.941242</td>\n",
       "    </tr>\n",
       "    <tr>\n",
       "      <th>2010-01-08</th>\n",
       "      <td>294.895159</td>\n",
       "      <td>293.455551</td>\n",
       "      <td>300.499172</td>\n",
       "      <td>9483900.0</td>\n",
       "      <td>299.886470</td>\n",
       "    </tr>\n",
       "  </tbody>\n",
       "</table>\n",
       "</div>"
      ],
      "text/plain": [
       "                  open         low        high      volume   adj close\n",
       "date                                                                  \n",
       "2010-01-04  312.304948  310.955001  313.580158   3927000.0  312.205308\n",
       "2010-01-05  312.419511  309.610028  312.748278   6031900.0  310.830459\n",
       "2010-01-06  311.761979  302.048370  311.761979   7987100.0  302.994813\n",
       "2010-01-07  303.562685  295.218951  303.861575  12876600.0  295.941242\n",
       "2010-01-08  294.895159  293.455551  300.499172   9483900.0  299.886470"
      ]
     },
     "execution_count": 27,
     "metadata": {},
     "output_type": "execute_result"
    }
   ],
   "source": [
    "adjusted = adjusted[adjusted.symbol == 'GOOG']\n",
    "adjusted.drop(['symbol'],1,inplace=True)\n",
    "adjusted.head()"
   ]
  },
  {
   "cell_type": "markdown",
   "metadata": {},
   "source": [
    "# Normalize the Data"
   ]
  },
  {
   "cell_type": "code",
   "execution_count": 28,
   "metadata": {},
   "outputs": [
    {
     "data": {
      "text/html": [
       "<div>\n",
       "<style>\n",
       "    .dataframe thead tr:only-child th {\n",
       "        text-align: right;\n",
       "    }\n",
       "\n",
       "    .dataframe thead th {\n",
       "        text-align: left;\n",
       "    }\n",
       "\n",
       "    .dataframe tbody tr th {\n",
       "        vertical-align: top;\n",
       "    }\n",
       "</style>\n",
       "<table border=\"1\" class=\"dataframe\">\n",
       "  <thead>\n",
       "    <tr style=\"text-align: right;\">\n",
       "      <th></th>\n",
       "      <th>open</th>\n",
       "      <th>low</th>\n",
       "      <th>high</th>\n",
       "      <th>volume</th>\n",
       "      <th>adj close</th>\n",
       "    </tr>\n",
       "    <tr>\n",
       "      <th>date</th>\n",
       "      <th></th>\n",
       "      <th></th>\n",
       "      <th></th>\n",
       "      <th></th>\n",
       "      <th></th>\n",
       "    </tr>\n",
       "  </thead>\n",
       "  <tbody>\n",
       "    <tr>\n",
       "      <th>2010-01-04</th>\n",
       "      <td>0.157047</td>\n",
       "      <td>0.161167</td>\n",
       "      <td>0.156390</td>\n",
       "      <td>0.131722</td>\n",
       "      <td>0.159399</td>\n",
       "    </tr>\n",
       "    <tr>\n",
       "      <th>2010-01-05</th>\n",
       "      <td>0.157238</td>\n",
       "      <td>0.158884</td>\n",
       "      <td>0.154995</td>\n",
       "      <td>0.202469</td>\n",
       "      <td>0.157092</td>\n",
       "    </tr>\n",
       "    <tr>\n",
       "      <th>2010-01-06</th>\n",
       "      <td>0.156140</td>\n",
       "      <td>0.146049</td>\n",
       "      <td>0.153341</td>\n",
       "      <td>0.268184</td>\n",
       "      <td>0.143942</td>\n",
       "    </tr>\n",
       "    <tr>\n",
       "      <th>2010-01-07</th>\n",
       "      <td>0.142436</td>\n",
       "      <td>0.134457</td>\n",
       "      <td>0.140094</td>\n",
       "      <td>0.432522</td>\n",
       "      <td>0.132105</td>\n",
       "    </tr>\n",
       "    <tr>\n",
       "      <th>2010-01-08</th>\n",
       "      <td>0.127950</td>\n",
       "      <td>0.131464</td>\n",
       "      <td>0.134455</td>\n",
       "      <td>0.318492</td>\n",
       "      <td>0.138726</td>\n",
       "    </tr>\n",
       "  </tbody>\n",
       "</table>\n",
       "</div>"
      ],
      "text/plain": [
       "                open       low      high    volume  adj close\n",
       "date                                                         \n",
       "2010-01-04  0.157047  0.161167  0.156390  0.131722   0.159399\n",
       "2010-01-05  0.157238  0.158884  0.154995  0.202469   0.157092\n",
       "2010-01-06  0.156140  0.146049  0.153341  0.268184   0.143942\n",
       "2010-01-07  0.142436  0.134457  0.140094  0.432522   0.132105\n",
       "2010-01-08  0.127950  0.131464  0.134455  0.318492   0.138726"
      ]
     },
     "execution_count": 28,
     "metadata": {},
     "output_type": "execute_result"
    }
   ],
   "source": [
    "def normalize_data(adjusted):\n",
    "    min_max_scaler = preprocessing.MinMaxScaler()\n",
    "    adjusted['open'] = min_max_scaler.fit_transform(adjusted.open.values.reshape(-1,1))\n",
    "    adjusted['high'] = min_max_scaler.fit_transform(adjusted.high.values.reshape(-1,1))\n",
    "    adjusted['low'] = min_max_scaler.fit_transform(adjusted.low.values.reshape(-1,1))\n",
    "    adjusted['volume'] = min_max_scaler.fit_transform(adjusted.volume.values.reshape(-1,1))\n",
    "    adjusted['adj close'] = min_max_scaler.fit_transform(adjusted['adj close'].values.reshape(-1,1))\n",
    "    return adjusted\n",
    "adjusted = normalize_data(adjusted)\n",
    "adjusted.head()"
   ]
  },
  {
   "cell_type": "markdown",
   "metadata": {},
   "source": [
    "# Creating the Train Test Split"
   ]
  },
  {
   "cell_type": "code",
   "execution_count": 29,
   "metadata": {
    "collapsed": true
   },
   "outputs": [],
   "source": [
    "def load_data(stock, seq_len):\n",
    "    amount_of_features = len(stock.columns) # 5\n",
    "    data = stock.as_matrix() \n",
    "    sequence_length = seq_len + 1 # index starting from 0\n",
    "    result = []\n",
    "    \n",
    "    for index in range(len(data) - sequence_length): # maxmimum date = lastest date - sequence length\n",
    "        result.append(data[index: index + sequence_length]) # index : index + 22days\n",
    "    \n",
    "    result = np.array(result)\n",
    "    row = round(0.9 * result.shape[0]) # 90% split\n",
    "    train = result[:int(row), :] # 90% date, all features \n",
    "    \n",
    "    x_train = train[:, :-1] \n",
    "    y_train = train[:, -1][:,-1]\n",
    "    \n",
    "    x_test = result[int(row):, :-1] \n",
    "    y_test = result[int(row):, -1][:,-1]\n",
    "\n",
    "    x_train = np.reshape(x_train, (x_train.shape[0], x_train.shape[1], amount_of_features))\n",
    "    x_test = np.reshape(x_test, (x_test.shape[0], x_test.shape[1], amount_of_features))  \n",
    "\n",
    "    return [x_train, y_train, x_test, y_test]"
   ]
  },
  {
   "cell_type": "markdown",
   "metadata": {},
   "source": [
    "# Building Layers"
   ]
  },
  {
   "cell_type": "code",
   "execution_count": 30,
   "metadata": {
    "collapsed": true
   },
   "outputs": [],
   "source": [
    "def build_model(layers):\n",
    "    d = 0.3\n",
    "    model = Sequential()\n",
    "    \n",
    "    model.add(LSTM(256, input_shape=(layers[1], layers[0]), return_sequences=True))\n",
    "    model.add(Dropout(d))\n",
    "        \n",
    "    model.add(LSTM(256, input_shape=(layers[1], layers[0]), return_sequences=False))\n",
    "    model.add(Dropout(d))\n",
    "        \n",
    "    model.add(Dense(32,kernel_initializer=\"uniform\",activation='relu'))        \n",
    "    model.add(Dense(1,kernel_initializer=\"uniform\",activation='linear'))\n",
    "    \n",
    "    # adam = keras.optimizers.Adam(decay=0.2)\n",
    "        \n",
    "    start = time.time()\n",
    "    model.compile(loss='mse',optimizer='adam', metrics=['accuracy'])\n",
    "    print(\"Compilation Time : \", time.time() - start)\n",
    "    return model"
   ]
  },
  {
   "cell_type": "markdown",
   "metadata": {},
   "source": [
    "# Training the Model"
   ]
  },
  {
   "cell_type": "code",
   "execution_count": 31,
   "metadata": {},
   "outputs": [
    {
     "name": "stdout",
     "output_type": "stream",
     "text": [
      "[[ 0.15704696  0.16116746  0.15638998  0.1317225   0.15939908]\n",
      " [ 0.15723843  0.15888449  0.15499506  0.20246902  0.15709185]\n",
      " [ 0.15613951  0.14604929  0.15334121  0.26818406  0.14394234]\n",
      " [ 0.14243617  0.13445699  0.14009362  0.43252209  0.13210528]\n",
      " [ 0.12795029  0.13146379  0.13445546  0.3184921   0.13872603]\n",
      " [ 0.13832355  0.1356323   0.13546617  0.48640628  0.1379653 ]\n",
      " [ 0.13265404  0.13052526  0.13020388  0.3271972   0.12907917]\n",
      " [ 0.11503787  0.1186032   0.12203482  0.43807453  0.12624527]\n",
      " [ 0.12120685  0.12613696  0.12689613  0.2858228   0.12855249]\n",
      " [ 0.12906589  0.12210374  0.12636158  0.36641044  0.12031836]\n",
      " [ 0.11895908  0.12062405  0.12373877  0.29099208  0.12668832]\n",
      " [ 0.12293853  0.11977851  0.12003013  0.21906583  0.12066114]\n",
      " [ 0.12082392  0.1172081   0.12073176  0.42532947  0.1228095 ]\n",
      " [ 0.10505596  0.0855935   0.10718348  0.45857351  0.09524822]\n",
      " [ 0.09014547  0.08614311  0.08987641  0.29795279  0.08688037]\n",
      " [ 0.08296912  0.08680264  0.08964255  0.29361033  0.08890336]\n",
      " [ 0.08571648  0.08597403  0.08801372  0.26721945  0.08863587]\n",
      " [ 0.08839717  0.08199153  0.08747078  0.21760714  0.08210705]\n",
      " [ 0.08340204  0.0777723   0.08245074  0.27910072  0.07847068]\n",
      " [ 0.08016357  0.08173786  0.07812399  0.15159969  0.0810454 ]\n",
      " [ 0.08046326  0.07946339  0.07741402  0.27611276  0.07945711]\n",
      " [ 0.07522667  0.07998762  0.08337794  0.20208586  0.08756581]] 0.0758290820137\n"
     ]
    }
   ],
   "source": [
    "window = 22\n",
    "X_train, y_train, X_test, y_test = load_data(adjusted, window)\n",
    "print (X_train[0], y_train[0])"
   ]
  },
  {
   "cell_type": "code",
   "execution_count": 32,
   "metadata": {},
   "outputs": [
    {
     "name": "stdout",
     "output_type": "stream",
     "text": [
      "Compilation Time :  0.04049992561340332\n"
     ]
    }
   ],
   "source": [
    "model = build_model([5,window,1])"
   ]
  },
  {
   "cell_type": "code",
   "execution_count": 33,
   "metadata": {},
   "outputs": [
    {
     "name": "stdout",
     "output_type": "stream",
     "text": [
      "Train on 1408 samples, validate on 157 samples\n",
      "Epoch 1/100\n",
      "1408/1408 [==============================] - 5s - loss: 0.1255 - acc: 7.1023e-04 - val_loss: 0.4387 - val_acc: 0.0000e+00\n",
      "Epoch 2/100\n",
      "1408/1408 [==============================] - 4s - loss: 0.0451 - acc: 7.1023e-04 - val_loss: 0.0209 - val_acc: 0.0000e+00\n",
      "Epoch 3/100\n",
      "1408/1408 [==============================] - 3s - loss: 0.0265 - acc: 7.1023e-04 - val_loss: 0.1443 - val_acc: 0.0000e+00\n",
      "Epoch 4/100\n",
      "1408/1408 [==============================] - 3s - loss: 0.0174 - acc: 7.1023e-04 - val_loss: 0.1448 - val_acc: 0.0000e+00\n",
      "Epoch 5/100\n",
      "1408/1408 [==============================] - 3s - loss: 0.0092 - acc: 7.1023e-04 - val_loss: 0.0407 - val_acc: 0.0000e+00\n",
      "Epoch 6/100\n",
      "1408/1408 [==============================] - 3s - loss: 0.0087 - acc: 7.1023e-04 - val_loss: 0.0333 - val_acc: 0.0000e+00\n",
      "Epoch 7/100\n",
      "1408/1408 [==============================] - 3s - loss: 0.0036 - acc: 7.1023e-04 - val_loss: 0.0756 - val_acc: 0.0000e+00\n",
      "Epoch 8/100\n",
      "1408/1408 [==============================] - 3s - loss: 0.0060 - acc: 7.1023e-04 - val_loss: 0.0648 - val_acc: 0.0000e+00\n",
      "Epoch 9/100\n",
      "1408/1408 [==============================] - 3s - loss: 0.0031 - acc: 7.1023e-04 - val_loss: 0.0286 - val_acc: 0.0000e+00\n",
      "Epoch 10/100\n",
      "1408/1408 [==============================] - 3s - loss: 0.0040 - acc: 7.1023e-04 - val_loss: 0.0295 - val_acc: 0.0000e+00\n",
      "Epoch 11/100\n",
      "1408/1408 [==============================] - 3s - loss: 0.0025 - acc: 7.1023e-04 - val_loss: 0.0546 - val_acc: 0.0000e+00\n",
      "Epoch 12/100\n",
      "1408/1408 [==============================] - 3s - loss: 0.0029 - acc: 7.1023e-04 - val_loss: 0.0551 - val_acc: 0.0000e+00\n",
      "Epoch 13/100\n",
      "1408/1408 [==============================] - 3s - loss: 0.0020 - acc: 7.1023e-04 - val_loss: 0.0361 - val_acc: 0.0000e+00\n",
      "Epoch 14/100\n",
      "1408/1408 [==============================] - 3s - loss: 0.0021 - acc: 7.1023e-04 - val_loss: 0.0334 - val_acc: 0.0000e+00\n",
      "Epoch 15/100\n",
      "1408/1408 [==============================] - 3s - loss: 0.0017 - acc: 7.1023e-04 - val_loss: 0.0446 - val_acc: 0.0000e+00\n",
      "Epoch 16/100\n",
      "1408/1408 [==============================] - 3s - loss: 0.0019 - acc: 7.1023e-04 - val_loss: 0.0395 - val_acc: 0.0000e+00\n",
      "Epoch 17/100\n",
      "1408/1408 [==============================] - 3s - loss: 0.0015 - acc: 7.1023e-04 - val_loss: 0.0258 - val_acc: 0.0000e+00\n",
      "Epoch 18/100\n",
      "1408/1408 [==============================] - 3s - loss: 0.0016 - acc: 7.1023e-04 - val_loss: 0.0269 - val_acc: 0.0000e+00\n",
      "Epoch 19/100\n",
      "1408/1408 [==============================] - 3s - loss: 0.0014 - acc: 7.1023e-04 - val_loss: 0.0288 - val_acc: 0.0000e+00\n",
      "Epoch 20/100\n",
      "1408/1408 [==============================] - 3s - loss: 0.0013 - acc: 7.1023e-04 - val_loss: 0.0206 - val_acc: 0.0000e+00\n",
      "Epoch 21/100\n",
      "1408/1408 [==============================] - 3s - loss: 0.0014 - acc: 7.1023e-04 - val_loss: 0.0194 - val_acc: 0.0000e+00\n",
      "Epoch 22/100\n",
      "1408/1408 [==============================] - 3s - loss: 0.0014 - acc: 7.1023e-04 - val_loss: 0.0231 - val_acc: 0.0000e+00\n",
      "Epoch 23/100\n",
      "1408/1408 [==============================] - 3s - loss: 0.0014 - acc: 7.1023e-04 - val_loss: 0.0185 - val_acc: 0.0000e+00\n",
      "Epoch 24/100\n",
      "1408/1408 [==============================] - 3s - loss: 0.0012 - acc: 7.1023e-04 - val_loss: 0.0168 - val_acc: 0.0000e+00\n",
      "Epoch 25/100\n",
      "1408/1408 [==============================] - 3s - loss: 0.0013 - acc: 7.1023e-04 - val_loss: 0.0192 - val_acc: 0.0000e+00\n",
      "Epoch 26/100\n",
      "1408/1408 [==============================] - 3s - loss: 0.0013 - acc: 7.1023e-04 - val_loss: 0.0160 - val_acc: 0.0000e+00\n",
      "Epoch 27/100\n",
      "1408/1408 [==============================] - 3s - loss: 0.0013 - acc: 7.1023e-04 - val_loss: 0.0150 - val_acc: 0.0000e+00\n",
      "Epoch 28/100\n",
      "1408/1408 [==============================] - 3s - loss: 0.0012 - acc: 7.1023e-04 - val_loss: 0.0172 - val_acc: 0.0000e+00\n",
      "Epoch 29/100\n",
      "1408/1408 [==============================] - 3s - loss: 0.0012 - acc: 7.1023e-04 - val_loss: 0.0137 - val_acc: 0.0000e+00\n",
      "Epoch 30/100\n",
      "1408/1408 [==============================] - 3s - loss: 0.0013 - acc: 7.1023e-04 - val_loss: 0.0146 - val_acc: 0.0000e+00\n",
      "Epoch 31/100\n",
      "1408/1408 [==============================] - 4s - loss: 0.0012 - acc: 7.1023e-04 - val_loss: 0.0161 - val_acc: 0.0000e+00\n",
      "Epoch 32/100\n",
      "1408/1408 [==============================] - 3s - loss: 0.0013 - acc: 7.1023e-04 - val_loss: 0.0123 - val_acc: 0.0000e+00\n",
      "Epoch 33/100\n",
      "1408/1408 [==============================] - 3s - loss: 0.0013 - acc: 7.1023e-04 - val_loss: 0.0155 - val_acc: 0.0000e+00\n",
      "Epoch 34/100\n",
      "1408/1408 [==============================] - 3s - loss: 0.0012 - acc: 7.1023e-04 - val_loss: 0.0130 - val_acc: 0.0000e+00\n",
      "Epoch 35/100\n",
      "1408/1408 [==============================] - 3s - loss: 0.0012 - acc: 7.1023e-04 - val_loss: 0.0123 - val_acc: 0.0000e+00\n",
      "Epoch 36/100\n",
      "1408/1408 [==============================] - 3s - loss: 0.0011 - acc: 7.1023e-04 - val_loss: 0.0137 - val_acc: 0.0000e+00\n",
      "Epoch 37/100\n",
      "1408/1408 [==============================] - 3s - loss: 0.0011 - acc: 7.1023e-04 - val_loss: 0.0116 - val_acc: 0.0000e+00\n",
      "Epoch 38/100\n",
      "1408/1408 [==============================] - 3s - loss: 0.0012 - acc: 7.1023e-04 - val_loss: 0.0123 - val_acc: 0.0000e+00\n",
      "Epoch 39/100\n",
      "1408/1408 [==============================] - 3s - loss: 0.0012 - acc: 7.1023e-04 - val_loss: 0.0111 - val_acc: 0.0000e+00\n",
      "Epoch 40/100\n",
      "1408/1408 [==============================] - 3s - loss: 0.0012 - acc: 7.1023e-04 - val_loss: 0.0115 - val_acc: 0.0000e+00\n",
      "Epoch 41/100\n",
      "1408/1408 [==============================] - 3s - loss: 0.0011 - acc: 7.1023e-04 - val_loss: 0.0119 - val_acc: 0.0000e+00\n",
      "Epoch 42/100\n",
      "1408/1408 [==============================] - 3s - loss: 0.0012 - acc: 7.1023e-04 - val_loss: 0.0104 - val_acc: 0.0000e+00\n",
      "Epoch 43/100\n",
      "1408/1408 [==============================] - 3s - loss: 0.0011 - acc: 7.1023e-04 - val_loss: 0.0120 - val_acc: 0.0000e+00\n",
      "Epoch 44/100\n",
      "1408/1408 [==============================] - 3s - loss: 0.0011 - acc: 7.1023e-04 - val_loss: 0.0100 - val_acc: 0.0000e+00\n",
      "Epoch 45/100\n",
      "1408/1408 [==============================] - 3s - loss: 0.0011 - acc: 7.1023e-04 - val_loss: 0.0104 - val_acc: 0.0000e+00\n",
      "Epoch 46/100\n",
      "1408/1408 [==============================] - 3s - loss: 0.0011 - acc: 7.1023e-04 - val_loss: 0.0099 - val_acc: 0.0000e+00\n",
      "Epoch 47/100\n",
      "1408/1408 [==============================] - 3s - loss: 0.0012 - acc: 7.1023e-04 - val_loss: 0.0097 - val_acc: 0.0000e+00\n",
      "Epoch 48/100\n",
      "1408/1408 [==============================] - 3s - loss: 0.0010 - acc: 7.1023e-04 - val_loss: 0.0092 - val_acc: 0.0000e+00\n",
      "Epoch 49/100\n",
      "1408/1408 [==============================] - 3s - loss: 0.0012 - acc: 7.1023e-04 - val_loss: 0.0095 - val_acc: 0.0000e+00\n",
      "Epoch 50/100\n",
      "1408/1408 [==============================] - 3s - loss: 0.0011 - acc: 7.1023e-04 - val_loss: 0.0088 - val_acc: 0.0000e+00\n",
      "Epoch 51/100\n",
      "1408/1408 [==============================] - 3s - loss: 0.0011 - acc: 7.1023e-04 - val_loss: 0.0097 - val_acc: 0.0000e+00\n",
      "Epoch 52/100\n",
      "1408/1408 [==============================] - 3s - loss: 0.0011 - acc: 7.1023e-04 - val_loss: 0.0073 - val_acc: 0.0000e+00\n",
      "Epoch 53/100\n",
      "1408/1408 [==============================] - 3s - loss: 0.0011 - acc: 7.1023e-04 - val_loss: 0.0093 - val_acc: 0.0000e+00\n",
      "Epoch 54/100\n",
      "1408/1408 [==============================] - 3s - loss: 0.0010 - acc: 7.1023e-04 - val_loss: 0.0069 - val_acc: 0.0000e+00\n",
      "Epoch 55/100\n",
      "1408/1408 [==============================] - 3s - loss: 0.0011 - acc: 7.1023e-04 - val_loss: 0.0096 - val_acc: 0.0000e+00\n",
      "Epoch 56/100\n",
      "1408/1408 [==============================] - 3s - loss: 9.5423e-04 - acc: 7.1023e-04 - val_loss: 0.0069 - val_acc: 0.0000e+00\n",
      "Epoch 57/100\n",
      "1408/1408 [==============================] - 3s - loss: 0.0011 - acc: 7.1023e-04 - val_loss: 0.0085 - val_acc: 0.0000e+00\n",
      "Epoch 58/100\n",
      "1408/1408 [==============================] - 3s - loss: 9.8310e-04 - acc: 7.1023e-04 - val_loss: 0.0071 - val_acc: 0.0000e+00\n",
      "Epoch 59/100\n",
      "1408/1408 [==============================] - 3s - loss: 9.8089e-04 - acc: 7.1023e-04 - val_loss: 0.0085 - val_acc: 0.0000e+00\n",
      "Epoch 60/100\n",
      "1408/1408 [==============================] - 3s - loss: 9.7814e-04 - acc: 7.1023e-04 - val_loss: 0.0072 - val_acc: 0.0000e+00\n",
      "Epoch 61/100\n"
     ]
    },
    {
     "name": "stdout",
     "output_type": "stream",
     "text": [
      "1408/1408 [==============================] - 3s - loss: 0.0011 - acc: 7.1023e-04 - val_loss: 0.0071 - val_acc: 0.0000e+00\n",
      "Epoch 62/100\n",
      "1408/1408 [==============================] - 3s - loss: 0.0010 - acc: 7.1023e-04 - val_loss: 0.0083 - val_acc: 0.0000e+00\n",
      "Epoch 63/100\n",
      "1408/1408 [==============================] - 3s - loss: 9.1995e-04 - acc: 7.1023e-04 - val_loss: 0.0064 - val_acc: 0.0000e+00\n",
      "Epoch 64/100\n",
      "1408/1408 [==============================] - 3s - loss: 9.7502e-04 - acc: 7.1023e-04 - val_loss: 0.0084 - val_acc: 0.0000e+00\n",
      "Epoch 65/100\n",
      "1408/1408 [==============================] - 3s - loss: 0.0010 - acc: 7.1023e-04 - val_loss: 0.0058 - val_acc: 0.0000e+00\n",
      "Epoch 66/100\n",
      "1408/1408 [==============================] - 3s - loss: 9.2837e-04 - acc: 7.1023e-04 - val_loss: 0.0075 - val_acc: 0.0000e+00\n",
      "Epoch 67/100\n",
      "1408/1408 [==============================] - 3s - loss: 9.6588e-04 - acc: 7.1023e-04 - val_loss: 0.0062 - val_acc: 0.0000e+00\n",
      "Epoch 68/100\n",
      "1408/1408 [==============================] - 3s - loss: 9.7015e-04 - acc: 7.1023e-04 - val_loss: 0.0057 - val_acc: 0.0000e+00\n",
      "Epoch 69/100\n",
      "1408/1408 [==============================] - 3s - loss: 9.1539e-04 - acc: 7.1023e-04 - val_loss: 0.0073 - val_acc: 0.0000e+00\n",
      "Epoch 70/100\n",
      "1408/1408 [==============================] - 3s - loss: 9.5675e-04 - acc: 7.1023e-04 - val_loss: 0.0055 - val_acc: 0.0000e+00\n",
      "Epoch 71/100\n",
      "1408/1408 [==============================] - 3s - loss: 9.0837e-04 - acc: 7.1023e-04 - val_loss: 0.0058 - val_acc: 0.0000e+00\n",
      "Epoch 72/100\n",
      "1408/1408 [==============================] - 3s - loss: 9.4381e-04 - acc: 7.1023e-04 - val_loss: 0.0070 - val_acc: 0.0000e+00\n",
      "Epoch 73/100\n",
      "1408/1408 [==============================] - 3s - loss: 9.5123e-04 - acc: 7.1023e-04 - val_loss: 0.0055 - val_acc: 0.0000e+00\n",
      "Epoch 74/100\n",
      "1408/1408 [==============================] - 3s - loss: 9.3613e-04 - acc: 7.1023e-04 - val_loss: 0.0044 - val_acc: 0.0000e+00\n",
      "Epoch 75/100\n",
      "1408/1408 [==============================] - 3s - loss: 8.8599e-04 - acc: 7.1023e-04 - val_loss: 0.0052 - val_acc: 0.0000e+00\n",
      "Epoch 76/100\n",
      "1408/1408 [==============================] - 3s - loss: 9.0946e-04 - acc: 7.1023e-04 - val_loss: 0.0073 - val_acc: 0.0000e+00\n",
      "Epoch 77/100\n",
      "1408/1408 [==============================] - 4s - loss: 9.4767e-04 - acc: 7.1023e-04 - val_loss: 0.0050 - val_acc: 0.0000e+00\n",
      "Epoch 78/100\n",
      "1408/1408 [==============================] - 4s - loss: 9.7592e-04 - acc: 7.1023e-04 - val_loss: 0.0032 - val_acc: 0.0000e+00\n",
      "Epoch 79/100\n",
      "1408/1408 [==============================] - 3s - loss: 0.0010 - acc: 7.1023e-04 - val_loss: 0.0089 - val_acc: 0.0000e+00\n",
      "Epoch 80/100\n",
      "1408/1408 [==============================] - 3s - loss: 0.0011 - acc: 7.1023e-04 - val_loss: 0.0089 - val_acc: 0.0000e+00\n",
      "Epoch 81/100\n",
      "1408/1408 [==============================] - 3s - loss: 0.0010 - acc: 7.1023e-04 - val_loss: 0.0041 - val_acc: 0.0000e+00\n",
      "Epoch 82/100\n",
      "1408/1408 [==============================] - 3s - loss: 0.0010 - acc: 7.1023e-04 - val_loss: 0.0074 - val_acc: 0.0000e+00\n",
      "Epoch 83/100\n",
      "1408/1408 [==============================] - 3s - loss: 9.3229e-04 - acc: 7.1023e-04 - val_loss: 0.0072 - val_acc: 0.0000e+00\n",
      "Epoch 84/100\n",
      "1408/1408 [==============================] - 3s - loss: 8.8501e-04 - acc: 7.1023e-04 - val_loss: 0.0050 - val_acc: 0.0000e+00\n",
      "Epoch 85/100\n",
      "1408/1408 [==============================] - 3s - loss: 8.5431e-04 - acc: 7.1023e-04 - val_loss: 0.0053 - val_acc: 0.0000e+00\n",
      "Epoch 86/100\n",
      "1408/1408 [==============================] - 3s - loss: 9.4532e-04 - acc: 7.1023e-04 - val_loss: 0.0067 - val_acc: 0.0000e+00\n",
      "Epoch 87/100\n",
      "1408/1408 [==============================] - 3s - loss: 8.7792e-04 - acc: 7.1023e-04 - val_loss: 0.0080 - val_acc: 0.0000e+00\n",
      "Epoch 88/100\n",
      "1408/1408 [==============================] - 3s - loss: 8.8283e-04 - acc: 7.1023e-04 - val_loss: 0.0041 - val_acc: 0.0000e+00\n",
      "Epoch 89/100\n",
      "1408/1408 [==============================] - 3s - loss: 9.0445e-04 - acc: 7.1023e-04 - val_loss: 0.0058 - val_acc: 0.0000e+00\n",
      "Epoch 90/100\n",
      "1408/1408 [==============================] - 3s - loss: 9.1826e-04 - acc: 7.1023e-04 - val_loss: 0.0075 - val_acc: 0.0000e+00\n",
      "Epoch 91/100\n",
      "1408/1408 [==============================] - 3s - loss: 9.4972e-04 - acc: 7.1023e-04 - val_loss: 0.0068 - val_acc: 0.0000e+00\n",
      "Epoch 92/100\n",
      "1408/1408 [==============================] - 3s - loss: 8.6637e-04 - acc: 7.1023e-04 - val_loss: 0.0031 - val_acc: 0.0000e+00\n",
      "Epoch 93/100\n",
      "1408/1408 [==============================] - 3s - loss: 9.8482e-04 - acc: 7.1023e-04 - val_loss: 0.0066 - val_acc: 0.0000e+00\n",
      "Epoch 94/100\n",
      "1408/1408 [==============================] - 3s - loss: 8.7785e-04 - acc: 7.1023e-04 - val_loss: 0.0077 - val_acc: 0.0000e+00\n",
      "Epoch 95/100\n",
      "1408/1408 [==============================] - 3s - loss: 8.4545e-04 - acc: 7.1023e-04 - val_loss: 0.0038 - val_acc: 0.0000e+00\n",
      "Epoch 96/100\n",
      "1408/1408 [==============================] - 3s - loss: 9.4361e-04 - acc: 7.1023e-04 - val_loss: 0.0060 - val_acc: 0.0000e+00\n",
      "Epoch 97/100\n",
      "1408/1408 [==============================] - 3s - loss: 9.2234e-04 - acc: 7.1023e-04 - val_loss: 0.0108 - val_acc: 0.0000e+00\n",
      "Epoch 98/100\n",
      "1408/1408 [==============================] - 3s - loss: 9.0764e-04 - acc: 7.1023e-04 - val_loss: 0.0033 - val_acc: 0.0000e+00\n",
      "Epoch 99/100\n",
      "1408/1408 [==============================] - 3s - loss: 9.3165e-04 - acc: 7.1023e-04 - val_loss: 0.0053 - val_acc: 0.0000e+00\n",
      "Epoch 100/100\n",
      "1408/1408 [==============================] - 3s - loss: 8.8075e-04 - acc: 7.1023e-04 - val_loss: 0.0081 - val_acc: 0.0000e+00\n"
     ]
    },
    {
     "data": {
      "text/plain": [
       "<keras.callbacks.History at 0x7f0eb074d630>"
      ]
     },
     "execution_count": 33,
     "metadata": {},
     "output_type": "execute_result"
    }
   ],
   "source": [
    "model.fit(X_train,y_train,batch_size=512,epochs=100,validation_split=0.1,verbose=1)"
   ]
  },
  {
   "cell_type": "code",
   "execution_count": 34,
   "metadata": {},
   "outputs": [
    {
     "name": "stdout",
     "output_type": "stream",
     "text": [
      "(174, 1)\n"
     ]
    }
   ],
   "source": [
    "# print(X_test[-1])\n",
    "diff=[]\n",
    "ratio=[]\n",
    "p = model.predict(X_test)\n",
    "print (p.shape)\n",
    "# for each data index in test data\n",
    "for u in range(len(y_test)):\n",
    "    # pr = prediction day u\n",
    "    pr = p[u][0]\n",
    "    # (y_test day u / pr) - 1\n",
    "    ratio.append((y_test[u]/pr)-1)\n",
    "    diff.append(abs(y_test[u]- pr))\n",
    "    # print(u, y_test[u], pr, (y_test[u]/pr)-1, abs(y_test[u]- pr))\n",
    "    # Last day prediction\n",
    "    # print(p[-1]) "
   ]
  },
  {
   "cell_type": "markdown",
   "metadata": {},
   "source": [
    "# Denormalize the Data"
   ]
  },
  {
   "cell_type": "code",
   "execution_count": 35,
   "metadata": {
    "collapsed": true
   },
   "outputs": [],
   "source": [
    "adj2 = pd.read_csv(\"./prices-split-adjusted.csv\", index_col = 0)\n",
    "adj2[\"adj close\"] = adj2.close # Moving close to the last column\n",
    "adj2.drop(['close'], 1, inplace=True) # Moving close to the last column\n",
    "adj2 = adj2[adj2.symbol == 'GOOG']\n",
    "adj2.drop(['symbol'],1,inplace=True)\n",
    "\n",
    "# Bug fixed at here, please update the denormalize function to this one\n",
    "def denormalize(adj2, normalized_value): \n",
    "    adj2 = adj2['adj close'].values.reshape(-1,1)\n",
    "    normalized_value = normalized_value.reshape(-1,1)\n",
    "    \n",
    "    #return df.shape, p.shape\n",
    "    min_max_scaler = preprocessing.MinMaxScaler()\n",
    "    a = min_max_scaler.fit_transform(adj2)\n",
    "    new = min_max_scaler.inverse_transform(normalized_value)\n",
    "    return new\n",
    "\n",
    "newp = denormalize(adj2, p)\n",
    "newy_test = denormalize(adj2, y_test)"
   ]
  },
  {
   "cell_type": "markdown",
   "metadata": {},
   "source": [
    "# Creating a Model Score"
   ]
  },
  {
   "cell_type": "code",
   "execution_count": 36,
   "metadata": {},
   "outputs": [
    {
     "name": "stdout",
     "output_type": "stream",
     "text": [
      "Train Score: 0.00139 MSE (0.04 RMSE)\n",
      "Test Score: 0.01202 MSE (0.11 RMSE)\n"
     ]
    },
    {
     "data": {
      "text/plain": [
       "(0.0013875613197351035, 0.01202384847077145)"
      ]
     },
     "execution_count": 36,
     "metadata": {},
     "output_type": "execute_result"
    }
   ],
   "source": [
    "def model_score(model, X_train, y_train, X_test, y_test):\n",
    "    trainScore = model.evaluate(X_train, y_train, verbose=0)\n",
    "    print('Train Score: %.5f MSE (%.2f RMSE)' % (trainScore[0], math.sqrt(trainScore[0])))\n",
    "\n",
    "    testScore = model.evaluate(X_test, y_test, verbose=0)\n",
    "    print('Test Score: %.5f MSE (%.2f RMSE)' % (testScore[0], math.sqrt(testScore[0])))\n",
    "    return trainScore[0], testScore[0]\n",
    "\n",
    "\n",
    "model_score(model, X_train, y_train, X_test, y_test)"
   ]
  },
  {
   "cell_type": "markdown",
   "metadata": {},
   "source": [
    "# Creating Visualizations"
   ]
  },
  {
   "cell_type": "code",
   "execution_count": 37,
   "metadata": {},
   "outputs": [
    {
     "data": {
      "image/png": "[encoded data removed]",
      "text/plain": [
       "<matplotlib.figure.Figure at 0x7f0e9700b2b0>"
      ]
     },
     "metadata": {},
     "output_type": "display_data"
    }
   ],
   "source": [
    "import matplotlib.pyplot as plt2\n",
    "\n",
    "plt2.plot(newp,color='orange', label='Prediction')\n",
    "plt2.plot(newy_test,color='red', label='Actual')\n",
    "plt2.legend(loc='best')\n",
    "plt2.show()"
   ]
  },
  {
   "cell_type": "code",
   "execution_count": null,
   "metadata": {
    "collapsed": true
   },
   "outputs": [],
   "source": []
  },
  {
   "cell_type": "code",
   "execution_count": null,
   "metadata": {
    "collapsed": true
   },
   "outputs": [],
   "source": []
  },
  {
   "cell_type": "code",
   "execution_count": null,
   "metadata": {
    "collapsed": true
   },
   "outputs": [],
   "source": []
  },
  {
   "cell_type": "code",
   "execution_count": null,
   "metadata": {
    "collapsed": true
   },
   "outputs": [],
   "source": []
  },
  {
   "cell_type": "code",
   "execution_count": null,
   "metadata": {
    "collapsed": true
   },
   "outputs": [],
   "source": []
  }
 ],
 "metadata": {
  "kernelspec": {
   "display_name": "Python 3",
   "language": "python",
   "name": "python3"
  },
  "language_info": {
   "codemirror_mode": {
    "name": "ipython",
    "version": 3
   },
   "file_extension": ".py",
   "mimetype": "text/x-python",
   "name": "python",
   "nbconvert_exporter": "python",
   "pygments_lexer": "ipython3",
   "version": "3.6.2"
  }
 },
 "nbformat": 4,
 "nbformat_minor": 2
}
